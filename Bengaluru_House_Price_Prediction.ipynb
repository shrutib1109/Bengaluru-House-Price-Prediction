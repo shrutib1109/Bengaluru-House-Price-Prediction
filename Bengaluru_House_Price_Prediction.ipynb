{
  "nbformat": 4,
  "nbformat_minor": 0,
  "metadata": {
    "colab": {
      "provenance": [],
      "authorship_tag": "ABX9TyP7g/MtdM15COy3YahwtRwK",
      "include_colab_link": true
    },
    "kernelspec": {
      "name": "python3",
      "display_name": "Python 3"
    },
    "language_info": {
      "name": "python"
    }
  },
  "cells": [
    {
      "cell_type": "markdown",
      "metadata": {
        "id": "view-in-github",
        "colab_type": "text"
      },
      "source": [
        "<a href=\"https://colab.research.google.com/github/shrutib1109/Bengaluru-House-Price-Prediction/blob/main/Bengaluru_House_Price_Prediction.ipynb\" target=\"_parent\"><img src=\"https://colab.research.google.com/assets/colab-badge.svg\" alt=\"Open In Colab\"/></a>"
      ]
    },
    {
      "cell_type": "code",
      "execution_count": null,
      "metadata": {
        "id": "UlOKob5uVnPT"
      },
      "outputs": [],
      "source": [
        "import pandas as pd\n",
        "import numpy as np\n",
        "import matplotlib.pyplot as plt\n",
        "%matplotlib inline\n",
        "import seaborn as sns\n",
        "plt.rcParams[\"figure.figsize\"]=(12,8)"
      ]
    },
    {
      "cell_type": "code",
      "source": [
        "df=pd.read_csv(\"Bengaluru_house_price_data.csv\")\n",
        "df.head()"
      ],
      "metadata": {
        "colab": {
          "base_uri": "https://localhost:8080/",
          "height": 206
        },
        "id": "Bdm2_G-MYwEc",
        "outputId": "316fca0f-63ac-45e5-d6d2-0eb3453e6478"
      },
      "execution_count": null,
      "outputs": [
        {
          "output_type": "execute_result",
          "data": {
            "text/plain": [
              "              area_type   availability                  location       size  \\\n",
              "0  Super built-up  Area         19-Dec  Electronic City Phase II      2 BHK   \n",
              "1            Plot  Area  Ready To Move          Chikka Tirupathi  4 Bedroom   \n",
              "2        Built-up  Area  Ready To Move               Uttarahalli      3 BHK   \n",
              "3  Super built-up  Area  Ready To Move        Lingadheeranahalli      3 BHK   \n",
              "4  Super built-up  Area  Ready To Move                  Kothanur      2 BHK   \n",
              "\n",
              "   society total_sqft  bath  balcony   price  \n",
              "0  Coomee        1056   2.0      1.0   39.07  \n",
              "1  Theanmp       2600   5.0      3.0  120.00  \n",
              "2      NaN       1440   2.0      3.0   62.00  \n",
              "3  Soiewre       1521   3.0      1.0   95.00  \n",
              "4      NaN       1200   2.0      1.0   51.00  "
            ],
            "text/html": [
              "\n",
              "  <div id=\"df-c9f6f039-06c2-4f5d-9540-08c696fc49b1\">\n",
              "    <div class=\"colab-df-container\">\n",
              "      <div>\n",
              "<style scoped>\n",
              "    .dataframe tbody tr th:only-of-type {\n",
              "        vertical-align: middle;\n",
              "    }\n",
              "\n",
              "    .dataframe tbody tr th {\n",
              "        vertical-align: top;\n",
              "    }\n",
              "\n",
              "    .dataframe thead th {\n",
              "        text-align: right;\n",
              "    }\n",
              "</style>\n",
              "<table border=\"1\" class=\"dataframe\">\n",
              "  <thead>\n",
              "    <tr style=\"text-align: right;\">\n",
              "      <th></th>\n",
              "      <th>area_type</th>\n",
              "      <th>availability</th>\n",
              "      <th>location</th>\n",
              "      <th>size</th>\n",
              "      <th>society</th>\n",
              "      <th>total_sqft</th>\n",
              "      <th>bath</th>\n",
              "      <th>balcony</th>\n",
              "      <th>price</th>\n",
              "    </tr>\n",
              "  </thead>\n",
              "  <tbody>\n",
              "    <tr>\n",
              "      <th>0</th>\n",
              "      <td>Super built-up  Area</td>\n",
              "      <td>19-Dec</td>\n",
              "      <td>Electronic City Phase II</td>\n",
              "      <td>2 BHK</td>\n",
              "      <td>Coomee</td>\n",
              "      <td>1056</td>\n",
              "      <td>2.0</td>\n",
              "      <td>1.0</td>\n",
              "      <td>39.07</td>\n",
              "    </tr>\n",
              "    <tr>\n",
              "      <th>1</th>\n",
              "      <td>Plot  Area</td>\n",
              "      <td>Ready To Move</td>\n",
              "      <td>Chikka Tirupathi</td>\n",
              "      <td>4 Bedroom</td>\n",
              "      <td>Theanmp</td>\n",
              "      <td>2600</td>\n",
              "      <td>5.0</td>\n",
              "      <td>3.0</td>\n",
              "      <td>120.00</td>\n",
              "    </tr>\n",
              "    <tr>\n",
              "      <th>2</th>\n",
              "      <td>Built-up  Area</td>\n",
              "      <td>Ready To Move</td>\n",
              "      <td>Uttarahalli</td>\n",
              "      <td>3 BHK</td>\n",
              "      <td>NaN</td>\n",
              "      <td>1440</td>\n",
              "      <td>2.0</td>\n",
              "      <td>3.0</td>\n",
              "      <td>62.00</td>\n",
              "    </tr>\n",
              "    <tr>\n",
              "      <th>3</th>\n",
              "      <td>Super built-up  Area</td>\n",
              "      <td>Ready To Move</td>\n",
              "      <td>Lingadheeranahalli</td>\n",
              "      <td>3 BHK</td>\n",
              "      <td>Soiewre</td>\n",
              "      <td>1521</td>\n",
              "      <td>3.0</td>\n",
              "      <td>1.0</td>\n",
              "      <td>95.00</td>\n",
              "    </tr>\n",
              "    <tr>\n",
              "      <th>4</th>\n",
              "      <td>Super built-up  Area</td>\n",
              "      <td>Ready To Move</td>\n",
              "      <td>Kothanur</td>\n",
              "      <td>2 BHK</td>\n",
              "      <td>NaN</td>\n",
              "      <td>1200</td>\n",
              "      <td>2.0</td>\n",
              "      <td>1.0</td>\n",
              "      <td>51.00</td>\n",
              "    </tr>\n",
              "  </tbody>\n",
              "</table>\n",
              "</div>\n",
              "      <button class=\"colab-df-convert\" onclick=\"convertToInteractive('df-c9f6f039-06c2-4f5d-9540-08c696fc49b1')\"\n",
              "              title=\"Convert this dataframe to an interactive table.\"\n",
              "              style=\"display:none;\">\n",
              "        \n",
              "  <svg xmlns=\"http://www.w3.org/2000/svg\" height=\"24px\"viewBox=\"0 0 24 24\"\n",
              "       width=\"24px\">\n",
              "    <path d=\"M0 0h24v24H0V0z\" fill=\"none\"/>\n",
              "    <path d=\"M18.56 5.44l.94 2.06.94-2.06 2.06-.94-2.06-.94-.94-2.06-.94 2.06-2.06.94zm-11 1L8.5 8.5l.94-2.06 2.06-.94-2.06-.94L8.5 2.5l-.94 2.06-2.06.94zm10 10l.94 2.06.94-2.06 2.06-.94-2.06-.94-.94-2.06-.94 2.06-2.06.94z\"/><path d=\"M17.41 7.96l-1.37-1.37c-.4-.4-.92-.59-1.43-.59-.52 0-1.04.2-1.43.59L10.3 9.45l-7.72 7.72c-.78.78-.78 2.05 0 2.83L4 21.41c.39.39.9.59 1.41.59.51 0 1.02-.2 1.41-.59l7.78-7.78 2.81-2.81c.8-.78.8-2.07 0-2.86zM5.41 20L4 18.59l7.72-7.72 1.47 1.35L5.41 20z\"/>\n",
              "  </svg>\n",
              "      </button>\n",
              "      \n",
              "  <style>\n",
              "    .colab-df-container {\n",
              "      display:flex;\n",
              "      flex-wrap:wrap;\n",
              "      gap: 12px;\n",
              "    }\n",
              "\n",
              "    .colab-df-convert {\n",
              "      background-color: #E8F0FE;\n",
              "      border: none;\n",
              "      border-radius: 50%;\n",
              "      cursor: pointer;\n",
              "      display: none;\n",
              "      fill: #1967D2;\n",
              "      height: 32px;\n",
              "      padding: 0 0 0 0;\n",
              "      width: 32px;\n",
              "    }\n",
              "\n",
              "    .colab-df-convert:hover {\n",
              "      background-color: #E2EBFA;\n",
              "      box-shadow: 0px 1px 2px rgba(60, 64, 67, 0.3), 0px 1px 3px 1px rgba(60, 64, 67, 0.15);\n",
              "      fill: #174EA6;\n",
              "    }\n",
              "\n",
              "    [theme=dark] .colab-df-convert {\n",
              "      background-color: #3B4455;\n",
              "      fill: #D2E3FC;\n",
              "    }\n",
              "\n",
              "    [theme=dark] .colab-df-convert:hover {\n",
              "      background-color: #434B5C;\n",
              "      box-shadow: 0px 1px 3px 1px rgba(0, 0, 0, 0.15);\n",
              "      filter: drop-shadow(0px 1px 2px rgba(0, 0, 0, 0.3));\n",
              "      fill: #FFFFFF;\n",
              "    }\n",
              "  </style>\n",
              "\n",
              "      <script>\n",
              "        const buttonEl =\n",
              "          document.querySelector('#df-c9f6f039-06c2-4f5d-9540-08c696fc49b1 button.colab-df-convert');\n",
              "        buttonEl.style.display =\n",
              "          google.colab.kernel.accessAllowed ? 'block' : 'none';\n",
              "\n",
              "        async function convertToInteractive(key) {\n",
              "          const element = document.querySelector('#df-c9f6f039-06c2-4f5d-9540-08c696fc49b1');\n",
              "          const dataTable =\n",
              "            await google.colab.kernel.invokeFunction('convertToInteractive',\n",
              "                                                     [key], {});\n",
              "          if (!dataTable) return;\n",
              "\n",
              "          const docLinkHtml = 'Like what you see? Visit the ' +\n",
              "            '<a target=\"_blank\" href=https://colab.research.google.com/notebooks/data_table.ipynb>data table notebook</a>'\n",
              "            + ' to learn more about interactive tables.';\n",
              "          element.innerHTML = '';\n",
              "          dataTable['output_type'] = 'display_data';\n",
              "          await google.colab.output.renderOutput(dataTable, element);\n",
              "          const docLink = document.createElement('div');\n",
              "          docLink.innerHTML = docLinkHtml;\n",
              "          element.appendChild(docLink);\n",
              "        }\n",
              "      </script>\n",
              "    </div>\n",
              "  </div>\n",
              "  "
            ]
          },
          "metadata": {},
          "execution_count": 3
        }
      ]
    },
    {
      "cell_type": "code",
      "source": [
        "df.shape"
      ],
      "metadata": {
        "colab": {
          "base_uri": "https://localhost:8080/"
        },
        "id": "s9kW39_JkHd0",
        "outputId": "626370de-3b38-48c8-c689-ebfcd2bbf1f4"
      },
      "execution_count": null,
      "outputs": [
        {
          "output_type": "execute_result",
          "data": {
            "text/plain": [
              "(13320, 9)"
            ]
          },
          "metadata": {},
          "execution_count": 4
        }
      ]
    },
    {
      "cell_type": "code",
      "source": [
        "df.groupby(\"area_type\")[\"area_type\"].agg('count')"
      ],
      "metadata": {
        "colab": {
          "base_uri": "https://localhost:8080/"
        },
        "id": "0qTGU_lOZKbf",
        "outputId": "e6691dc2-1b69-47c0-fbb6-000c250563b6"
      },
      "execution_count": null,
      "outputs": [
        {
          "output_type": "execute_result",
          "data": {
            "text/plain": [
              "area_type\n",
              "Built-up  Area          2418\n",
              "Carpet  Area              87\n",
              "Plot  Area              2025\n",
              "Super built-up  Area    8790\n",
              "Name: area_type, dtype: int64"
            ]
          },
          "metadata": {},
          "execution_count": 5
        }
      ]
    },
    {
      "cell_type": "code",
      "source": [
        "df1=df.drop(['area_type','availability','society','balcony'],axis=1)\n",
        "df1.head()"
      ],
      "metadata": {
        "colab": {
          "base_uri": "https://localhost:8080/",
          "height": 206
        },
        "id": "4aMYrMN_kV72",
        "outputId": "ce9fba0f-3cd8-4afa-9e92-17fbd5dcea33"
      },
      "execution_count": null,
      "outputs": [
        {
          "output_type": "execute_result",
          "data": {
            "text/plain": [
              "                   location       size total_sqft  bath   price\n",
              "0  Electronic City Phase II      2 BHK       1056   2.0   39.07\n",
              "1          Chikka Tirupathi  4 Bedroom       2600   5.0  120.00\n",
              "2               Uttarahalli      3 BHK       1440   2.0   62.00\n",
              "3        Lingadheeranahalli      3 BHK       1521   3.0   95.00\n",
              "4                  Kothanur      2 BHK       1200   2.0   51.00"
            ],
            "text/html": [
              "\n",
              "  <div id=\"df-235c94d3-acc7-4c44-b308-f65353047583\">\n",
              "    <div class=\"colab-df-container\">\n",
              "      <div>\n",
              "<style scoped>\n",
              "    .dataframe tbody tr th:only-of-type {\n",
              "        vertical-align: middle;\n",
              "    }\n",
              "\n",
              "    .dataframe tbody tr th {\n",
              "        vertical-align: top;\n",
              "    }\n",
              "\n",
              "    .dataframe thead th {\n",
              "        text-align: right;\n",
              "    }\n",
              "</style>\n",
              "<table border=\"1\" class=\"dataframe\">\n",
              "  <thead>\n",
              "    <tr style=\"text-align: right;\">\n",
              "      <th></th>\n",
              "      <th>location</th>\n",
              "      <th>size</th>\n",
              "      <th>total_sqft</th>\n",
              "      <th>bath</th>\n",
              "      <th>price</th>\n",
              "    </tr>\n",
              "  </thead>\n",
              "  <tbody>\n",
              "    <tr>\n",
              "      <th>0</th>\n",
              "      <td>Electronic City Phase II</td>\n",
              "      <td>2 BHK</td>\n",
              "      <td>1056</td>\n",
              "      <td>2.0</td>\n",
              "      <td>39.07</td>\n",
              "    </tr>\n",
              "    <tr>\n",
              "      <th>1</th>\n",
              "      <td>Chikka Tirupathi</td>\n",
              "      <td>4 Bedroom</td>\n",
              "      <td>2600</td>\n",
              "      <td>5.0</td>\n",
              "      <td>120.00</td>\n",
              "    </tr>\n",
              "    <tr>\n",
              "      <th>2</th>\n",
              "      <td>Uttarahalli</td>\n",
              "      <td>3 BHK</td>\n",
              "      <td>1440</td>\n",
              "      <td>2.0</td>\n",
              "      <td>62.00</td>\n",
              "    </tr>\n",
              "    <tr>\n",
              "      <th>3</th>\n",
              "      <td>Lingadheeranahalli</td>\n",
              "      <td>3 BHK</td>\n",
              "      <td>1521</td>\n",
              "      <td>3.0</td>\n",
              "      <td>95.00</td>\n",
              "    </tr>\n",
              "    <tr>\n",
              "      <th>4</th>\n",
              "      <td>Kothanur</td>\n",
              "      <td>2 BHK</td>\n",
              "      <td>1200</td>\n",
              "      <td>2.0</td>\n",
              "      <td>51.00</td>\n",
              "    </tr>\n",
              "  </tbody>\n",
              "</table>\n",
              "</div>\n",
              "      <button class=\"colab-df-convert\" onclick=\"convertToInteractive('df-235c94d3-acc7-4c44-b308-f65353047583')\"\n",
              "              title=\"Convert this dataframe to an interactive table.\"\n",
              "              style=\"display:none;\">\n",
              "        \n",
              "  <svg xmlns=\"http://www.w3.org/2000/svg\" height=\"24px\"viewBox=\"0 0 24 24\"\n",
              "       width=\"24px\">\n",
              "    <path d=\"M0 0h24v24H0V0z\" fill=\"none\"/>\n",
              "    <path d=\"M18.56 5.44l.94 2.06.94-2.06 2.06-.94-2.06-.94-.94-2.06-.94 2.06-2.06.94zm-11 1L8.5 8.5l.94-2.06 2.06-.94-2.06-.94L8.5 2.5l-.94 2.06-2.06.94zm10 10l.94 2.06.94-2.06 2.06-.94-2.06-.94-.94-2.06-.94 2.06-2.06.94z\"/><path d=\"M17.41 7.96l-1.37-1.37c-.4-.4-.92-.59-1.43-.59-.52 0-1.04.2-1.43.59L10.3 9.45l-7.72 7.72c-.78.78-.78 2.05 0 2.83L4 21.41c.39.39.9.59 1.41.59.51 0 1.02-.2 1.41-.59l7.78-7.78 2.81-2.81c.8-.78.8-2.07 0-2.86zM5.41 20L4 18.59l7.72-7.72 1.47 1.35L5.41 20z\"/>\n",
              "  </svg>\n",
              "      </button>\n",
              "      \n",
              "  <style>\n",
              "    .colab-df-container {\n",
              "      display:flex;\n",
              "      flex-wrap:wrap;\n",
              "      gap: 12px;\n",
              "    }\n",
              "\n",
              "    .colab-df-convert {\n",
              "      background-color: #E8F0FE;\n",
              "      border: none;\n",
              "      border-radius: 50%;\n",
              "      cursor: pointer;\n",
              "      display: none;\n",
              "      fill: #1967D2;\n",
              "      height: 32px;\n",
              "      padding: 0 0 0 0;\n",
              "      width: 32px;\n",
              "    }\n",
              "\n",
              "    .colab-df-convert:hover {\n",
              "      background-color: #E2EBFA;\n",
              "      box-shadow: 0px 1px 2px rgba(60, 64, 67, 0.3), 0px 1px 3px 1px rgba(60, 64, 67, 0.15);\n",
              "      fill: #174EA6;\n",
              "    }\n",
              "\n",
              "    [theme=dark] .colab-df-convert {\n",
              "      background-color: #3B4455;\n",
              "      fill: #D2E3FC;\n",
              "    }\n",
              "\n",
              "    [theme=dark] .colab-df-convert:hover {\n",
              "      background-color: #434B5C;\n",
              "      box-shadow: 0px 1px 3px 1px rgba(0, 0, 0, 0.15);\n",
              "      filter: drop-shadow(0px 1px 2px rgba(0, 0, 0, 0.3));\n",
              "      fill: #FFFFFF;\n",
              "    }\n",
              "  </style>\n",
              "\n",
              "      <script>\n",
              "        const buttonEl =\n",
              "          document.querySelector('#df-235c94d3-acc7-4c44-b308-f65353047583 button.colab-df-convert');\n",
              "        buttonEl.style.display =\n",
              "          google.colab.kernel.accessAllowed ? 'block' : 'none';\n",
              "\n",
              "        async function convertToInteractive(key) {\n",
              "          const element = document.querySelector('#df-235c94d3-acc7-4c44-b308-f65353047583');\n",
              "          const dataTable =\n",
              "            await google.colab.kernel.invokeFunction('convertToInteractive',\n",
              "                                                     [key], {});\n",
              "          if (!dataTable) return;\n",
              "\n",
              "          const docLinkHtml = 'Like what you see? Visit the ' +\n",
              "            '<a target=\"_blank\" href=https://colab.research.google.com/notebooks/data_table.ipynb>data table notebook</a>'\n",
              "            + ' to learn more about interactive tables.';\n",
              "          element.innerHTML = '';\n",
              "          dataTable['output_type'] = 'display_data';\n",
              "          await google.colab.output.renderOutput(dataTable, element);\n",
              "          const docLink = document.createElement('div');\n",
              "          docLink.innerHTML = docLinkHtml;\n",
              "          element.appendChild(docLink);\n",
              "        }\n",
              "      </script>\n",
              "    </div>\n",
              "  </div>\n",
              "  "
            ]
          },
          "metadata": {},
          "execution_count": 7
        }
      ]
    },
    {
      "cell_type": "code",
      "source": [
        "df1.isnull().sum()"
      ],
      "metadata": {
        "colab": {
          "base_uri": "https://localhost:8080/"
        },
        "id": "ziIi3OOIsaLk",
        "outputId": "0bb1a213-e134-4630-f30a-0aa231182043"
      },
      "execution_count": null,
      "outputs": [
        {
          "output_type": "execute_result",
          "data": {
            "text/plain": [
              "location       1\n",
              "size          16\n",
              "total_sqft     0\n",
              "bath          73\n",
              "price          0\n",
              "dtype: int64"
            ]
          },
          "metadata": {},
          "execution_count": 8
        }
      ]
    },
    {
      "cell_type": "code",
      "source": [
        "#dropping null since the number of null is small\n",
        "df1=df1.dropna()"
      ],
      "metadata": {
        "id": "HFyxPOgeshPL"
      },
      "execution_count": null,
      "outputs": []
    },
    {
      "cell_type": "code",
      "source": [
        "df1.isnull().sum()"
      ],
      "metadata": {
        "colab": {
          "base_uri": "https://localhost:8080/"
        },
        "id": "xaNdiPLJsk7N",
        "outputId": "e1d6c253-b6db-4b58-eda2-7d3f8a446547"
      },
      "execution_count": null,
      "outputs": [
        {
          "output_type": "execute_result",
          "data": {
            "text/plain": [
              "location      0\n",
              "size          0\n",
              "total_sqft    0\n",
              "bath          0\n",
              "price         0\n",
              "dtype: int64"
            ]
          },
          "metadata": {},
          "execution_count": 12
        }
      ]
    },
    {
      "cell_type": "code",
      "source": [
        "df1['size'].unique()"
      ],
      "metadata": {
        "colab": {
          "base_uri": "https://localhost:8080/"
        },
        "id": "DZ-S5syStPNR",
        "outputId": "96c4f39b-0c03-40e0-808a-cb908605d854"
      },
      "execution_count": null,
      "outputs": [
        {
          "output_type": "execute_result",
          "data": {
            "text/plain": [
              "array(['2 BHK', '4 Bedroom', '3 BHK', '4 BHK', '6 Bedroom', '3 Bedroom',\n",
              "       '1 BHK', '1 RK', '1 Bedroom', '8 Bedroom', '2 Bedroom',\n",
              "       '7 Bedroom', '5 BHK', '7 BHK', '6 BHK', '5 Bedroom', '11 BHK',\n",
              "       '9 BHK', '9 Bedroom', '27 BHK', '10 Bedroom', '11 Bedroom',\n",
              "       '10 BHK', '19 BHK', '16 BHK', '43 Bedroom', '14 BHK', '8 BHK',\n",
              "       '12 Bedroom', '13 BHK', '18 Bedroom'], dtype=object)"
            ]
          },
          "metadata": {},
          "execution_count": 14
        }
      ]
    },
    {
      "cell_type": "code",
      "source": [
        "df1['BHK']=df1['size'].apply(lambda x: int(x.split(\" \")[0]))"
      ],
      "metadata": {
        "id": "GF0ZQaCRtblA"
      },
      "execution_count": null,
      "outputs": []
    },
    {
      "cell_type": "code",
      "source": [
        "df1.head()"
      ],
      "metadata": {
        "colab": {
          "base_uri": "https://localhost:8080/",
          "height": 206
        },
        "id": "2Ehzdya8t5B5",
        "outputId": "37c5eb0f-be47-4fae-e1f7-61420b58c63e"
      },
      "execution_count": null,
      "outputs": [
        {
          "output_type": "execute_result",
          "data": {
            "text/plain": [
              "                   location       size total_sqft  bath   price  BHK\n",
              "0  Electronic City Phase II      2 BHK       1056   2.0   39.07    2\n",
              "1          Chikka Tirupathi  4 Bedroom       2600   5.0  120.00    4\n",
              "2               Uttarahalli      3 BHK       1440   2.0   62.00    3\n",
              "3        Lingadheeranahalli      3 BHK       1521   3.0   95.00    3\n",
              "4                  Kothanur      2 BHK       1200   2.0   51.00    2"
            ],
            "text/html": [
              "\n",
              "  <div id=\"df-56fab82e-dce6-4662-bbaf-53abe9cfdbf1\">\n",
              "    <div class=\"colab-df-container\">\n",
              "      <div>\n",
              "<style scoped>\n",
              "    .dataframe tbody tr th:only-of-type {\n",
              "        vertical-align: middle;\n",
              "    }\n",
              "\n",
              "    .dataframe tbody tr th {\n",
              "        vertical-align: top;\n",
              "    }\n",
              "\n",
              "    .dataframe thead th {\n",
              "        text-align: right;\n",
              "    }\n",
              "</style>\n",
              "<table border=\"1\" class=\"dataframe\">\n",
              "  <thead>\n",
              "    <tr style=\"text-align: right;\">\n",
              "      <th></th>\n",
              "      <th>location</th>\n",
              "      <th>size</th>\n",
              "      <th>total_sqft</th>\n",
              "      <th>bath</th>\n",
              "      <th>price</th>\n",
              "      <th>BHK</th>\n",
              "    </tr>\n",
              "  </thead>\n",
              "  <tbody>\n",
              "    <tr>\n",
              "      <th>0</th>\n",
              "      <td>Electronic City Phase II</td>\n",
              "      <td>2 BHK</td>\n",
              "      <td>1056</td>\n",
              "      <td>2.0</td>\n",
              "      <td>39.07</td>\n",
              "      <td>2</td>\n",
              "    </tr>\n",
              "    <tr>\n",
              "      <th>1</th>\n",
              "      <td>Chikka Tirupathi</td>\n",
              "      <td>4 Bedroom</td>\n",
              "      <td>2600</td>\n",
              "      <td>5.0</td>\n",
              "      <td>120.00</td>\n",
              "      <td>4</td>\n",
              "    </tr>\n",
              "    <tr>\n",
              "      <th>2</th>\n",
              "      <td>Uttarahalli</td>\n",
              "      <td>3 BHK</td>\n",
              "      <td>1440</td>\n",
              "      <td>2.0</td>\n",
              "      <td>62.00</td>\n",
              "      <td>3</td>\n",
              "    </tr>\n",
              "    <tr>\n",
              "      <th>3</th>\n",
              "      <td>Lingadheeranahalli</td>\n",
              "      <td>3 BHK</td>\n",
              "      <td>1521</td>\n",
              "      <td>3.0</td>\n",
              "      <td>95.00</td>\n",
              "      <td>3</td>\n",
              "    </tr>\n",
              "    <tr>\n",
              "      <th>4</th>\n",
              "      <td>Kothanur</td>\n",
              "      <td>2 BHK</td>\n",
              "      <td>1200</td>\n",
              "      <td>2.0</td>\n",
              "      <td>51.00</td>\n",
              "      <td>2</td>\n",
              "    </tr>\n",
              "  </tbody>\n",
              "</table>\n",
              "</div>\n",
              "      <button class=\"colab-df-convert\" onclick=\"convertToInteractive('df-56fab82e-dce6-4662-bbaf-53abe9cfdbf1')\"\n",
              "              title=\"Convert this dataframe to an interactive table.\"\n",
              "              style=\"display:none;\">\n",
              "        \n",
              "  <svg xmlns=\"http://www.w3.org/2000/svg\" height=\"24px\"viewBox=\"0 0 24 24\"\n",
              "       width=\"24px\">\n",
              "    <path d=\"M0 0h24v24H0V0z\" fill=\"none\"/>\n",
              "    <path d=\"M18.56 5.44l.94 2.06.94-2.06 2.06-.94-2.06-.94-.94-2.06-.94 2.06-2.06.94zm-11 1L8.5 8.5l.94-2.06 2.06-.94-2.06-.94L8.5 2.5l-.94 2.06-2.06.94zm10 10l.94 2.06.94-2.06 2.06-.94-2.06-.94-.94-2.06-.94 2.06-2.06.94z\"/><path d=\"M17.41 7.96l-1.37-1.37c-.4-.4-.92-.59-1.43-.59-.52 0-1.04.2-1.43.59L10.3 9.45l-7.72 7.72c-.78.78-.78 2.05 0 2.83L4 21.41c.39.39.9.59 1.41.59.51 0 1.02-.2 1.41-.59l7.78-7.78 2.81-2.81c.8-.78.8-2.07 0-2.86zM5.41 20L4 18.59l7.72-7.72 1.47 1.35L5.41 20z\"/>\n",
              "  </svg>\n",
              "      </button>\n",
              "      \n",
              "  <style>\n",
              "    .colab-df-container {\n",
              "      display:flex;\n",
              "      flex-wrap:wrap;\n",
              "      gap: 12px;\n",
              "    }\n",
              "\n",
              "    .colab-df-convert {\n",
              "      background-color: #E8F0FE;\n",
              "      border: none;\n",
              "      border-radius: 50%;\n",
              "      cursor: pointer;\n",
              "      display: none;\n",
              "      fill: #1967D2;\n",
              "      height: 32px;\n",
              "      padding: 0 0 0 0;\n",
              "      width: 32px;\n",
              "    }\n",
              "\n",
              "    .colab-df-convert:hover {\n",
              "      background-color: #E2EBFA;\n",
              "      box-shadow: 0px 1px 2px rgba(60, 64, 67, 0.3), 0px 1px 3px 1px rgba(60, 64, 67, 0.15);\n",
              "      fill: #174EA6;\n",
              "    }\n",
              "\n",
              "    [theme=dark] .colab-df-convert {\n",
              "      background-color: #3B4455;\n",
              "      fill: #D2E3FC;\n",
              "    }\n",
              "\n",
              "    [theme=dark] .colab-df-convert:hover {\n",
              "      background-color: #434B5C;\n",
              "      box-shadow: 0px 1px 3px 1px rgba(0, 0, 0, 0.15);\n",
              "      filter: drop-shadow(0px 1px 2px rgba(0, 0, 0, 0.3));\n",
              "      fill: #FFFFFF;\n",
              "    }\n",
              "  </style>\n",
              "\n",
              "      <script>\n",
              "        const buttonEl =\n",
              "          document.querySelector('#df-56fab82e-dce6-4662-bbaf-53abe9cfdbf1 button.colab-df-convert');\n",
              "        buttonEl.style.display =\n",
              "          google.colab.kernel.accessAllowed ? 'block' : 'none';\n",
              "\n",
              "        async function convertToInteractive(key) {\n",
              "          const element = document.querySelector('#df-56fab82e-dce6-4662-bbaf-53abe9cfdbf1');\n",
              "          const dataTable =\n",
              "            await google.colab.kernel.invokeFunction('convertToInteractive',\n",
              "                                                     [key], {});\n",
              "          if (!dataTable) return;\n",
              "\n",
              "          const docLinkHtml = 'Like what you see? Visit the ' +\n",
              "            '<a target=\"_blank\" href=https://colab.research.google.com/notebooks/data_table.ipynb>data table notebook</a>'\n",
              "            + ' to learn more about interactive tables.';\n",
              "          element.innerHTML = '';\n",
              "          dataTable['output_type'] = 'display_data';\n",
              "          await google.colab.output.renderOutput(dataTable, element);\n",
              "          const docLink = document.createElement('div');\n",
              "          docLink.innerHTML = docLinkHtml;\n",
              "          element.appendChild(docLink);\n",
              "        }\n",
              "      </script>\n",
              "    </div>\n",
              "  </div>\n",
              "  "
            ]
          },
          "metadata": {},
          "execution_count": 18
        }
      ]
    },
    {
      "cell_type": "code",
      "source": [
        "df1['BHK'].unique()"
      ],
      "metadata": {
        "colab": {
          "base_uri": "https://localhost:8080/"
        },
        "id": "3mdTrEXHt9JJ",
        "outputId": "e50dd97a-a3ca-4882-a4ad-f6f023ad78db"
      },
      "execution_count": null,
      "outputs": [
        {
          "output_type": "execute_result",
          "data": {
            "text/plain": [
              "array([ 2,  4,  3,  6,  1,  8,  7,  5, 11,  9, 27, 10, 19, 16, 43, 14, 12,\n",
              "       13, 18])"
            ]
          },
          "metadata": {},
          "execution_count": 30
        }
      ]
    },
    {
      "cell_type": "code",
      "source": [
        "df1['total_sqft'].unique()"
      ],
      "metadata": {
        "colab": {
          "base_uri": "https://localhost:8080/"
        },
        "id": "uE4TrnG7wE-v",
        "outputId": "fb576dff-7974-4ecb-99c9-52034595de31"
      },
      "execution_count": null,
      "outputs": [
        {
          "output_type": "execute_result",
          "data": {
            "text/plain": [
              "array(['1056', '2600', '1440', ..., '1133 - 1384', '774', '4689'],\n",
              "      dtype=object)"
            ]
          },
          "metadata": {},
          "execution_count": 29
        }
      ]
    },
    {
      "cell_type": "code",
      "source": [
        "#checking the data type of total_sqft\n",
        "df1.info()"
      ],
      "metadata": {
        "colab": {
          "base_uri": "https://localhost:8080/"
        },
        "id": "54p4zSpLwQZZ",
        "outputId": "2de50832-1f33-472a-f110-eca9c88b4d97"
      },
      "execution_count": null,
      "outputs": [
        {
          "output_type": "stream",
          "name": "stdout",
          "text": [
            "<class 'pandas.core.frame.DataFrame'>\n",
            "Int64Index: 13246 entries, 0 to 13319\n",
            "Data columns (total 6 columns):\n",
            " #   Column      Non-Null Count  Dtype  \n",
            "---  ------      --------------  -----  \n",
            " 0   location    13246 non-null  object \n",
            " 1   size        13246 non-null  object \n",
            " 2   total_sqft  13246 non-null  object \n",
            " 3   bath        13246 non-null  float64\n",
            " 4   price       13246 non-null  float64\n",
            " 5   BHK         13246 non-null  int64  \n",
            "dtypes: float64(2), int64(1), object(3)\n",
            "memory usage: 1.2+ MB\n"
          ]
        }
      ]
    },
    {
      "cell_type": "code",
      "source": [
        "def is_float(x):\n",
        "  try:\n",
        "    float(x)\n",
        "  except:\n",
        "    return False\n",
        "  return True"
      ],
      "metadata": {
        "id": "kavVIhHLwhAR"
      },
      "execution_count": null,
      "outputs": []
    },
    {
      "cell_type": "code",
      "source": [
        "df1[~df1['total_sqft'].apply(is_float)].head(10)"
      ],
      "metadata": {
        "colab": {
          "base_uri": "https://localhost:8080/",
          "height": 363
        },
        "id": "wXqF1O6TxK-D",
        "outputId": "cdee9c71-3561-43dc-ca96-28effe33c78c"
      },
      "execution_count": null,
      "outputs": [
        {
          "output_type": "execute_result",
          "data": {
            "text/plain": [
              "               location       size      total_sqft  bath    price  BHK\n",
              "30            Yelahanka      4 BHK     2100 - 2850   4.0  186.000    4\n",
              "122              Hebbal      4 BHK     3067 - 8156   4.0  477.000    4\n",
              "137  8th Phase JP Nagar      2 BHK     1042 - 1105   2.0   54.005    2\n",
              "165            Sarjapur      2 BHK     1145 - 1340   2.0   43.490    2\n",
              "188            KR Puram      2 BHK     1015 - 1540   2.0   56.800    2\n",
              "410             Kengeri      1 BHK  34.46Sq. Meter   1.0   18.500    1\n",
              "549         Hennur Road      2 BHK     1195 - 1440   2.0   63.770    2\n",
              "648             Arekere  9 Bedroom       4125Perch   9.0  265.000    9\n",
              "661           Yelahanka      2 BHK     1120 - 1145   2.0   48.130    2\n",
              "672        Bettahalsoor  4 Bedroom     3090 - 5002   4.0  445.000    4"
            ],
            "text/html": [
              "\n",
              "  <div id=\"df-5c8f5b57-52fc-4e35-8fbf-2bc01ae0ceca\">\n",
              "    <div class=\"colab-df-container\">\n",
              "      <div>\n",
              "<style scoped>\n",
              "    .dataframe tbody tr th:only-of-type {\n",
              "        vertical-align: middle;\n",
              "    }\n",
              "\n",
              "    .dataframe tbody tr th {\n",
              "        vertical-align: top;\n",
              "    }\n",
              "\n",
              "    .dataframe thead th {\n",
              "        text-align: right;\n",
              "    }\n",
              "</style>\n",
              "<table border=\"1\" class=\"dataframe\">\n",
              "  <thead>\n",
              "    <tr style=\"text-align: right;\">\n",
              "      <th></th>\n",
              "      <th>location</th>\n",
              "      <th>size</th>\n",
              "      <th>total_sqft</th>\n",
              "      <th>bath</th>\n",
              "      <th>price</th>\n",
              "      <th>BHK</th>\n",
              "    </tr>\n",
              "  </thead>\n",
              "  <tbody>\n",
              "    <tr>\n",
              "      <th>30</th>\n",
              "      <td>Yelahanka</td>\n",
              "      <td>4 BHK</td>\n",
              "      <td>2100 - 2850</td>\n",
              "      <td>4.0</td>\n",
              "      <td>186.000</td>\n",
              "      <td>4</td>\n",
              "    </tr>\n",
              "    <tr>\n",
              "      <th>122</th>\n",
              "      <td>Hebbal</td>\n",
              "      <td>4 BHK</td>\n",
              "      <td>3067 - 8156</td>\n",
              "      <td>4.0</td>\n",
              "      <td>477.000</td>\n",
              "      <td>4</td>\n",
              "    </tr>\n",
              "    <tr>\n",
              "      <th>137</th>\n",
              "      <td>8th Phase JP Nagar</td>\n",
              "      <td>2 BHK</td>\n",
              "      <td>1042 - 1105</td>\n",
              "      <td>2.0</td>\n",
              "      <td>54.005</td>\n",
              "      <td>2</td>\n",
              "    </tr>\n",
              "    <tr>\n",
              "      <th>165</th>\n",
              "      <td>Sarjapur</td>\n",
              "      <td>2 BHK</td>\n",
              "      <td>1145 - 1340</td>\n",
              "      <td>2.0</td>\n",
              "      <td>43.490</td>\n",
              "      <td>2</td>\n",
              "    </tr>\n",
              "    <tr>\n",
              "      <th>188</th>\n",
              "      <td>KR Puram</td>\n",
              "      <td>2 BHK</td>\n",
              "      <td>1015 - 1540</td>\n",
              "      <td>2.0</td>\n",
              "      <td>56.800</td>\n",
              "      <td>2</td>\n",
              "    </tr>\n",
              "    <tr>\n",
              "      <th>410</th>\n",
              "      <td>Kengeri</td>\n",
              "      <td>1 BHK</td>\n",
              "      <td>34.46Sq. Meter</td>\n",
              "      <td>1.0</td>\n",
              "      <td>18.500</td>\n",
              "      <td>1</td>\n",
              "    </tr>\n",
              "    <tr>\n",
              "      <th>549</th>\n",
              "      <td>Hennur Road</td>\n",
              "      <td>2 BHK</td>\n",
              "      <td>1195 - 1440</td>\n",
              "      <td>2.0</td>\n",
              "      <td>63.770</td>\n",
              "      <td>2</td>\n",
              "    </tr>\n",
              "    <tr>\n",
              "      <th>648</th>\n",
              "      <td>Arekere</td>\n",
              "      <td>9 Bedroom</td>\n",
              "      <td>4125Perch</td>\n",
              "      <td>9.0</td>\n",
              "      <td>265.000</td>\n",
              "      <td>9</td>\n",
              "    </tr>\n",
              "    <tr>\n",
              "      <th>661</th>\n",
              "      <td>Yelahanka</td>\n",
              "      <td>2 BHK</td>\n",
              "      <td>1120 - 1145</td>\n",
              "      <td>2.0</td>\n",
              "      <td>48.130</td>\n",
              "      <td>2</td>\n",
              "    </tr>\n",
              "    <tr>\n",
              "      <th>672</th>\n",
              "      <td>Bettahalsoor</td>\n",
              "      <td>4 Bedroom</td>\n",
              "      <td>3090 - 5002</td>\n",
              "      <td>4.0</td>\n",
              "      <td>445.000</td>\n",
              "      <td>4</td>\n",
              "    </tr>\n",
              "  </tbody>\n",
              "</table>\n",
              "</div>\n",
              "      <button class=\"colab-df-convert\" onclick=\"convertToInteractive('df-5c8f5b57-52fc-4e35-8fbf-2bc01ae0ceca')\"\n",
              "              title=\"Convert this dataframe to an interactive table.\"\n",
              "              style=\"display:none;\">\n",
              "        \n",
              "  <svg xmlns=\"http://www.w3.org/2000/svg\" height=\"24px\"viewBox=\"0 0 24 24\"\n",
              "       width=\"24px\">\n",
              "    <path d=\"M0 0h24v24H0V0z\" fill=\"none\"/>\n",
              "    <path d=\"M18.56 5.44l.94 2.06.94-2.06 2.06-.94-2.06-.94-.94-2.06-.94 2.06-2.06.94zm-11 1L8.5 8.5l.94-2.06 2.06-.94-2.06-.94L8.5 2.5l-.94 2.06-2.06.94zm10 10l.94 2.06.94-2.06 2.06-.94-2.06-.94-.94-2.06-.94 2.06-2.06.94z\"/><path d=\"M17.41 7.96l-1.37-1.37c-.4-.4-.92-.59-1.43-.59-.52 0-1.04.2-1.43.59L10.3 9.45l-7.72 7.72c-.78.78-.78 2.05 0 2.83L4 21.41c.39.39.9.59 1.41.59.51 0 1.02-.2 1.41-.59l7.78-7.78 2.81-2.81c.8-.78.8-2.07 0-2.86zM5.41 20L4 18.59l7.72-7.72 1.47 1.35L5.41 20z\"/>\n",
              "  </svg>\n",
              "      </button>\n",
              "      \n",
              "  <style>\n",
              "    .colab-df-container {\n",
              "      display:flex;\n",
              "      flex-wrap:wrap;\n",
              "      gap: 12px;\n",
              "    }\n",
              "\n",
              "    .colab-df-convert {\n",
              "      background-color: #E8F0FE;\n",
              "      border: none;\n",
              "      border-radius: 50%;\n",
              "      cursor: pointer;\n",
              "      display: none;\n",
              "      fill: #1967D2;\n",
              "      height: 32px;\n",
              "      padding: 0 0 0 0;\n",
              "      width: 32px;\n",
              "    }\n",
              "\n",
              "    .colab-df-convert:hover {\n",
              "      background-color: #E2EBFA;\n",
              "      box-shadow: 0px 1px 2px rgba(60, 64, 67, 0.3), 0px 1px 3px 1px rgba(60, 64, 67, 0.15);\n",
              "      fill: #174EA6;\n",
              "    }\n",
              "\n",
              "    [theme=dark] .colab-df-convert {\n",
              "      background-color: #3B4455;\n",
              "      fill: #D2E3FC;\n",
              "    }\n",
              "\n",
              "    [theme=dark] .colab-df-convert:hover {\n",
              "      background-color: #434B5C;\n",
              "      box-shadow: 0px 1px 3px 1px rgba(0, 0, 0, 0.15);\n",
              "      filter: drop-shadow(0px 1px 2px rgba(0, 0, 0, 0.3));\n",
              "      fill: #FFFFFF;\n",
              "    }\n",
              "  </style>\n",
              "\n",
              "      <script>\n",
              "        const buttonEl =\n",
              "          document.querySelector('#df-5c8f5b57-52fc-4e35-8fbf-2bc01ae0ceca button.colab-df-convert');\n",
              "        buttonEl.style.display =\n",
              "          google.colab.kernel.accessAllowed ? 'block' : 'none';\n",
              "\n",
              "        async function convertToInteractive(key) {\n",
              "          const element = document.querySelector('#df-5c8f5b57-52fc-4e35-8fbf-2bc01ae0ceca');\n",
              "          const dataTable =\n",
              "            await google.colab.kernel.invokeFunction('convertToInteractive',\n",
              "                                                     [key], {});\n",
              "          if (!dataTable) return;\n",
              "\n",
              "          const docLinkHtml = 'Like what you see? Visit the ' +\n",
              "            '<a target=\"_blank\" href=https://colab.research.google.com/notebooks/data_table.ipynb>data table notebook</a>'\n",
              "            + ' to learn more about interactive tables.';\n",
              "          element.innerHTML = '';\n",
              "          dataTable['output_type'] = 'display_data';\n",
              "          await google.colab.output.renderOutput(dataTable, element);\n",
              "          const docLink = document.createElement('div');\n",
              "          docLink.innerHTML = docLinkHtml;\n",
              "          element.appendChild(docLink);\n",
              "        }\n",
              "      </script>\n",
              "    </div>\n",
              "  </div>\n",
              "  "
            ]
          },
          "metadata": {},
          "execution_count": 39
        }
      ]
    },
    {
      "cell_type": "code",
      "source": [
        "#we will be taking average of range and ignore the values with units\n",
        "\n",
        "def convert_sqft_to_int(x):\n",
        "  values=x.split('-')\n",
        "  if len(values)==2:\n",
        "    return (float(values[0])+float(values[1]))/2\n",
        "  try:\n",
        "    return float(x)\n",
        "  except:\n",
        "    return None"
      ],
      "metadata": {
        "id": "eN9GUdyRxjxA"
      },
      "execution_count": null,
      "outputs": []
    },
    {
      "cell_type": "code",
      "source": [
        "convert_sqft_to_int('2500')"
      ],
      "metadata": {
        "colab": {
          "base_uri": "https://localhost:8080/"
        },
        "id": "3WN7g2cIzPrS",
        "outputId": "8702beee-3b58-404c-f344-515efbced519"
      },
      "execution_count": null,
      "outputs": [
        {
          "output_type": "execute_result",
          "data": {
            "text/plain": [
              "2500.0"
            ]
          },
          "metadata": {},
          "execution_count": 43
        }
      ]
    },
    {
      "cell_type": "code",
      "source": [
        "convert_sqft_to_int('2499-2800')"
      ],
      "metadata": {
        "colab": {
          "base_uri": "https://localhost:8080/"
        },
        "id": "AYBWbo6gzfX3",
        "outputId": "919b03aa-9101-495f-f64c-d4b0494af517"
      },
      "execution_count": null,
      "outputs": [
        {
          "output_type": "execute_result",
          "data": {
            "text/plain": [
              "2649.5"
            ]
          },
          "metadata": {},
          "execution_count": 44
        }
      ]
    },
    {
      "cell_type": "code",
      "source": [
        "convert_sqft_to_int('2499sqmt')"
      ],
      "metadata": {
        "id": "F7-3gX7FzpfH"
      },
      "execution_count": null,
      "outputs": []
    },
    {
      "cell_type": "code",
      "source": [
        "df2=df1.copy()\n",
        "df2['total_sqft']=df2['total_sqft'].apply(convert_sqft_to_int)\n",
        "df2.head()"
      ],
      "metadata": {
        "colab": {
          "base_uri": "https://localhost:8080/",
          "height": 206
        },
        "id": "SIO8PvX3xWlV",
        "outputId": "5e170993-fbfe-4106-c9c0-86f817b724f4"
      },
      "execution_count": null,
      "outputs": [
        {
          "output_type": "execute_result",
          "data": {
            "text/plain": [
              "                   location       size  total_sqft  bath   price  BHK\n",
              "0  Electronic City Phase II      2 BHK      1056.0   2.0   39.07    2\n",
              "1          Chikka Tirupathi  4 Bedroom      2600.0   5.0  120.00    4\n",
              "2               Uttarahalli      3 BHK      1440.0   2.0   62.00    3\n",
              "3        Lingadheeranahalli      3 BHK      1521.0   3.0   95.00    3\n",
              "4                  Kothanur      2 BHK      1200.0   2.0   51.00    2"
            ],
            "text/html": [
              "\n",
              "  <div id=\"df-f6161fe6-44b8-45fd-af58-3d44af3f1981\">\n",
              "    <div class=\"colab-df-container\">\n",
              "      <div>\n",
              "<style scoped>\n",
              "    .dataframe tbody tr th:only-of-type {\n",
              "        vertical-align: middle;\n",
              "    }\n",
              "\n",
              "    .dataframe tbody tr th {\n",
              "        vertical-align: top;\n",
              "    }\n",
              "\n",
              "    .dataframe thead th {\n",
              "        text-align: right;\n",
              "    }\n",
              "</style>\n",
              "<table border=\"1\" class=\"dataframe\">\n",
              "  <thead>\n",
              "    <tr style=\"text-align: right;\">\n",
              "      <th></th>\n",
              "      <th>location</th>\n",
              "      <th>size</th>\n",
              "      <th>total_sqft</th>\n",
              "      <th>bath</th>\n",
              "      <th>price</th>\n",
              "      <th>BHK</th>\n",
              "    </tr>\n",
              "  </thead>\n",
              "  <tbody>\n",
              "    <tr>\n",
              "      <th>0</th>\n",
              "      <td>Electronic City Phase II</td>\n",
              "      <td>2 BHK</td>\n",
              "      <td>1056.0</td>\n",
              "      <td>2.0</td>\n",
              "      <td>39.07</td>\n",
              "      <td>2</td>\n",
              "    </tr>\n",
              "    <tr>\n",
              "      <th>1</th>\n",
              "      <td>Chikka Tirupathi</td>\n",
              "      <td>4 Bedroom</td>\n",
              "      <td>2600.0</td>\n",
              "      <td>5.0</td>\n",
              "      <td>120.00</td>\n",
              "      <td>4</td>\n",
              "    </tr>\n",
              "    <tr>\n",
              "      <th>2</th>\n",
              "      <td>Uttarahalli</td>\n",
              "      <td>3 BHK</td>\n",
              "      <td>1440.0</td>\n",
              "      <td>2.0</td>\n",
              "      <td>62.00</td>\n",
              "      <td>3</td>\n",
              "    </tr>\n",
              "    <tr>\n",
              "      <th>3</th>\n",
              "      <td>Lingadheeranahalli</td>\n",
              "      <td>3 BHK</td>\n",
              "      <td>1521.0</td>\n",
              "      <td>3.0</td>\n",
              "      <td>95.00</td>\n",
              "      <td>3</td>\n",
              "    </tr>\n",
              "    <tr>\n",
              "      <th>4</th>\n",
              "      <td>Kothanur</td>\n",
              "      <td>2 BHK</td>\n",
              "      <td>1200.0</td>\n",
              "      <td>2.0</td>\n",
              "      <td>51.00</td>\n",
              "      <td>2</td>\n",
              "    </tr>\n",
              "  </tbody>\n",
              "</table>\n",
              "</div>\n",
              "      <button class=\"colab-df-convert\" onclick=\"convertToInteractive('df-f6161fe6-44b8-45fd-af58-3d44af3f1981')\"\n",
              "              title=\"Convert this dataframe to an interactive table.\"\n",
              "              style=\"display:none;\">\n",
              "        \n",
              "  <svg xmlns=\"http://www.w3.org/2000/svg\" height=\"24px\"viewBox=\"0 0 24 24\"\n",
              "       width=\"24px\">\n",
              "    <path d=\"M0 0h24v24H0V0z\" fill=\"none\"/>\n",
              "    <path d=\"M18.56 5.44l.94 2.06.94-2.06 2.06-.94-2.06-.94-.94-2.06-.94 2.06-2.06.94zm-11 1L8.5 8.5l.94-2.06 2.06-.94-2.06-.94L8.5 2.5l-.94 2.06-2.06.94zm10 10l.94 2.06.94-2.06 2.06-.94-2.06-.94-.94-2.06-.94 2.06-2.06.94z\"/><path d=\"M17.41 7.96l-1.37-1.37c-.4-.4-.92-.59-1.43-.59-.52 0-1.04.2-1.43.59L10.3 9.45l-7.72 7.72c-.78.78-.78 2.05 0 2.83L4 21.41c.39.39.9.59 1.41.59.51 0 1.02-.2 1.41-.59l7.78-7.78 2.81-2.81c.8-.78.8-2.07 0-2.86zM5.41 20L4 18.59l7.72-7.72 1.47 1.35L5.41 20z\"/>\n",
              "  </svg>\n",
              "      </button>\n",
              "      \n",
              "  <style>\n",
              "    .colab-df-container {\n",
              "      display:flex;\n",
              "      flex-wrap:wrap;\n",
              "      gap: 12px;\n",
              "    }\n",
              "\n",
              "    .colab-df-convert {\n",
              "      background-color: #E8F0FE;\n",
              "      border: none;\n",
              "      border-radius: 50%;\n",
              "      cursor: pointer;\n",
              "      display: none;\n",
              "      fill: #1967D2;\n",
              "      height: 32px;\n",
              "      padding: 0 0 0 0;\n",
              "      width: 32px;\n",
              "    }\n",
              "\n",
              "    .colab-df-convert:hover {\n",
              "      background-color: #E2EBFA;\n",
              "      box-shadow: 0px 1px 2px rgba(60, 64, 67, 0.3), 0px 1px 3px 1px rgba(60, 64, 67, 0.15);\n",
              "      fill: #174EA6;\n",
              "    }\n",
              "\n",
              "    [theme=dark] .colab-df-convert {\n",
              "      background-color: #3B4455;\n",
              "      fill: #D2E3FC;\n",
              "    }\n",
              "\n",
              "    [theme=dark] .colab-df-convert:hover {\n",
              "      background-color: #434B5C;\n",
              "      box-shadow: 0px 1px 3px 1px rgba(0, 0, 0, 0.15);\n",
              "      filter: drop-shadow(0px 1px 2px rgba(0, 0, 0, 0.3));\n",
              "      fill: #FFFFFF;\n",
              "    }\n",
              "  </style>\n",
              "\n",
              "      <script>\n",
              "        const buttonEl =\n",
              "          document.querySelector('#df-f6161fe6-44b8-45fd-af58-3d44af3f1981 button.colab-df-convert');\n",
              "        buttonEl.style.display =\n",
              "          google.colab.kernel.accessAllowed ? 'block' : 'none';\n",
              "\n",
              "        async function convertToInteractive(key) {\n",
              "          const element = document.querySelector('#df-f6161fe6-44b8-45fd-af58-3d44af3f1981');\n",
              "          const dataTable =\n",
              "            await google.colab.kernel.invokeFunction('convertToInteractive',\n",
              "                                                     [key], {});\n",
              "          if (!dataTable) return;\n",
              "\n",
              "          const docLinkHtml = 'Like what you see? Visit the ' +\n",
              "            '<a target=\"_blank\" href=https://colab.research.google.com/notebooks/data_table.ipynb>data table notebook</a>'\n",
              "            + ' to learn more about interactive tables.';\n",
              "          element.innerHTML = '';\n",
              "          dataTable['output_type'] = 'display_data';\n",
              "          await google.colab.output.renderOutput(dataTable, element);\n",
              "          const docLink = document.createElement('div');\n",
              "          docLink.innerHTML = docLinkHtml;\n",
              "          element.appendChild(docLink);\n",
              "        }\n",
              "      </script>\n",
              "    </div>\n",
              "  </div>\n",
              "  "
            ]
          },
          "metadata": {},
          "execution_count": 48
        }
      ]
    },
    {
      "cell_type": "code",
      "source": [
        "df2.loc[30]"
      ],
      "metadata": {
        "colab": {
          "base_uri": "https://localhost:8080/"
        },
        "id": "XXXh1hOd0VHw",
        "outputId": "ee3ba12f-02af-48f5-be95-f3c38e907342"
      },
      "execution_count": null,
      "outputs": [
        {
          "output_type": "execute_result",
          "data": {
            "text/plain": [
              "location      Yelahanka\n",
              "size              4 BHK\n",
              "total_sqft       2475.0\n",
              "bath                4.0\n",
              "price             186.0\n",
              "BHK                   4\n",
              "Name: 30, dtype: object"
            ]
          },
          "metadata": {},
          "execution_count": 49
        }
      ]
    },
    {
      "cell_type": "code",
      "source": [
        "df2.info()"
      ],
      "metadata": {
        "colab": {
          "base_uri": "https://localhost:8080/"
        },
        "id": "KqO_KDdO1m41",
        "outputId": "bad27cc4-3ec5-4814-cd89-5bae4e4fb604"
      },
      "execution_count": null,
      "outputs": [
        {
          "output_type": "stream",
          "name": "stdout",
          "text": [
            "<class 'pandas.core.frame.DataFrame'>\n",
            "Int64Index: 13246 entries, 0 to 13319\n",
            "Data columns (total 6 columns):\n",
            " #   Column      Non-Null Count  Dtype  \n",
            "---  ------      --------------  -----  \n",
            " 0   location    13246 non-null  object \n",
            " 1   size        13246 non-null  object \n",
            " 2   total_sqft  13200 non-null  float64\n",
            " 3   bath        13246 non-null  float64\n",
            " 4   price       13246 non-null  float64\n",
            " 5   BHK         13246 non-null  int64  \n",
            "dtypes: float64(3), int64(1), object(2)\n",
            "memory usage: 1.2+ MB\n"
          ]
        }
      ]
    },
    {
      "cell_type": "code",
      "source": [
        "df3=df2.copy()\n",
        "df3['price_per_sqft']=df3['price']*100000/df3['total_sqft']\n",
        "df3.head()"
      ],
      "metadata": {
        "colab": {
          "base_uri": "https://localhost:8080/",
          "height": 206
        },
        "id": "TMJ7sbvQ0d-d",
        "outputId": "88c273cd-32bb-41ea-e46b-e6e1f6e1f89d"
      },
      "execution_count": null,
      "outputs": [
        {
          "output_type": "execute_result",
          "data": {
            "text/plain": [
              "                   location       size  total_sqft  bath   price  BHK  \\\n",
              "0  Electronic City Phase II      2 BHK      1056.0   2.0   39.07    2   \n",
              "1          Chikka Tirupathi  4 Bedroom      2600.0   5.0  120.00    4   \n",
              "2               Uttarahalli      3 BHK      1440.0   2.0   62.00    3   \n",
              "3        Lingadheeranahalli      3 BHK      1521.0   3.0   95.00    3   \n",
              "4                  Kothanur      2 BHK      1200.0   2.0   51.00    2   \n",
              "\n",
              "   price_per_sqft  \n",
              "0     3699.810606  \n",
              "1     4615.384615  \n",
              "2     4305.555556  \n",
              "3     6245.890861  \n",
              "4     4250.000000  "
            ],
            "text/html": [
              "\n",
              "  <div id=\"df-a8c73b7e-8047-48c8-af59-822a5b482eeb\">\n",
              "    <div class=\"colab-df-container\">\n",
              "      <div>\n",
              "<style scoped>\n",
              "    .dataframe tbody tr th:only-of-type {\n",
              "        vertical-align: middle;\n",
              "    }\n",
              "\n",
              "    .dataframe tbody tr th {\n",
              "        vertical-align: top;\n",
              "    }\n",
              "\n",
              "    .dataframe thead th {\n",
              "        text-align: right;\n",
              "    }\n",
              "</style>\n",
              "<table border=\"1\" class=\"dataframe\">\n",
              "  <thead>\n",
              "    <tr style=\"text-align: right;\">\n",
              "      <th></th>\n",
              "      <th>location</th>\n",
              "      <th>size</th>\n",
              "      <th>total_sqft</th>\n",
              "      <th>bath</th>\n",
              "      <th>price</th>\n",
              "      <th>BHK</th>\n",
              "      <th>price_per_sqft</th>\n",
              "    </tr>\n",
              "  </thead>\n",
              "  <tbody>\n",
              "    <tr>\n",
              "      <th>0</th>\n",
              "      <td>Electronic City Phase II</td>\n",
              "      <td>2 BHK</td>\n",
              "      <td>1056.0</td>\n",
              "      <td>2.0</td>\n",
              "      <td>39.07</td>\n",
              "      <td>2</td>\n",
              "      <td>3699.810606</td>\n",
              "    </tr>\n",
              "    <tr>\n",
              "      <th>1</th>\n",
              "      <td>Chikka Tirupathi</td>\n",
              "      <td>4 Bedroom</td>\n",
              "      <td>2600.0</td>\n",
              "      <td>5.0</td>\n",
              "      <td>120.00</td>\n",
              "      <td>4</td>\n",
              "      <td>4615.384615</td>\n",
              "    </tr>\n",
              "    <tr>\n",
              "      <th>2</th>\n",
              "      <td>Uttarahalli</td>\n",
              "      <td>3 BHK</td>\n",
              "      <td>1440.0</td>\n",
              "      <td>2.0</td>\n",
              "      <td>62.00</td>\n",
              "      <td>3</td>\n",
              "      <td>4305.555556</td>\n",
              "    </tr>\n",
              "    <tr>\n",
              "      <th>3</th>\n",
              "      <td>Lingadheeranahalli</td>\n",
              "      <td>3 BHK</td>\n",
              "      <td>1521.0</td>\n",
              "      <td>3.0</td>\n",
              "      <td>95.00</td>\n",
              "      <td>3</td>\n",
              "      <td>6245.890861</td>\n",
              "    </tr>\n",
              "    <tr>\n",
              "      <th>4</th>\n",
              "      <td>Kothanur</td>\n",
              "      <td>2 BHK</td>\n",
              "      <td>1200.0</td>\n",
              "      <td>2.0</td>\n",
              "      <td>51.00</td>\n",
              "      <td>2</td>\n",
              "      <td>4250.000000</td>\n",
              "    </tr>\n",
              "  </tbody>\n",
              "</table>\n",
              "</div>\n",
              "      <button class=\"colab-df-convert\" onclick=\"convertToInteractive('df-a8c73b7e-8047-48c8-af59-822a5b482eeb')\"\n",
              "              title=\"Convert this dataframe to an interactive table.\"\n",
              "              style=\"display:none;\">\n",
              "        \n",
              "  <svg xmlns=\"http://www.w3.org/2000/svg\" height=\"24px\"viewBox=\"0 0 24 24\"\n",
              "       width=\"24px\">\n",
              "    <path d=\"M0 0h24v24H0V0z\" fill=\"none\"/>\n",
              "    <path d=\"M18.56 5.44l.94 2.06.94-2.06 2.06-.94-2.06-.94-.94-2.06-.94 2.06-2.06.94zm-11 1L8.5 8.5l.94-2.06 2.06-.94-2.06-.94L8.5 2.5l-.94 2.06-2.06.94zm10 10l.94 2.06.94-2.06 2.06-.94-2.06-.94-.94-2.06-.94 2.06-2.06.94z\"/><path d=\"M17.41 7.96l-1.37-1.37c-.4-.4-.92-.59-1.43-.59-.52 0-1.04.2-1.43.59L10.3 9.45l-7.72 7.72c-.78.78-.78 2.05 0 2.83L4 21.41c.39.39.9.59 1.41.59.51 0 1.02-.2 1.41-.59l7.78-7.78 2.81-2.81c.8-.78.8-2.07 0-2.86zM5.41 20L4 18.59l7.72-7.72 1.47 1.35L5.41 20z\"/>\n",
              "  </svg>\n",
              "      </button>\n",
              "      \n",
              "  <style>\n",
              "    .colab-df-container {\n",
              "      display:flex;\n",
              "      flex-wrap:wrap;\n",
              "      gap: 12px;\n",
              "    }\n",
              "\n",
              "    .colab-df-convert {\n",
              "      background-color: #E8F0FE;\n",
              "      border: none;\n",
              "      border-radius: 50%;\n",
              "      cursor: pointer;\n",
              "      display: none;\n",
              "      fill: #1967D2;\n",
              "      height: 32px;\n",
              "      padding: 0 0 0 0;\n",
              "      width: 32px;\n",
              "    }\n",
              "\n",
              "    .colab-df-convert:hover {\n",
              "      background-color: #E2EBFA;\n",
              "      box-shadow: 0px 1px 2px rgba(60, 64, 67, 0.3), 0px 1px 3px 1px rgba(60, 64, 67, 0.15);\n",
              "      fill: #174EA6;\n",
              "    }\n",
              "\n",
              "    [theme=dark] .colab-df-convert {\n",
              "      background-color: #3B4455;\n",
              "      fill: #D2E3FC;\n",
              "    }\n",
              "\n",
              "    [theme=dark] .colab-df-convert:hover {\n",
              "      background-color: #434B5C;\n",
              "      box-shadow: 0px 1px 3px 1px rgba(0, 0, 0, 0.15);\n",
              "      filter: drop-shadow(0px 1px 2px rgba(0, 0, 0, 0.3));\n",
              "      fill: #FFFFFF;\n",
              "    }\n",
              "  </style>\n",
              "\n",
              "      <script>\n",
              "        const buttonEl =\n",
              "          document.querySelector('#df-a8c73b7e-8047-48c8-af59-822a5b482eeb button.colab-df-convert');\n",
              "        buttonEl.style.display =\n",
              "          google.colab.kernel.accessAllowed ? 'block' : 'none';\n",
              "\n",
              "        async function convertToInteractive(key) {\n",
              "          const element = document.querySelector('#df-a8c73b7e-8047-48c8-af59-822a5b482eeb');\n",
              "          const dataTable =\n",
              "            await google.colab.kernel.invokeFunction('convertToInteractive',\n",
              "                                                     [key], {});\n",
              "          if (!dataTable) return;\n",
              "\n",
              "          const docLinkHtml = 'Like what you see? Visit the ' +\n",
              "            '<a target=\"_blank\" href=https://colab.research.google.com/notebooks/data_table.ipynb>data table notebook</a>'\n",
              "            + ' to learn more about interactive tables.';\n",
              "          element.innerHTML = '';\n",
              "          dataTable['output_type'] = 'display_data';\n",
              "          await google.colab.output.renderOutput(dataTable, element);\n",
              "          const docLink = document.createElement('div');\n",
              "          docLink.innerHTML = docLinkHtml;\n",
              "          element.appendChild(docLink);\n",
              "        }\n",
              "      </script>\n",
              "    </div>\n",
              "  </div>\n",
              "  "
            ]
          },
          "metadata": {},
          "execution_count": 52
        }
      ]
    },
    {
      "cell_type": "code",
      "source": [
        "df3['location'].unique()\n",
        "len(df3['location'].unique())"
      ],
      "metadata": {
        "colab": {
          "base_uri": "https://localhost:8080/"
        },
        "id": "Xeilt8WX1zfY",
        "outputId": "46dc43e1-af6d-4a54-e216-2da71e1a4b18"
      },
      "execution_count": null,
      "outputs": [
        {
          "output_type": "execute_result",
          "data": {
            "text/plain": [
              "1304"
            ]
          },
          "metadata": {},
          "execution_count": 54
        }
      ]
    },
    {
      "cell_type": "code",
      "source": [
        "df3['location']=df3['location'].apply(lambda x: x.strip())\n",
        "stats_location=df3.groupby('location')['location'].agg('count').sort_values(ascending=False)\n",
        "stats_location"
      ],
      "metadata": {
        "colab": {
          "base_uri": "https://localhost:8080/"
        },
        "id": "UpDx3W0m2DJA",
        "outputId": "991442fc-1fef-40b7-d5fe-b885913bccc0"
      },
      "execution_count": null,
      "outputs": [
        {
          "output_type": "execute_result",
          "data": {
            "text/plain": [
              "location\n",
              "Whitefield               535\n",
              "Sarjapur  Road           392\n",
              "Electronic City          304\n",
              "Kanakpura Road           266\n",
              "Thanisandra              236\n",
              "                        ... \n",
              "1 Giri Nagar               1\n",
              "Kanakapura Road,           1\n",
              "Kanakapura main  Road      1\n",
              "Karnataka Shabarimala      1\n",
              "whitefiled                 1\n",
              "Name: location, Length: 1293, dtype: int64"
            ]
          },
          "metadata": {},
          "execution_count": 58
        }
      ]
    },
    {
      "cell_type": "code",
      "source": [
        "len(stats_location[stats_location<=10])"
      ],
      "metadata": {
        "colab": {
          "base_uri": "https://localhost:8080/"
        },
        "id": "1W8e6Nh93Ykg",
        "outputId": "c4ce3512-c9f5-4d80-83ab-e83dbe6dbc05"
      },
      "execution_count": null,
      "outputs": [
        {
          "output_type": "execute_result",
          "data": {
            "text/plain": [
              "1052"
            ]
          },
          "metadata": {},
          "execution_count": 59
        }
      ]
    },
    {
      "cell_type": "code",
      "source": [
        "len(df3['location'].unique())"
      ],
      "metadata": {
        "colab": {
          "base_uri": "https://localhost:8080/"
        },
        "id": "xuxwOAkc3hev",
        "outputId": "a931ba96-65a5-47e7-ab2b-b79bba9dc514"
      },
      "execution_count": null,
      "outputs": [
        {
          "output_type": "execute_result",
          "data": {
            "text/plain": [
              "1293"
            ]
          },
          "metadata": {},
          "execution_count": 60
        }
      ]
    },
    {
      "cell_type": "code",
      "source": [
        "stats_location_count_less_than_10=stats_location[stats_location<=10]\n",
        "stats_location_count_less_than_10"
      ],
      "metadata": {
        "colab": {
          "base_uri": "https://localhost:8080/"
        },
        "id": "_hhp5zGk4Uil",
        "outputId": "1733506a-79cb-46c2-b535-4885187fa567"
      },
      "execution_count": null,
      "outputs": [
        {
          "output_type": "execute_result",
          "data": {
            "text/plain": [
              "location\n",
              "Basapura                 10\n",
              "1st Block Koramangala    10\n",
              "Gunjur Palya             10\n",
              "Kalkere                  10\n",
              "Sector 1 HSR Layout      10\n",
              "                         ..\n",
              "1 Giri Nagar              1\n",
              "Kanakapura Road,          1\n",
              "Kanakapura main  Road     1\n",
              "Karnataka Shabarimala     1\n",
              "whitefiled                1\n",
              "Name: location, Length: 1052, dtype: int64"
            ]
          },
          "metadata": {},
          "execution_count": 62
        }
      ]
    },
    {
      "cell_type": "code",
      "source": [
        "df3['location']=df3['location'].apply(lambda x: 'other' if x in stats_location_count_less_than_10 else x)\n",
        "len(df3.location.unique())"
      ],
      "metadata": {
        "colab": {
          "base_uri": "https://localhost:8080/"
        },
        "id": "q-9mYDUD3wyY",
        "outputId": "e193cbb7-5ba5-4216-ea5a-ffc06af5dd22"
      },
      "execution_count": null,
      "outputs": [
        {
          "output_type": "execute_result",
          "data": {
            "text/plain": [
              "242"
            ]
          },
          "metadata": {},
          "execution_count": 65
        }
      ]
    },
    {
      "cell_type": "code",
      "source": [
        "df3.head(10)"
      ],
      "metadata": {
        "colab": {
          "base_uri": "https://localhost:8080/",
          "height": 363
        },
        "id": "WC8WLtrW4pzA",
        "outputId": "a9b7c348-4532-4652-9980-9d749a6a3a09"
      },
      "execution_count": null,
      "outputs": [
        {
          "output_type": "execute_result",
          "data": {
            "text/plain": [
              "                   location       size  total_sqft  bath   price  BHK  \\\n",
              "0  Electronic City Phase II      2 BHK      1056.0   2.0   39.07    2   \n",
              "1          Chikka Tirupathi  4 Bedroom      2600.0   5.0  120.00    4   \n",
              "2               Uttarahalli      3 BHK      1440.0   2.0   62.00    3   \n",
              "3        Lingadheeranahalli      3 BHK      1521.0   3.0   95.00    3   \n",
              "4                  Kothanur      2 BHK      1200.0   2.0   51.00    2   \n",
              "5                Whitefield      2 BHK      1170.0   2.0   38.00    2   \n",
              "6          Old Airport Road      4 BHK      2732.0   4.0  204.00    4   \n",
              "7              Rajaji Nagar      4 BHK      3300.0   4.0  600.00    4   \n",
              "8              Marathahalli      3 BHK      1310.0   3.0   63.25    3   \n",
              "9                     other  6 Bedroom      1020.0   6.0  370.00    6   \n",
              "\n",
              "   price_per_sqft  \n",
              "0     3699.810606  \n",
              "1     4615.384615  \n",
              "2     4305.555556  \n",
              "3     6245.890861  \n",
              "4     4250.000000  \n",
              "5     3247.863248  \n",
              "6     7467.057101  \n",
              "7    18181.818182  \n",
              "8     4828.244275  \n",
              "9    36274.509804  "
            ],
            "text/html": [
              "\n",
              "  <div id=\"df-c1b22125-e91b-4e51-94fe-a30a62ff7ed4\">\n",
              "    <div class=\"colab-df-container\">\n",
              "      <div>\n",
              "<style scoped>\n",
              "    .dataframe tbody tr th:only-of-type {\n",
              "        vertical-align: middle;\n",
              "    }\n",
              "\n",
              "    .dataframe tbody tr th {\n",
              "        vertical-align: top;\n",
              "    }\n",
              "\n",
              "    .dataframe thead th {\n",
              "        text-align: right;\n",
              "    }\n",
              "</style>\n",
              "<table border=\"1\" class=\"dataframe\">\n",
              "  <thead>\n",
              "    <tr style=\"text-align: right;\">\n",
              "      <th></th>\n",
              "      <th>location</th>\n",
              "      <th>size</th>\n",
              "      <th>total_sqft</th>\n",
              "      <th>bath</th>\n",
              "      <th>price</th>\n",
              "      <th>BHK</th>\n",
              "      <th>price_per_sqft</th>\n",
              "    </tr>\n",
              "  </thead>\n",
              "  <tbody>\n",
              "    <tr>\n",
              "      <th>0</th>\n",
              "      <td>Electronic City Phase II</td>\n",
              "      <td>2 BHK</td>\n",
              "      <td>1056.0</td>\n",
              "      <td>2.0</td>\n",
              "      <td>39.07</td>\n",
              "      <td>2</td>\n",
              "      <td>3699.810606</td>\n",
              "    </tr>\n",
              "    <tr>\n",
              "      <th>1</th>\n",
              "      <td>Chikka Tirupathi</td>\n",
              "      <td>4 Bedroom</td>\n",
              "      <td>2600.0</td>\n",
              "      <td>5.0</td>\n",
              "      <td>120.00</td>\n",
              "      <td>4</td>\n",
              "      <td>4615.384615</td>\n",
              "    </tr>\n",
              "    <tr>\n",
              "      <th>2</th>\n",
              "      <td>Uttarahalli</td>\n",
              "      <td>3 BHK</td>\n",
              "      <td>1440.0</td>\n",
              "      <td>2.0</td>\n",
              "      <td>62.00</td>\n",
              "      <td>3</td>\n",
              "      <td>4305.555556</td>\n",
              "    </tr>\n",
              "    <tr>\n",
              "      <th>3</th>\n",
              "      <td>Lingadheeranahalli</td>\n",
              "      <td>3 BHK</td>\n",
              "      <td>1521.0</td>\n",
              "      <td>3.0</td>\n",
              "      <td>95.00</td>\n",
              "      <td>3</td>\n",
              "      <td>6245.890861</td>\n",
              "    </tr>\n",
              "    <tr>\n",
              "      <th>4</th>\n",
              "      <td>Kothanur</td>\n",
              "      <td>2 BHK</td>\n",
              "      <td>1200.0</td>\n",
              "      <td>2.0</td>\n",
              "      <td>51.00</td>\n",
              "      <td>2</td>\n",
              "      <td>4250.000000</td>\n",
              "    </tr>\n",
              "    <tr>\n",
              "      <th>5</th>\n",
              "      <td>Whitefield</td>\n",
              "      <td>2 BHK</td>\n",
              "      <td>1170.0</td>\n",
              "      <td>2.0</td>\n",
              "      <td>38.00</td>\n",
              "      <td>2</td>\n",
              "      <td>3247.863248</td>\n",
              "    </tr>\n",
              "    <tr>\n",
              "      <th>6</th>\n",
              "      <td>Old Airport Road</td>\n",
              "      <td>4 BHK</td>\n",
              "      <td>2732.0</td>\n",
              "      <td>4.0</td>\n",
              "      <td>204.00</td>\n",
              "      <td>4</td>\n",
              "      <td>7467.057101</td>\n",
              "    </tr>\n",
              "    <tr>\n",
              "      <th>7</th>\n",
              "      <td>Rajaji Nagar</td>\n",
              "      <td>4 BHK</td>\n",
              "      <td>3300.0</td>\n",
              "      <td>4.0</td>\n",
              "      <td>600.00</td>\n",
              "      <td>4</td>\n",
              "      <td>18181.818182</td>\n",
              "    </tr>\n",
              "    <tr>\n",
              "      <th>8</th>\n",
              "      <td>Marathahalli</td>\n",
              "      <td>3 BHK</td>\n",
              "      <td>1310.0</td>\n",
              "      <td>3.0</td>\n",
              "      <td>63.25</td>\n",
              "      <td>3</td>\n",
              "      <td>4828.244275</td>\n",
              "    </tr>\n",
              "    <tr>\n",
              "      <th>9</th>\n",
              "      <td>other</td>\n",
              "      <td>6 Bedroom</td>\n",
              "      <td>1020.0</td>\n",
              "      <td>6.0</td>\n",
              "      <td>370.00</td>\n",
              "      <td>6</td>\n",
              "      <td>36274.509804</td>\n",
              "    </tr>\n",
              "  </tbody>\n",
              "</table>\n",
              "</div>\n",
              "      <button class=\"colab-df-convert\" onclick=\"convertToInteractive('df-c1b22125-e91b-4e51-94fe-a30a62ff7ed4')\"\n",
              "              title=\"Convert this dataframe to an interactive table.\"\n",
              "              style=\"display:none;\">\n",
              "        \n",
              "  <svg xmlns=\"http://www.w3.org/2000/svg\" height=\"24px\"viewBox=\"0 0 24 24\"\n",
              "       width=\"24px\">\n",
              "    <path d=\"M0 0h24v24H0V0z\" fill=\"none\"/>\n",
              "    <path d=\"M18.56 5.44l.94 2.06.94-2.06 2.06-.94-2.06-.94-.94-2.06-.94 2.06-2.06.94zm-11 1L8.5 8.5l.94-2.06 2.06-.94-2.06-.94L8.5 2.5l-.94 2.06-2.06.94zm10 10l.94 2.06.94-2.06 2.06-.94-2.06-.94-.94-2.06-.94 2.06-2.06.94z\"/><path d=\"M17.41 7.96l-1.37-1.37c-.4-.4-.92-.59-1.43-.59-.52 0-1.04.2-1.43.59L10.3 9.45l-7.72 7.72c-.78.78-.78 2.05 0 2.83L4 21.41c.39.39.9.59 1.41.59.51 0 1.02-.2 1.41-.59l7.78-7.78 2.81-2.81c.8-.78.8-2.07 0-2.86zM5.41 20L4 18.59l7.72-7.72 1.47 1.35L5.41 20z\"/>\n",
              "  </svg>\n",
              "      </button>\n",
              "      \n",
              "  <style>\n",
              "    .colab-df-container {\n",
              "      display:flex;\n",
              "      flex-wrap:wrap;\n",
              "      gap: 12px;\n",
              "    }\n",
              "\n",
              "    .colab-df-convert {\n",
              "      background-color: #E8F0FE;\n",
              "      border: none;\n",
              "      border-radius: 50%;\n",
              "      cursor: pointer;\n",
              "      display: none;\n",
              "      fill: #1967D2;\n",
              "      height: 32px;\n",
              "      padding: 0 0 0 0;\n",
              "      width: 32px;\n",
              "    }\n",
              "\n",
              "    .colab-df-convert:hover {\n",
              "      background-color: #E2EBFA;\n",
              "      box-shadow: 0px 1px 2px rgba(60, 64, 67, 0.3), 0px 1px 3px 1px rgba(60, 64, 67, 0.15);\n",
              "      fill: #174EA6;\n",
              "    }\n",
              "\n",
              "    [theme=dark] .colab-df-convert {\n",
              "      background-color: #3B4455;\n",
              "      fill: #D2E3FC;\n",
              "    }\n",
              "\n",
              "    [theme=dark] .colab-df-convert:hover {\n",
              "      background-color: #434B5C;\n",
              "      box-shadow: 0px 1px 3px 1px rgba(0, 0, 0, 0.15);\n",
              "      filter: drop-shadow(0px 1px 2px rgba(0, 0, 0, 0.3));\n",
              "      fill: #FFFFFF;\n",
              "    }\n",
              "  </style>\n",
              "\n",
              "      <script>\n",
              "        const buttonEl =\n",
              "          document.querySelector('#df-c1b22125-e91b-4e51-94fe-a30a62ff7ed4 button.colab-df-convert');\n",
              "        buttonEl.style.display =\n",
              "          google.colab.kernel.accessAllowed ? 'block' : 'none';\n",
              "\n",
              "        async function convertToInteractive(key) {\n",
              "          const element = document.querySelector('#df-c1b22125-e91b-4e51-94fe-a30a62ff7ed4');\n",
              "          const dataTable =\n",
              "            await google.colab.kernel.invokeFunction('convertToInteractive',\n",
              "                                                     [key], {});\n",
              "          if (!dataTable) return;\n",
              "\n",
              "          const docLinkHtml = 'Like what you see? Visit the ' +\n",
              "            '<a target=\"_blank\" href=https://colab.research.google.com/notebooks/data_table.ipynb>data table notebook</a>'\n",
              "            + ' to learn more about interactive tables.';\n",
              "          element.innerHTML = '';\n",
              "          dataTable['output_type'] = 'display_data';\n",
              "          await google.colab.output.renderOutput(dataTable, element);\n",
              "          const docLink = document.createElement('div');\n",
              "          docLink.innerHTML = docLinkHtml;\n",
              "          element.appendChild(docLink);\n",
              "        }\n",
              "      </script>\n",
              "    </div>\n",
              "  </div>\n",
              "  "
            ]
          },
          "metadata": {},
          "execution_count": 67
        }
      ]
    },
    {
      "cell_type": "markdown",
      "source": [
        "**Checking for outliers**"
      ],
      "metadata": {
        "id": "N9MZdAbf6zeB"
      }
    },
    {
      "cell_type": "code",
      "source": [
        "#considering that a typical bedroom spreads over 300 sqft \n",
        "df3[df3.total_sqft/df3.BHK<300].head()"
      ],
      "metadata": {
        "colab": {
          "base_uri": "https://localhost:8080/",
          "height": 206
        },
        "id": "PokfQXKp4-wp",
        "outputId": "213e8954-16b0-486f-af83-d2c30e773806"
      },
      "execution_count": null,
      "outputs": [
        {
          "output_type": "execute_result",
          "data": {
            "text/plain": [
              "               location       size  total_sqft  bath  price  BHK  \\\n",
              "9                 other  6 Bedroom      1020.0   6.0  370.0    6   \n",
              "45           HSR Layout  8 Bedroom       600.0   9.0  200.0    8   \n",
              "58        Murugeshpalya  6 Bedroom      1407.0   4.0  150.0    6   \n",
              "68  Devarachikkanahalli  8 Bedroom      1350.0   7.0   85.0    8   \n",
              "70                other  3 Bedroom       500.0   3.0  100.0    3   \n",
              "\n",
              "    price_per_sqft  \n",
              "9     36274.509804  \n",
              "45    33333.333333  \n",
              "58    10660.980810  \n",
              "68     6296.296296  \n",
              "70    20000.000000  "
            ],
            "text/html": [
              "\n",
              "  <div id=\"df-177c9e37-f756-408d-ad67-80d0497b101f\">\n",
              "    <div class=\"colab-df-container\">\n",
              "      <div>\n",
              "<style scoped>\n",
              "    .dataframe tbody tr th:only-of-type {\n",
              "        vertical-align: middle;\n",
              "    }\n",
              "\n",
              "    .dataframe tbody tr th {\n",
              "        vertical-align: top;\n",
              "    }\n",
              "\n",
              "    .dataframe thead th {\n",
              "        text-align: right;\n",
              "    }\n",
              "</style>\n",
              "<table border=\"1\" class=\"dataframe\">\n",
              "  <thead>\n",
              "    <tr style=\"text-align: right;\">\n",
              "      <th></th>\n",
              "      <th>location</th>\n",
              "      <th>size</th>\n",
              "      <th>total_sqft</th>\n",
              "      <th>bath</th>\n",
              "      <th>price</th>\n",
              "      <th>BHK</th>\n",
              "      <th>price_per_sqft</th>\n",
              "    </tr>\n",
              "  </thead>\n",
              "  <tbody>\n",
              "    <tr>\n",
              "      <th>9</th>\n",
              "      <td>other</td>\n",
              "      <td>6 Bedroom</td>\n",
              "      <td>1020.0</td>\n",
              "      <td>6.0</td>\n",
              "      <td>370.0</td>\n",
              "      <td>6</td>\n",
              "      <td>36274.509804</td>\n",
              "    </tr>\n",
              "    <tr>\n",
              "      <th>45</th>\n",
              "      <td>HSR Layout</td>\n",
              "      <td>8 Bedroom</td>\n",
              "      <td>600.0</td>\n",
              "      <td>9.0</td>\n",
              "      <td>200.0</td>\n",
              "      <td>8</td>\n",
              "      <td>33333.333333</td>\n",
              "    </tr>\n",
              "    <tr>\n",
              "      <th>58</th>\n",
              "      <td>Murugeshpalya</td>\n",
              "      <td>6 Bedroom</td>\n",
              "      <td>1407.0</td>\n",
              "      <td>4.0</td>\n",
              "      <td>150.0</td>\n",
              "      <td>6</td>\n",
              "      <td>10660.980810</td>\n",
              "    </tr>\n",
              "    <tr>\n",
              "      <th>68</th>\n",
              "      <td>Devarachikkanahalli</td>\n",
              "      <td>8 Bedroom</td>\n",
              "      <td>1350.0</td>\n",
              "      <td>7.0</td>\n",
              "      <td>85.0</td>\n",
              "      <td>8</td>\n",
              "      <td>6296.296296</td>\n",
              "    </tr>\n",
              "    <tr>\n",
              "      <th>70</th>\n",
              "      <td>other</td>\n",
              "      <td>3 Bedroom</td>\n",
              "      <td>500.0</td>\n",
              "      <td>3.0</td>\n",
              "      <td>100.0</td>\n",
              "      <td>3</td>\n",
              "      <td>20000.000000</td>\n",
              "    </tr>\n",
              "  </tbody>\n",
              "</table>\n",
              "</div>\n",
              "      <button class=\"colab-df-convert\" onclick=\"convertToInteractive('df-177c9e37-f756-408d-ad67-80d0497b101f')\"\n",
              "              title=\"Convert this dataframe to an interactive table.\"\n",
              "              style=\"display:none;\">\n",
              "        \n",
              "  <svg xmlns=\"http://www.w3.org/2000/svg\" height=\"24px\"viewBox=\"0 0 24 24\"\n",
              "       width=\"24px\">\n",
              "    <path d=\"M0 0h24v24H0V0z\" fill=\"none\"/>\n",
              "    <path d=\"M18.56 5.44l.94 2.06.94-2.06 2.06-.94-2.06-.94-.94-2.06-.94 2.06-2.06.94zm-11 1L8.5 8.5l.94-2.06 2.06-.94-2.06-.94L8.5 2.5l-.94 2.06-2.06.94zm10 10l.94 2.06.94-2.06 2.06-.94-2.06-.94-.94-2.06-.94 2.06-2.06.94z\"/><path d=\"M17.41 7.96l-1.37-1.37c-.4-.4-.92-.59-1.43-.59-.52 0-1.04.2-1.43.59L10.3 9.45l-7.72 7.72c-.78.78-.78 2.05 0 2.83L4 21.41c.39.39.9.59 1.41.59.51 0 1.02-.2 1.41-.59l7.78-7.78 2.81-2.81c.8-.78.8-2.07 0-2.86zM5.41 20L4 18.59l7.72-7.72 1.47 1.35L5.41 20z\"/>\n",
              "  </svg>\n",
              "      </button>\n",
              "      \n",
              "  <style>\n",
              "    .colab-df-container {\n",
              "      display:flex;\n",
              "      flex-wrap:wrap;\n",
              "      gap: 12px;\n",
              "    }\n",
              "\n",
              "    .colab-df-convert {\n",
              "      background-color: #E8F0FE;\n",
              "      border: none;\n",
              "      border-radius: 50%;\n",
              "      cursor: pointer;\n",
              "      display: none;\n",
              "      fill: #1967D2;\n",
              "      height: 32px;\n",
              "      padding: 0 0 0 0;\n",
              "      width: 32px;\n",
              "    }\n",
              "\n",
              "    .colab-df-convert:hover {\n",
              "      background-color: #E2EBFA;\n",
              "      box-shadow: 0px 1px 2px rgba(60, 64, 67, 0.3), 0px 1px 3px 1px rgba(60, 64, 67, 0.15);\n",
              "      fill: #174EA6;\n",
              "    }\n",
              "\n",
              "    [theme=dark] .colab-df-convert {\n",
              "      background-color: #3B4455;\n",
              "      fill: #D2E3FC;\n",
              "    }\n",
              "\n",
              "    [theme=dark] .colab-df-convert:hover {\n",
              "      background-color: #434B5C;\n",
              "      box-shadow: 0px 1px 3px 1px rgba(0, 0, 0, 0.15);\n",
              "      filter: drop-shadow(0px 1px 2px rgba(0, 0, 0, 0.3));\n",
              "      fill: #FFFFFF;\n",
              "    }\n",
              "  </style>\n",
              "\n",
              "      <script>\n",
              "        const buttonEl =\n",
              "          document.querySelector('#df-177c9e37-f756-408d-ad67-80d0497b101f button.colab-df-convert');\n",
              "        buttonEl.style.display =\n",
              "          google.colab.kernel.accessAllowed ? 'block' : 'none';\n",
              "\n",
              "        async function convertToInteractive(key) {\n",
              "          const element = document.querySelector('#df-177c9e37-f756-408d-ad67-80d0497b101f');\n",
              "          const dataTable =\n",
              "            await google.colab.kernel.invokeFunction('convertToInteractive',\n",
              "                                                     [key], {});\n",
              "          if (!dataTable) return;\n",
              "\n",
              "          const docLinkHtml = 'Like what you see? Visit the ' +\n",
              "            '<a target=\"_blank\" href=https://colab.research.google.com/notebooks/data_table.ipynb>data table notebook</a>'\n",
              "            + ' to learn more about interactive tables.';\n",
              "          element.innerHTML = '';\n",
              "          dataTable['output_type'] = 'display_data';\n",
              "          await google.colab.output.renderOutput(dataTable, element);\n",
              "          const docLink = document.createElement('div');\n",
              "          docLink.innerHTML = docLinkHtml;\n",
              "          element.appendChild(docLink);\n",
              "        }\n",
              "      </script>\n",
              "    </div>\n",
              "  </div>\n",
              "  "
            ]
          },
          "metadata": {},
          "execution_count": 68
        }
      ]
    },
    {
      "cell_type": "code",
      "source": [
        "df3.shape"
      ],
      "metadata": {
        "colab": {
          "base_uri": "https://localhost:8080/"
        },
        "id": "g3yX0pi67lK8",
        "outputId": "aea4dc97-9665-419e-c3b2-e538927aa9eb"
      },
      "execution_count": null,
      "outputs": [
        {
          "output_type": "execute_result",
          "data": {
            "text/plain": [
              "(13246, 7)"
            ]
          },
          "metadata": {},
          "execution_count": 70
        }
      ]
    },
    {
      "cell_type": "code",
      "source": [
        "df4=df3[~(df3.total_sqft/df3.BHK<300)]\n",
        "df4.shape"
      ],
      "metadata": {
        "colab": {
          "base_uri": "https://localhost:8080/"
        },
        "id": "w8KWW_Zp7qjh",
        "outputId": "b2b5b303-04af-4407-c206-e98a5f1cadfe"
      },
      "execution_count": null,
      "outputs": [
        {
          "output_type": "execute_result",
          "data": {
            "text/plain": [
              "(12502, 7)"
            ]
          },
          "metadata": {},
          "execution_count": 71
        }
      ]
    },
    {
      "cell_type": "code",
      "source": [
        "sns.distplot(df4.price_per_sqft)"
      ],
      "metadata": {
        "colab": {
          "base_uri": "https://localhost:8080/",
          "height": 570
        },
        "id": "nXphocVz8K8v",
        "outputId": "b36c4d6e-c60e-4b13-81b4-9bfb7e380dfb"
      },
      "execution_count": null,
      "outputs": [
        {
          "output_type": "stream",
          "name": "stderr",
          "text": [
            "/usr/local/lib/python3.7/dist-packages/seaborn/distributions.py:2619: FutureWarning: `distplot` is a deprecated function and will be removed in a future version. Please adapt your code to use either `displot` (a figure-level function with similar flexibility) or `histplot` (an axes-level function for histograms).\n",
            "  warnings.warn(msg, FutureWarning)\n"
          ]
        },
        {
          "output_type": "execute_result",
          "data": {
            "text/plain": [
              "<matplotlib.axes._subplots.AxesSubplot at 0x7fa60ea50d50>"
            ]
          },
          "metadata": {},
          "execution_count": 72
        },
        {
          "output_type": "display_data",
          "data": {
            "text/plain": [
              "<Figure size 864x576 with 1 Axes>"
            ],
            "image/png": "[encoded data removed]"
          },
          "metadata": {
            "needs_background": "light"
          }
        }
      ]
    },
    {
      "cell_type": "code",
      "source": [
        "def remove_pps_outliers(df):\n",
        "    df_out = pd.DataFrame()\n",
        "    for key, subdf in df.groupby('location'):\n",
        "        m = np.mean(subdf.price_per_sqft)\n",
        "        st = np.std(subdf.price_per_sqft)\n",
        "        reduced_df = subdf[(subdf.price_per_sqft>(m-st)) & (subdf.price_per_sqft<=(m+st))]\n",
        "        df_out = pd.concat([df_out,reduced_df],ignore_index=True)\n",
        "    return df_out\n",
        "df5 = remove_pps_outliers(df4)\n",
        "df5.shape"
      ],
      "metadata": {
        "colab": {
          "base_uri": "https://localhost:8080/"
        },
        "id": "lImSjyEs9kh4",
        "outputId": "561f15a1-e8f0-4c90-8da6-67a7c9c82ae5"
      },
      "execution_count": null,
      "outputs": [
        {
          "output_type": "execute_result",
          "data": {
            "text/plain": [
              "(10241, 7)"
            ]
          },
          "metadata": {},
          "execution_count": 73
        }
      ]
    },
    {
      "cell_type": "code",
      "source": [
        "def plot_scatter_chart(df,location):\n",
        "    bhk2 = df[(df.location==location) & (df.BHK==2)]\n",
        "    bhk3 = df[(df.location==location) & (df.BHK==3)]\n",
        "    plt.rcParams['figure.figsize'] = (15,10)\n",
        "    plt.scatter(bhk2.total_sqft,bhk2.price,color='blue',label='2 BHK', s=50)\n",
        "    plt.scatter(bhk3.total_sqft,bhk3.price,marker='+', color='green',label='3 BHK', s=50)\n",
        "    plt.xlabel(\"Total Square Feet Area\")\n",
        "    plt.ylabel(\"Price (Lakh Indian Rupees)\")\n",
        "    plt.title(location)\n",
        "    plt.legend()\n",
        "    \n",
        "plot_scatter_chart(df5,\"Rajaji Nagar\")"
      ],
      "metadata": {
        "colab": {
          "base_uri": "https://localhost:8080/",
          "height": 621
        },
        "id": "Xrr-4j9Q-UjG",
        "outputId": "a3f677d1-c3fb-4073-fad5-bdc6d471e860"
      },
      "execution_count": null,
      "outputs": [
        {
          "output_type": "display_data",
          "data": {
            "text/plain": [
              "<Figure size 1080x720 with 1 Axes>"
            ],
            "image/png": "[encoded data removed]"
          },
          "metadata": {
            "needs_background": "light"
          }
        }
      ]
    },
    {
      "cell_type": "code",
      "source": [
        "plot_scatter_chart(df5,\"Hebbal\")"
      ],
      "metadata": {
        "colab": {
          "base_uri": "https://localhost:8080/",
          "height": 621
        },
        "id": "xy1nRIDWIaHL",
        "outputId": "710952ac-a1bf-4a71-c8ff-1fde9d575475"
      },
      "execution_count": null,
      "outputs": [
        {
          "output_type": "display_data",
          "data": {
            "text/plain": [
              "<Figure size 1080x720 with 1 Axes>"
            ],
            "image/png": "[encoded data removed]"
          },
          "metadata": {
            "needs_background": "light"
          }
        }
      ]
    },
    {
      "cell_type": "markdown",
      "source": [
        "**We should also remove properties where for same location, the price of (for example) 3 bedroom apartment is less than 2 bedroom apartment (with same square ft area). What we will do is for a given location, we will build a dictionary of stats per bhk, i.e.**\n",
        "\n",
        "{\n",
        "   \n",
        "    '1' : {\n",
        "        'mean': 4000,\n",
        "        'std: 2000,\n",
        "        'count': 34\n",
        "    },\n",
        "    '2' : {\n",
        "        'mean': 4300,\n",
        "        'std: 2300,\n",
        "        'count': 22\n",
        "    },    \n",
        "}\n",
        "\n",
        "**Now we can remove those 2 BHK apartments whose price_per_sqft is less than mean price_per_sqft of 1 BHK apartment**"
      ],
      "metadata": {
        "id": "-7y-Vi6oJKC0"
      }
    },
    {
      "cell_type": "code",
      "source": [
        "def remove_bhk_outliers(df):\n",
        "    exclude_indices = np.array([])\n",
        "    for location, location_df in df.groupby('location'):\n",
        "        bhk_stats = {}\n",
        "        for bhk, bhk_df in location_df.groupby('BHK'):\n",
        "            bhk_stats[bhk] = {\n",
        "                'mean': np.mean(bhk_df.price_per_sqft),\n",
        "                'std': np.std(bhk_df.price_per_sqft),\n",
        "                'count': bhk_df.shape[0]\n",
        "            }\n",
        "        for bhk, bhk_df in location_df.groupby('BHK'):\n",
        "            stats = bhk_stats.get(bhk-1)\n",
        "            if stats and stats['count']>5:\n",
        "                exclude_indices = np.append(exclude_indices, bhk_df[bhk_df.price_per_sqft<(stats['mean'])].index.values)\n",
        "    return df.drop(exclude_indices,axis='index')\n",
        "df6 = remove_bhk_outliers(df5)\n",
        "df6.shape"
      ],
      "metadata": {
        "colab": {
          "base_uri": "https://localhost:8080/"
        },
        "id": "YyPz6T_2IhJL",
        "outputId": "225238ab-5b61-4efa-bae8-e992e281e604"
      },
      "execution_count": null,
      "outputs": [
        {
          "output_type": "execute_result",
          "data": {
            "text/plain": [
              "(7329, 7)"
            ]
          },
          "metadata": {},
          "execution_count": 85
        }
      ]
    },
    {
      "cell_type": "code",
      "source": [
        "plot_scatter_chart(df6,\"Rajaji Nagar\")"
      ],
      "metadata": {
        "colab": {
          "base_uri": "https://localhost:8080/",
          "height": 621
        },
        "id": "XR9pZ2HJNk7_",
        "outputId": "44f165d3-be4c-442c-8c91-82efcb7de1b3"
      },
      "execution_count": null,
      "outputs": [
        {
          "output_type": "display_data",
          "data": {
            "text/plain": [
              "<Figure size 1080x720 with 1 Axes>"
            ],
            "image/png": "[encoded data removed]"
          },
          "metadata": {
            "needs_background": "light"
          }
        }
      ]
    },
    {
      "cell_type": "code",
      "source": [
        "plot_scatter_chart(df6,\"Hebbal\")"
      ],
      "metadata": {
        "colab": {
          "base_uri": "https://localhost:8080/",
          "height": 621
        },
        "id": "fLeDSc-xOEd1",
        "outputId": "76ac0ded-b1ed-4f62-af35-c59755142f87"
      },
      "execution_count": null,
      "outputs": [
        {
          "output_type": "display_data",
          "data": {
            "text/plain": [
              "<Figure size 1080x720 with 1 Axes>"
            ],
            "image/png": "[encoded data removed]"
          },
          "metadata": {
            "needs_background": "light"
          }
        }
      ]
    },
    {
      "cell_type": "markdown",
      "source": [
        "**Before and after outlier removal: Rajaji Nagar**\n",
        "\n",
        "Similar observation for Hebbal"
      ],
      "metadata": {
        "id": "f99Kjw6JOlcA"
      }
    },
    {
      "cell_type": "markdown",
      "source": [
        "![image.png](data:image/png;base64,iVBORw0KGgoAAAANSUhEUgAABCgAAAFYCAYAAACRcs2aAAAAAXNSR0IArs4c6QAAAARnQU1BAACxjwv8YQUAAAAJcEhZcwAADsMAAA7DAcdvqGQAAJ2fSURBVHhe7d0HfFXl+QfwH2TvhJkQ9gh77z0EQUVwi3W0aqu2am2rVrus/ltbbbVate4tRcDNEgHZeybshE1YCYGQQEISkvC/v/ecq5EyAhn3nnt/Xz73k3vPufeSk3vuOe953ud93hpJSUmnISIiIiIiIiJSTVJTU+1736tp/xQRERERERER8RgFKERERERERETE42rs2bNHQzxE/MjevXuxePFihIeHo0ePHmjYsKG95ntr165FvXr1/mfd9u3bUVBQgLCwMAQGBqJRo0aoUaOGec+srCy0b98eR48exYkTJ5CUlGS/SkScZurUqXjppZfsR57Ru3dvPPHEE/YjERER8TUtW7a0732vxmkX+76I+IEPPvgAq1evRufOnZGdnY077rgDpaWl2LVrF+rXr48mTZrg2LFjiIiIMMEIBiWio6PRrFkz87i4uNgEJxiYiIyMNK+dMGECJk2ahL/97W/mffia++67D9u2bTP/Z7t27RAQEID09HTk5OSY4Ajf79ChQ9i/fz8SExPRoEEDE+hgcIP/N4MjQUFB5vUiUr34nX7qqafsR54xZMgQvPLKK/YjERER8TVna+sHPOli3xcRP7Bp0yYwLtm8eXMTIOjUqZMJDHA5AxcMOnzzzTffHTDWrFmDpUuXonbt2khLSzPZFZmZmTh8+DAaN25snsPAQ0ZGhsmsCAkJQX5+Plq0aIF169aZbA0GPIKDg/Hll1+a/+uLL77AgAEDsHPnTvN+K1euNM9/9dVXzWsYTWUGB4MaIlL9NmzYgAULFtiPPKNp06YYPXq0CYbqpptu/nWrWbOmuZ1r+bnW66abbs668Xt8JtWgEPFDzHJYv3494uLiTFChqKgIUVFRJpDArIfCwkKTKXHq1CkTsGBWw9atW81ruYzreHPjwYUZGRzmkZycbDIs+J58bwYZUlJSzI0ZGtdddx1iY2PN+pKSEvP++/btM5kUfNy3b19069bNBDRExH+drSGjm266Of9WNsDgvp35HHak8Hbmciqb/O1eXp731E033bzvdjYKUIj4GQYYmDVxww03mEDExo0b8fnnn5usB570+ZMHDGZQsAf1wIED5nV5eXnfnfA5rIM3NwYrGOxgkGL27NkmoMGMDAY7GKDgUBIOE+HPLVu2mPfi//PVV1/h5MmT5nfiT74nAxYiIlS2EaObbrr5xo1tBmZT7tixw7QXuOzM4ALXMTvzzOXs0GA2p7tjg7icbYrc3FzTjmF7go/Lvs79f5+57Fzr3Y910023qr2djQIUIn6GadMsYMmfDFTwZN6vXz/s3r0bCQkJaNWqlTlgsAHRsWNHk1XB4R1t2rT5LijB+hDx8fHfHVxYP4LDPVjUbuTIkea9WWOCgQcGKHr27Ik+ffqYYRurVq0y2RO1atVC165dTdYFa1Tw/Rjg4HNERMh9jNFNN91858YAw+9+9zu8//77GD9+vBkyyrYIO02YSUlsE9StW9csd2dcEtsjbHPUqVPHtCP4fnzOrFmzwFHrDFywo2TGjBk/eK37/2Y7xv1efMy2Dp/jXk9cX/Y1uummW9XdzkZFMkXkBxgweOONN3DNNdeYWTnc2HB48803TXDi2muvtZeWH1/PYSIc285ej0cffdT0UoiI9/GGIplDhw7F66+/bj8SEV+xfPlyzJw5E7fddhsmT56MK664wnRmMKgQGhpqas+wRhUDEOy0+Oyzz0yw4frrrzdtFNbPYvCCFzfs6OBrP/nkE3O79957TZ0sBh2GDx9uMkRZ4Pumm24yQ1knTpxoinUzq/MnP/kJpk+fbgImfB8OMX322WdNAGTgwIFmuOm5LqBEpOp4bYCCkUv2vip+IlK9GDxgw6B///4/CCBweAaLZfIEzkbDxWKAYtmyZaaYJrMpOFuIiFQvNrY5fIsN+vNRgEJEqgqLbzMQwCxOtvfvuusuk8nATE4W62aAgENBmUXBtgiHorL9wAxPBhYYUGAbgsezyy+/3NS94tTIrK3FDAv3sFMGPjislMNV2bnCGcI4DIT1sBYuXGiyODjrWGpqqrmx8+Wxxx4z0xsz85NFv0Wk+nltgIIHLxbyY7RTRKoXAxM8NJx5eHAHLMrWn7gYbEy4eyMu9T1E5NKxV5HDr9q2bXveIIUCFCJSVVasWGGOMSyazaACsxU4oxc7Mg4ePGiGb7DINoeOss3AgASX8zGDFKxvxYAD140YMcIEKDhLGIMaXMaMC9bZ4hTmrIfFWhbsWOH7MkjBYagcBsJMUb4uJibGBChuvvlmM7Uxb3yuiHiG1wYoPvjgg++K7nnpryjis3iCP/N75w4s0KV+JyvjPUTk0rGHkhcBQ4YMOW/voAIUIlJV2Ak5d+5cPPTQQ5gzZ44plMlhGQxCMHDKICozKxo1amR+LlmyxLQZOnToYGplMZjAQAUNHjzYvObrr782HR/MynjwwQfN8BFeRzBTghnZDG4MGzbMZFowkMFCmhziwSGtzLrgYwYs3n33XTz99NOXlCkqIpXDawMUH330kenh6dGjh71EREREKoI9j+xNZNq0AhQi4gmsCcGAAAMIvM+gKYeecYhpeHi4mc1r0qRJJkDBoAJnE2OWBAMJrFPB4t233nqrCVow04KdHww68DEzJBjs4PvwPVmvgj+Zkc1lnB2Exbr5nr/85S9NPQq+llkU7iEg/H8uNAxORKqOAhQiIiKVhEMojh8/7lUZQhyaxQZ/cHCw6XnkRYACFJeGn2vZTDARqXycgpSzcowaNcoM5XBj4IEZ1pwtjJkSF4tTj/L6goU2+d4sjKli3SJV61LOmwpQiIiIVBI2fHnh7y3F1XiKZ+8ki8YxZVkBiovHFHP+zRh4YiNLAQqRqsUhGfzecUaPsricxzMGXC8Fh4Dwe+wO2uq7LFI92AZxTxFcHgpQiIiIVAKeTjmfPwMBTEeuCDbCmZrMIAKn2XMXrmUAhOnIsbGxJh2ZGRvun2y8E1OeOabb3QjnOqYts+ibAhQXj3/LKVOmmBRxziAgIlXLHQjkMa/sZcq5ll8MHhf5HgxWXOp7iMjF4dBSDrFiYdzyUIBCRESkEvB0eq4ABc+0x44BBw8C7ECIjbVXnAOLWbJ4HIMOLALXrl07E2R46623TGCBPREsEsdx1FdffTW2bt1q6kuw8d26dWszrR6DEDyPKkBRMRyjznTzfv36oW7duvZSERERKY/Nmzdj586dClCIiIhUp/MFKLZsAZ54gtXrgfbtgX/+E2jTxl55Fgwq8D1Y6Z49+GPGjEF2djb+/e9/m3HTGRkZptI9q+EPHz7cnPyZQnnkyBHzfBaW40wd7ClUgKJiGKBgsGjQoEEKUIiIiNdh+4OZlyw66y2X9mx/MMOTRWo3btxoOlGuvfZae+35qTKMiIhIFSotBT78EPj0U2DXLmDaNODf/2Yle/sJZ8ETOivVs+J8y5Ytv0tLZgOE2RUMRhCDEWlpaSaTgus5LIQ3BjH4WERERHwb2wQc/snzPjs3vOFG7BxhPZmLpQCFiIhIFWJnRlaW/cCWkcE6E/aDs2CGxH/+8x9TJI5V7NkjwjHT7I3o06ePyYY4evQomjdvbqbbYxYFGyYc9sGe/k8//RQHOZ5EREREfBrbBwwKsFZSRW/sIGGnCNsb7mWsbcVlZafs5XreeJ/ry97nc1gry/27XSwFKERERKqQ65yO4cOBZs2A4GAgMREYOxY4XyF6DitgQ4AnewYiiCf/pKQkbN++HXFxcSZLgkMhiUMP2rRpY5ZdeeWVZvgHh5t46ShOERERqUTny5rMzrbqYF0IMzFWrlyJr776Clu2bDHZD7ytW7cOn332GWbMmGHaFqtWrTI/Wfxy7dq1Zj2HcCQnJ5uf7qyJS83kVIBCRESkCvH8fOWVwGuvAc88A7zzDnDjjUBAgP2Es2BmxC9+8QszVz8zKHiSZzYFa1GMHTvWFM5ktkTPnj3NusaNG5uaTd27dzc1MJhFwWKZl9o4EBEREWfjaNAZM+BqTwC//KV1v6jIXnkWbDNwWCnbHevXrzc1rBhsYCCCmRAcYrp3716kpKSYAAZrS7AGFoeaMnNz165dpgOF2RYVoQCFiIhIFYuKAkaOBH79a+tneLi94hyYPcEpLZkmGcy0Cxc2HJhRweUMVgQEBHy3zn2fNz6Prz9fEUwRERHxbRs3Ar/9LTBxIiegAP78Z2vZubAtUb9+/e+GlPIxsf4VMyVYZJvTl7NGFrMpWED65MmTJpDBxx06dEB8fHyFO0cUoBAREUc7VXoKh04cMj99BRsHbBBwmtGy+JjL2aPhrktB7vvux1zvvi8iIiL+Z+/eHw7tYD2s/fut4t1nw3YDZwfj1OWdOnUynR3EYAVn4BgwYIDJmmCm5h133IGbbrrJdJywc4SZnRs2bDCFuis6vFQBChERcbTME5l4acVLOJpv1WrwVnmn8nD05FGUnr5w4ICVrxcuXGhumZmZZll+fr7preCN6ZXsyWAjgg0BzuLB+0yzZM/G8uXLTaFNERER8U+sfdWypVULixNr8H7jxtbQ07NhDQpmShw/ftxMW87ODnfBTE5TzvYF610lJCSYZTExMSbjol69erjmmmtMAW8O83DPNHapFKAQERFHKiopQvKhZExPm45vd32LqalTsSx9GU4Wn7Sf4V3WZ6zHlNQpOHnqwr8fq3Gzh4LTjLK3gkEINgwYsOA852xAcPnixYvNco4VZa8HH0+bNg07d+40w0BERETEP7VuDfzxj8B991l1KB57zFp2rgAF2x6sdXXjjTeiadOmJjjBYR6sd8WaWCNHjjQBCta5SkxMNPWy+vXrZ2YXY8YFf7Zr1+67oSGXSgEKERFxpFMlp7A1ayuW7luKQ8cPYXH6YqRkpKCw+Dzzd3pAyekSE5xYtGcRFuxZgFUHVuHA8QP22rPjGE/2QDDQwFoSHM/JGzMrWJjqxIkTpiHBrAkWplqyZIl5Pitos7o2UzFZqEpERET8E8tUDR0K/P3vwF//at0/X98FAxINGjQwwYnatWubx2x7sPYVl3Edgw98zGEd7AhxT0XK+5xilFkVKpIpIiJ+KSI4AuM6jMOfBv0JvRv2xlNDnsJ9Pe5DbKg197a3yD+VjxeWv4APkj/A7B2z8dT8p0yg4nw4DpQzcowePdpM5cW6EwxAsMfirrvuMj85rIM9FT/+8Y8xZMgQ02ho1KiRCWgwo8I9zZeIiIhUvtOuf6x/VZ6hm57CZIboaKtYd3kSG5ixeWYNCfeyM5efTXmecyEKUIiIiKPFhsXimjbXIDrEdQb2QhFBEXh62NP4db9f4/p21+M/V/0HV7W6yl57dgcPHsS3335rxnLWrVvXZEuwt4JFMhctWmR+cswnezFYxIoZFyxUlZSUhNtvvx2rV6829ShERESkarCu1KSNk7D72G57ifdhEOV40XEzLPZCGFxgu4PDSFn/io/ZYcKpRVeuXGkyODnMlI85eweHmLK9wppYvM+fWVlZFQ5SKEAhIiKOVjusNm7peAviwrxzSEPNGjXRIKoBeif2xvDmw9EsttkFgykMODAAwSyKrl27muwI1qS44YYbzBzl/fv3N+M+WTWb6Zdt27bFwIEDzTLev/766016poiIiFS+bUe2YcneJZi1fRYW7lmI1KxUe413KSktwfj148v1+zGwwAKZLMS9dOlSM30oO0R4nwEKTiWanp6Or7/+2gQpOGsHa1+xPtbMmTPN8xioUIBCRET8HtMr2UvgzdrUboMRzUcgNOjCxSs5hpOBCQ7hYGYEMVOiffv2JmjRpEkTkz3B6tnkrqTNG7MtOASEAQ4RERGpfCv2rzDFuTce3ohvdnxj6mB5E7aJjuQfwabDm/DZls+wJH0J9ubsRWHJuet0sXYE2w8cVspMCTc+zsnJMTcGHzhL2OzZs039K9bEys7OxhdffGGKZrqLa1aEAhQiIuJoh04cwgvLXkBWXpa9xDOYycBMB56smfp45q24qBinT51GwcmCs66vqlteXl6FGwsiIiLyvevaXodf9/01BjQegHu63YNx7cfZa7xDcWkxZu+cjT/N/RNW7l+Jt9a+hZdXvmzaTOfDAtvMxmQgwj1dKKcUHTZsGDp06GCGgLCDhJmc7Ehh3SvemPl59GjlTPeuFouXY4bM8ePA4sXAihVATo61TETE3zFrIu9UHvbl7sO8XfPMzxNFJzxarIqZDByvyaCAt9yIjQkRERGpHOFB4YiPjEf/Rv3RNK6pKdztTQJrBmJky5F4+rKnzRDTe7vfi1/1+RUSIhPsZ/wvDufglOWbN282HRvuzg0O9di0aZMp2s1gBQMSDGTExsaajhk+vvnmm03x7nXr1lW4SHfAky72fa/CCuQsDMbpTPyZaz/Ar38N/POfwJdfWsGKbt2AsDD7CSIifoqzY0xNm4oJGyaYVMvME5nILshGq9qtEBp44WEUVYEnc06zxWEZ3nLj7+NuZBw5csSML23cuLEZCnIuHFe6YMH5Zxqpas2aNTOzmHgaU1s53SuH1bBhJiIiQmFBYWhft70p1l3D9c9TGBDgjcW0mc1J/H3CAsNQK7SWmdp8YOOBaF2nNQJqnn8qDw7X4JShPXr0+G7KUE4jykAEa2Axa8I9pJTrea3O82OLFi3M8A62Odgpwtcxi5PBC7Y9mF3BGlnloQwKL7dsGTBhArB/P7BrF/DZZ3A1lOyVIiJ+LDgwGD0b9DQzYrDw5Jg2YzCwyUDTqyEiIiJS1RgQ8GRw4kKYSXF/r/vRoV4He8m5MQjRqVMnDBgwwNSx4rYx0MDaEkOHDjU1sBhwYAcCO0BYvJs1KzjFubsWFjtA+D4VoQCFl2MQrPSMbGU7MCYi4teCagahRa0WJihxZdKVpnegXd12CA4Itp8hIiIiUjVY5yEzLxMFxd8XlPQEBhJYL+LMGlS8sdhlcGkwSk+VnnV9Vdz4f7IeF+tYuDM4L0aFAxRMJ+F4FKZtcNwt50LltCPuKUa4jmkdxF+YU5NwHAuf636dnNvAgcDNNwPh4SxaAlxzDdCypb1SRERQP6I+ft3n16gTXsdeIiJVIT8fSEnhECB7gYiIH8vKz8K76941U456Emf5YmYDr7XPVovKEzcGKTgs8lKyKSpcg4K/AKcV4Xyoffv2NdONTJs2DYcOHTLjVz7++GMzdpN/NM6RumjRIhOYYICCz0tOTjapIBzbQgxqcB3Hv6oGhVVrYtQoYNAg4NZbgRtvZLEze6WIiJieA46pdI+7lHNTDYqLpxoUluxs4O9/B373O2D8eFfDPAvo148NY/sJIiJ+ZH3GelP/au7uuWaIB7M6E6LOXYCyKrH9w/oTZ9ag8vTN3c7IzMys3hoUPFkPHDjQFMRg9Gb48OGmqEarVq2QkpJipinp2LEjVq5caYIZd955pwlerF692oxjYUGNVatW2e8GE23ZsmULtm3bpsamje2hYcOsbAo7jiMiIiJSbVxNM0yeDKSnW3WxXnkFSE62V4qI+JnkQ8mYu2suth/ZjsV7F2PNwTX2GqmoCgcoOK7EPd0IUzhyc3NN7wwLZnAoB6t4MnjBwAOjKCygwZ98zAwLrmM6ihuDElzPG7MpRERERMSzWA+rbLOM9ys4k5yIiGNd0+YaPNT7IQxrNgw/6/4z3NjuRnuNVFSFAxScL5XZDsx6YAok5z9lkIFVPRs2bGiGfHDeVGZKMCgxZcoUE3jgY04lytclJSXZ7wYTtGjTpo2pFioiIiIinte6NXD11UD9+kCdOsBPfgJ07myvFBHxM9Eh0Wheqzlu6XgLOtfvjJjQGHuNVFSFAxTMksjPzzdjSlggkxkTrEXBmhIc3hEfH29qSXAYCKcsYfHMyy+/HL179zZBDA4F4XyqZ1L2hIiIiFwMth0WL16ML7/80gwnnTFjBt59913zk/Wvpk6dampmsdZVWloaJk+ebIp3s7Pl888/x6xZs0ybRv6XqymHv/zFmu7c9WfEiy9q2KmI+LeIoAh0b9AdtcNr20ukMlRKDYorrrgCDz/8sAlCMDOCha049IPZENdffz1GjRplntehQwfcc8895jkc6jFmzBizTrUmREREpKLYnuBwU2ZnZmdnm04Q1sdKTU01hT8ZfNixYweWLVuG5cuXIycnBytWrMDMmTPN8xnEYODC3UnCQAaHoXL6NrGKdPfvD/Tpw/ny7YUiIn6MBTKlclU4QCEila+wkMOn7Aci4lNKSkuQXZBt5k+Xysdho5ylhIGJli1bmppWnTp1MtOid+7cGe3atTPBCgYz+ruutjn8dPPmzabAN7NBGajgc4nBibVr12LPnj0mWCEiIiJVSwEKES/CNvHSpcBLLwHvvw/s3PnDomQi4nxHTx7Fa6tfQ1Zelr1EKhODC5walAGFrKwskzHBwAMzK5gxwRuzOLme064yUMFhqRyCykLfDGy4MztZALx9+/ZmynNle4qIiFQ9BShEvMi6dcB99wF//Svw+OPAP/8JHD5srxQRR2PmRGZeJjYf3oyZ22ZiU9YmZOVnoeS0pkKoLByaweyIda6DKYdqMDjBYaesh8Ugw5o1a7B3714zJLV27dpmqAdnHeMU6Vy3fft2k33BYAYx+yIuLs7MOKYAhYiISNVTgELES3CI86JFcDWogdxc4OhRK5tizx5lUYj4gpzCHLy26jX8cd4fserAKjw570m8n/w+jhcet58hFcUgQq9evfDEE09g8ODBpgj3zTffbOpicYaw2267DXfffbeZZWzkyJG49957TQFvDgv56U9/inHjxpkARVkq2i0iIlJ9FKA4h+Ou9uKWLcDGjdbFotonUtVc7WfUrs2pdr9/XKsWC9Gy0W0tExHn4pRkP+32Uzwx6Al0T+iO3w/8PW7rdBuigjUVQmXicA3OHsafHKLBLAg3zjQWGRlp7nMoB4d6uNeXXSciIiKeoQDFWWRnA2+8Adx1F3D33cCrrwJHjtgrRaoIAxKXXQbccQfQowcwZIh1v0kT+wki4miBNQORGJ2ILvFdcEXLK9AloQviI+MRUFPTIYiI99HkNSK+g8NMd2bvxJ6cPSg97d1FnxWgOAMzJZKTgffeA5YvB1auBD74wKoNoALeUtUSE4E//hF46y3gP/8BbrrJyqAQEd8RFxaH+3rch7rhde0lIiLe49gx4IsvrM66JUuAggJ7hYg4VmFJIebsnINFexbhVKl3TxWoAMUZGKDg8I68PHuBS37+Dx+LVCUO8+jSBWjTRsEJEV/ETIra4bXNTxERb8Ipzt98E7jnHuD3vwd+9SurHpY66USca0f2Djy7+Fl8svkTTNgwAc8vfd4U7fZWClCcgWn2vDjs1s2qBcBb585Ap07WOhERcZ7Trn8iInJ++/YBX34JZGVZNdjWrwfmzQMKC+0niIjjsIB0cEAwAmsEms6RoIDvp9P2RrrkPgsW8H7uOeD5561pHnm/WTN7pYiIOApnz9h6eCvyT+XbS0Scgz3Xe/daw0958aiebKlK4eFAvXr2A5ewMKBOHXXSiThZ89jm+E2/3+Cm9jfhRx1/hId6P+TVw0x1uDmH5s2B++4Dfv5zIClJsyiIiDjRqZJTSMtKw/sp72P/8f1eP+5S5EwpKcBvfmMV7X7kEWuGMZGqUtd1zcL27+WXWwW7f/QjYORIIDjYfoKIOFJwzWAMbjoYfRv29fohpgpQnAejxQEqri4i4lgTNk7AG6vfwJwdc/DyipcxZesUe42I92M9gPfftwoWrl0LfPYZ8PHHmvpcqo57RrHXXrNqUTzxBNCqlTrqRJyOM4Y1j2uOJrFNULOGd4cAFKAQERGfVS+8HupH1UdMaAwSohJQO6y2vUbE+3E4x6FD3w/r4LSPGRkKUEjVCgqyMom7dgXi49VZJyLVSwEKERHxWUObDcU1ba5Bz8SeuKXDLRjSbIi9RsT7hYQA48ZZU1CzNkCTJsD111u93CIi4t1YoLv0tAoHXSyd4kRExGeNXz8e2SezcVvH21A3wnsLQomcy+jRwIcfAv/6F/DBB1b6vYiIeL+j+UexaO8iFBZrGpyLoQCFyEXijACbMjep2J6IF0vPTcfyfcsxbds0rD6w2iy70JhLzvKx7cg2FBQX2EtEPI/p9sOGAffcAwwebD0WERHvxawJtiU2Ht6Il1a8hEN5h1BUUmSvlQtRgELkIu05tgevr35dFzEiXizlUAo+SvkImzM349td32Ja2jTkFubaa8/u0IlDmLxpMo4VHLOXiHgPFSkUEXGGoyeP4oPkD0yR7hX7VuD5pc9j7q65ClKUkwIUIuXEi5bpadPx8caPsTh9sTnwrNq/ykxjKCLe5bJml+Evw/6CPg374NaOt+L+XvejTngde+0PcYzokr1LzHd7zq45eHftu5iSOkUNCREREblooYGhaFu3LdrUaYPa4bXRqX4nJEYlev3sGd5CfyWRcjpZfBKbDm8yPbIZeRlYe3At9uXuQ8npEvsZIuItwoLCUCuslglQsIEQHRKNgBrnLkW/O2e3ybo4cPwA1mWsw+bDm1FcWmyvFRERESkftkG6JXTD6KTR6BrfFTe0vwEd63dEYM1A+xlyPgpQiJRTfEQ8ftP3N/jtgN+a3tm/Df8bxrQeY6KkIuKdftbtZ+jdsLf96OxquP7d3P5m/HnInzG29Vg8PexpPNz3YYQHhdvPEBERESmfrLwsvLvuXZMx8fiAxxERGGGvkfJQgEKknGrUqGEin0m1knBnlzsRFxqHgJqaHFzEmwUFBJ03c8KN322mX17X9jo0iGpgXici4q2Y4VVYUmiGqImId+D3cWf2TszaMQszt8/E0vSlOJx3+ILZ1u6imqdP6/tMClCIXKQ6EXUwpOkQhASE2EtExBfEhMagV2IvRASrp0NEvBuHpH2y6ROUlGqYqYi3YIBhV/YuLNyzELuP7caCPQvMNKMXKqzPoeNvr3sbxwpVpJsUoBC5SEwHV5EbEd/j/m7zp4iIN2LmxImiE9iatdVMpXwk/4gK+op4CbYhhjYbiscHPo5BTQfh0X6P4rf9f2s6QM6GmRN5RXnYe2yvCWpwNjGTSeHnmVG6yhIRERERcQCmj/953p/xxpo3MHPHTPxx7h+x+sBqc6EjIp7HIEWt0FoY2XykGTLKIaTn6vjgdKT/Xvlv/HXRX7F472I8Of9JTEudhsLiQvsZ/kkBChERERERB0iISsCPu/zYFOnundgbd3W7C0m1k0ydLBHxDnFhcbi27bUmQHE+USFRuK7Ndbi90+3oVK8TftL5J+jTqI/f18FSgEJERCodC0JxGt78U/n2EhERqaio4Ch0qt8JlzW/DFcnXY2eDXqiTngdDU0TcSDWs+NU6IOaDMI1ba5B30Z90TC6YbmKe/syBShERKTSsXDbe+vew56cPfYSERGpLO3rtjcBCs0mJuJ8dcPr4tZOtyI6JNpe4t8qJUDBiqVlp0Up+/hs98+2TsRJqmq/5duuXg387nfAiy8Ce/faK0QcgoGJLVlbMG/3PDMueln6MqQdSTOF3UREpHIEBwSbGYeUOSHifAw0MjtKRfgtFf4rnDhxAp999hneeustFBcXIzk5Gf/973+xfv16ZGRk4L333sOnn36KAwcOYMGCBXjttdewbNkypKen4+OPP8bEiRPNe5xJY+nEW+04ugOvrHwFeafy7CWVg8GJpUuBH/0IeOYZ4LHHgCeegOu7Yz9BxAFOlZ7C3F1zMWHDBGw6vAnT0qZh0Z5FOFVyyn6GiIiIiMjZVThAERISgkaNGuHgwYPIzs7G4sWLERsbi7p162LFihXmfkREhFmelpaG3r17myAG10VHR6OkpASrVq2y3w0oKirC7t27TXBDxJtw2p/tR7djxf4VmJo2Fesz1uPg8YOVVjm71PU2a9YA+/dbj11fBaxfD9d3ywpeiDgBx1Oy2NNfhv7FTLX1YO8HcVOHmxAaGGo/Q0RERETk7CocoAgKCkLDhg1NsCEvLw/79u0zgYrVq1fjyJEjaNWqFeLj45GZmWmCGR06dEDNmjVNACIxMREJCQkmuOF26tQpHD582LxWWRTiTXIKczBz+0xMTZ2KbUe34eP1H2PtwbWV1jPM3d31VUJwsL3ApW5dICbGWifiBDxucwwlK1ff2O5GtKvTzqQt6nguIiIiIhdS4QAFx+KfPHnSDNNgA7Rp06Ym6MAhHOHh4dizZw+ysrJQq1Yt87xdu3aZLIk6deqY5QxcMNvCja/p3Lkz2rRpU2Xj/EUuRe2w2ri5w80Y12Ec2tZui3t63IMBTQZU2lRANV3fxuHDgT/+ERg4ELj2WuBXvwIaN7afIOIgHE85tOlQ1I34/vguIiIiUpV4/chZxLJPZttLxGkqHKBg1sTKlStN4GHTpk0mY4JDODp27IghQ4Zgy5YtJkgxePBg14VWY1Nzguv69+9vhnwcO3YM/fr1s9/N6n0LDg5Wb5t4ncCagabKblKdJPRr3A9NYpsgJiSmUgvaREcDDz8MfPUV8OGHwBVX/DCjQsQpWLiNwbvK+n6wyGZ6TrppcJx2/RM5l9LSUnNz41BS9+Oy69iI5X13Z0jZdSL+rrjYGmrq+vqIOAbbB8Wni/HWmrewJH2JGYatNoPzBDzpYt+/JIGBgWjZsiVGjhxpfrZo0QLdunVDs2bNEBUVZe4zI4IZFM2bN0fPnj2RlJRkhoR06tTJrA8LC7Pf7XssssnMigYNGthLRLwDMyn6NepnxtRXVSCNXwkFJkQsDE5k5Wdh/Prxpghnw5iGJmCo6vUXj8Mnjx8/bjoMeP4+lw0bNpjC1p7EdsTo0aPtR+XH333z5s2m3cHt5ZBTDh8NCAjA2rVrzVDUevXqmUzPdevWmeGnXMcC3szqjIuLMx0lbsz6ZCdMkyZNTE0tEW+Qfyofx4uOV0lbZMcO4NVXgY8/BrKzgUaNmOFsrxTxUu7MCc4iNmPbDJwoOsHeEsSGxiI8SDuwJ/HcevToUbRt29Zecn4V7tpiPQkOy2AwIjQ01Jzk+Zg/icEHLicu4/N4IOWNy9kwEHES9gizZ1hZPiLVY3PWZny84WMs2rsIU9Km4NPNn5rGucjZcDgpAw/M3vzmm29Mo4jHa2Z0subVxo0bsWbNGixfvtwEKZgFOn/+fOzdu9e8Zofr6sydScHZyRjkYLaohp2KN9mQsQGfb/kcJacrN8UhNxd44QXg//4PePtt4E9/AmbNYo04+wkiXoqZErlFudiZvRNHTh4xhex3Z+/GyVMn7WeIU1RebrqIiEgVqOn6x4wJBgcDawSamy9nTxSVFJmeUaWlXhpmcjL7knWuOPS0oKAAO3fuND04LNTNbE9mWTAIwaxOBh/4PGZ18rUMaLgDFAx2cNgqgxcKUIg3OFZwDIv3LsY3O77BN9u/MdM680KssvbPI0eAdeu+H9rh+tpgyxZryIeIN2MbIalWEu7udjcGNhmIa9pcg1s73WqKdouzKEAhIiJerW2dtrip/U3o17AfRieNxnVtr0NY0P8ODfQVnML47TVvm0CFXDxmS3CGMWZo1q5dG6NGjUJqaqoJWLAeBYMOkZGRJgiRn59vns/nMpDB4RzM9nRnyHFIB2tmsb4WM0ZFPI3D3aalTcOCPQuwIXMDvtz6Jfbk7Km0gGa9ekCHDvYDl1q1XMfgtpy1z14g4sWY4cz6cD/p/BNTyD4yONIU7RZn0dlWRES8GhsXtcJq4Yb2N6BrQlcEBwb7ZAYFU7X35uw1Fx3rDq3D5sObTc+olB97kVlngkM7WGuC2RIfffSRqSvBDInZs2eb7AkW8WaQYtq0aaYeBetozZkzxwz9aNSo0XfDVBmUcNeoEPEGLeJa4G/D/ob7e95vArb/GPEP9G7Yu9IKErPMyh/+ADzyCHDDDcBTT1kFu89TskbEq/C70K5uOyREJthLKo7nZxbclOpR4SKZVUVFMkVExM0dpIgIjvDZ4R0ni0/ig+QPMGXrFGw6vMkEK3jB3Tm+c6Vts68XyXRnQ7Rv395MV96uXTszrTmHcrDIJadB79KliwlCJCYmmiEdfC6Xs73B5zds2PAH2RKFhYVmiIiKZIo34D7OGy+WWPyvTZ02CKhRuQG0mBhgxAhg1CigTx+rcLeIP1u+bznyivI0dfolqvYimSIiIlJxrMY/rsM4M2aWMwU92u9RjGo5ymcDMlWFAYauXbuanzGuKy1Obc4MCg774GxiDM4QZxPj0A0W9iZmW3CdsiXECdrWbYsrWl1h6vNUBY5y4tTnGtkk/qywuNBMbz5p4yTM2TXH1IDhbGJStXTYERER8QLsBW0Y3dAEJ65tc61JUa0fWd9eKyLyPaaxV3bmhIj8UEpGCp5b9pwpRvvZ5s/w2urXTHajVC0FKERERLxI87jmuLLVlVXWMyoiIiIX1iSmCa5qdRVa12mNHg16YETzEagTVsde63sOHT+EE0Un7EeeowCFiIg4WsaJDLyy8hVT3d4XmOlUFZwQERHxKGYxMquxe4Pu6J3Y2wQpYkJj7LW+gzVtOHTlr4v+amYIKi4t9uhU5wpQiIiII5WUluDQiUNm1ouvtn6FjRkbsS93nzmxioiIiFQGTlt6WfPL7Ee+hcW4WZj7k02fmBnE5uycg3m75iG3INd+RvVTgEJERBypoLgAi/YswsSNE7Ht6DZ8tP4jzNw+01TaFhEREakMCVEJZiYxX8RMiZyCHFNbg8M7DucdNp0/niwGqgCFiIg4Eme9GNhkIG5odwNa1GqBmzvcbGa94FSkIiIiInJ+HFbKoSs/7/FzdE3oijGtx+C6ttchLizOfkb1U4BCREQcKaBmAOIj49GxXkf0b9Qfnep3MrNgqH6DiIiISPmwwyc6NBq/6v0rDGoyyHT0eHKWIAUoRETE0RpEN8CTQ57UlJwiIiJSbTg8gvWwWMfB6Wq4/nWJ72I6fjxNAQoREXE0nlSZosifIiIiItWBNa9WHljpM7OIeQsFKERERERERETKiQUl03PT8cWWL7Ala4t5LJVDAQoRERERERGRchq/fjz+PO/PmJI2Bf9Y8g+8u+5de41UlAIUIhcpLSsNzy19TpFSERERERE/1LdhXzPjBQt1j2w5EgMaD7DXSEUpQCFSTpwPOCMvA5uzNuPbnd9i17FdOFZwzCcK44iIiIiISPl0ju+MES1GoF+jfris2WXoltDNXiMVpQCFSDkdPXkUn276FJM2TcLWI1vx1pq3sCR9CYpKiuxniIiIiIiIP6gVWgs3t78ZTWOb2kukMihAIVJO0SHRuKz5Zbi8xeVoFtsM17a9Fp3rd0ZgQKD9DBERERER8QdBAUFoENUA4UHh9hKpDApQiJRTWGAY2tRpg34N++Hy5pejR4MeaBjdEAE1AuxniIiIiIiIyKVSgELkIrWu0xqPD3wcUcFR9hIRERGR6sP6V6WnS+1HIiK+QwEKEREREREH2XZ0G+bumovi0mJ7iYiIb1CAQkRERETEAQqKC7Avdx8W7lmITzZ/YmYU07TnIuJLFKAQEREREXGA/bn78frq1zFp4yQTpHh5xcvYnLlZwz1ExGcoQCEiIiIi4gD1I+vj1o63YmTLkeiW0A23dboNrWq3Qo0aNexniIg4W4UDFKWlpTh27BhycnJMwR7+zMrKQkFBgVmXnZ1tlvF+YWEhDh8+jFOnTpnHXJ6bm2teJyIiIiIi5xYZHIm2dduiZ4Oe6J7QHV0TuiIuLA41XP9ERHxBhQMU+fn5+Prrr/Hqq6/i+PHj+OijjzB16lRkZmZi+/btGD9+PL788kts3boV06dPx8SJEzFz5kzz+NNPP8XHH3+MjIwM+90sDF4oaCEiIiIi8r/6NOyDn3X7GQJrBtpLRER8Q4UDFGFhYejSpYu5X1RUZLIjYmNjERoaiuTkZLRv3x5NmzbFihUrcPToUYwdOxZ79+7F6tWr0bJlS9SrVw+rVq0yr6eTJ09i48aN2LFjh71ExLtk5WdhSfoSFJUU2UtExFutPrAa6bnp9iMREd8QEhiCqJAoZU6IiM+pcIAiICAAMTExCAkJQXR0NEaNGmWWLV682GRX1K1bF1FRUcjLy0NQUBDq16+PmjVrmmwLLueN9904ho7BjeDgYHuJiHfZfWw33lv3HvJP5dtLRMRbTdo0CcmHku1HIiIiIuLNKhygKC4uxoEDB7Bnzx7zMyIiwgQiGJCIj4832REc6tGkSROzbMGCBeY1zKpIS0szmRLNmze33w0mOMHMCj5fxJtk5mWaytkvLn8R3+7+Fk8teAozt89EYXGh/QwR8RazdszC43Mex4xtM/Dm6jfx7xX/xuH8w/ZaEREREfFGFQ5QcFgH600wGMG6EmvWrDFFM4cMGYIBAwaYISAMOgwePBh9+vQxAYlhw4ahX79+JpCRkJCAnj172u9mYYaFalCIt+E4z7jQONQKq4XwwHDUDa+LiKAIr6icXVgIbN4MzJ4N7NvHwKG9QsRPRQZFol5EPfMdjQmLQe2w2gisobHaIiIiIt6sxmkvjQSw2Gbbtm3Ro0cPe4mId1h3cB3eXPMmnhnxDGJCYuylnsPgxCefAC+8ABw4AHTrBvzxj0Dv3gz22U8S8VO/+/Z3GNh4IK5sdaW9xL+lpqZi//796N+/vxmaeS4TJkzAU089ZT/yjKFDh+L111+3H5VfSUmJ6eQIDAw095m1yfscfsr7DCrzPp/D9bzPZWXXlcUZx+bMmYNBgwaZYasiIiJSfqwvuW3bNlx77bX2kvPT5YvIRWoa2xQ/6/4zk0XhDQ4eBCZPBpKTgUOHgIULgZkzOcOO/QQRP/ajjj8y0/CJ/1i3bh1mzZplsjvnzZtnZg5jcW5Oe87H8+fPN1OhM1jDWcg4RPXEiRPmNayfxftlMWjhDZlyIiIi/kABCpGLxPnGuyV0Q1BAkL3Es5gDdeqU9ZNKS3/4WMSfdazXEQmRCfYj8QccJsraV+np6Vi5cqUZaspi3hyGylpYu3btMjOJMZCRm5trZhxj4IKZEkeOHDFDUTndOfEnAxYMaGjoqXiTktISnCp1nexFxOvwfHGq5BRKT1vnErk4ClCIOFxiIjB2LBAfDwQGAq1bA6NGAVFR9hNERPxI48aNUadOHVPnisGJpUuXYvPmzWaqcw4dbdWqFVJSUszwju7du5uZxDZt2oQOHTqgWbNmJkjhDlAwaDF9+nRs2LDhu2Ui3mD5/uV4a+1bClKIeKHM/Ez8Z9V/sCt7l71ELoYCFCIXiRHRnIIcr4mKckbeO+8EvviCtVuAiROBAQPslSIifoa1JFjAmwGK++67D7feeqvJpGAggtOfM2uCGRXs4WJRb9aciIyMNMvdU6K7h3TExsaaMbNdunT5n9oUIp5QUFyA9Jx0rD+0Hqv3r8b2o9txvOg4Trv+iYjnHSs4hrSsNKzcvxIbMzciPTcdxaWqXn8xFKAQuUg7s3filZWvIP+U9xR5YK07FsUcNw5ISmKKs71CRMTPcAgHh3iwxgSzJzi7GLMmWrdujfXr15sioZxlrFatWmaoR2Jiopl5jFkSu3fvRqNGjcwwEWKgIjg42BTZFPEGB44fwPvJ72Nq2lSsOrAK76x9B6lZqV4xBKmoyKqFdfy4vUDEz7Dzcs2BNfgg5QOsO7QOEzZOwPiU8ThR9MPaRnJ+AU+62Pe9ChsRrJbdoEEDe4mIZ+WdysP6jPVYsHsBvkj9AglRCWbqUc7kUbOGIgIi4v04fIGZBBwGcb6Lbl6sL1iwwH7kGRxuMXr0aPtR+THToUmTJmYbmSnB4R6dOnUy05ozIyIpKcmsZxuDyxi4YFuD65o3b46GDRv+IFuC9Sd27txpXhMREWEvFfGMkMAQNIltgoAarn20BvDzHj9Hs7hmCA0KdT30XDHXw4etDM633wZSUuD6fgH16jHIZz9BxA8wqB0dEo26EXVx8PhB3Nz+ZgxtNtQ8Nt9ZP8Wi1e5hluWhqyqRcuKwjjk75+CbHd+YLIovNn+BlEMpGv8pIuJFGGzgkAwGG1q2bIl27dohOjraTKvaokULNG3a1DQi4+LiTLCCwzuYMcEsCwYhlC0h3iw8KBytarXCoCaDMLb1WLSt2xaxobEeDU4UFwOzZwPPPgtMmgS88grw8stW0ELE39QJr4Nu8d1wbdtr0SuxF1rWaomgmt5RWN8pFKAQKSfOBPBo/0fNrU9iHzwz4hlz8AkNDLWfISIiIlL1OtbviGvaXGMyOT2N05pv2GAN7+AsYpypd9Mm9praTxDxM5zx78Z2NyIxOtFeIhdDAQqRcmKPG9OzGkU3wuUtLtfQDhEREfF74eFAhw5A/frWbGIcCdW+vTXEQ0TkYunqSuQiNYtthnt63GPSLEVERET8GYMSI0cCjz4K3HAD8ItfAA8+qACFiFwaBShELpI7k0JERETEEziT2NGTR71i9g6qUwe4+27g+eeBP/wB6NxZBTJF5NIoQCEiIiIi4iBrDq7BRykfoeR0ib3E84KDWaQWiImxF4iIXAIFKET8EHtdFuxZgNzCXHuJiIiIeDtOeZ52JA1rD6zF2kNrzfTnxwqO4bTrn4iIL1CAQsSPlJ4uNQ0ZTpP63/X/xe5ju02aqIiIiHi/g8cP4t117+Kr1K+wPH053l77NrZmbfWaoR4iIhWlAIWIHzlRdAITN07Ee8nvmfTQD5I/wIp9K0zgQsSbsXfwVMkplJR6TzqziEh140xiD/V5CLd3vh2XNb8Mj/R7BJ3qd9KsYiLiM3Q0E/EjQQFBaFe3HdrWbYt6EfXQoX4HNIhqYK8V8V7M9Jmzcw5Sj6QqlVlE/FZIYAgSIhMwoPEAXN/uejSJbaJZxUTEpyhAIeJHwgLDTKNmVItR6NGgB4Y3G46k2knqeRGvVlhSiCN5R7AsfRk2Z25GTkGOsn5ExK81j2uOQU0GaVYxEfE5uioR8TMMRrDH5eG+D5vsCU6bKuLNvtn+DX4+4+eYsHEC/r7473hk1iPILsi214qI+B8GJoJqBtmPRER8hwIUIn6IjZrY0FgE1FTPi3i/rgldcV/3+0xv4Q3tbsBdXe5CRHCEvVZERJyoqKRI2XAi8j8UoBAREa/GonBDmg3B5S0ux+UtL0ffxn0RGhBqrxUREac5VXoKs3fONrOSiIiUpQCFiIh4vYigCIxqOQpt67RFDdc/ERFxJs4olnEiA1PTpmJL1hbzWNOkioibAhQiIuL1WDuFw5JUrV5ExLmKS4vx7rp38eDXD2JG2gxTV+idte+goLjAfoaI+LtyBShKS63xYYxuKsIpIiIiIiIXi8U9r2h1BR7s9SB6JvbELR1uwZWtrkRwQLD9DBHv8+aaN/H1tq/tR1LVLhigKCwsREpKCvLz85GdnY29e/fi1KlT9loREREREZEL48xhrWq1Qv/G/U3hY0593qp2KxXtFq909ORRbMzciPm75mNJ+hKkZqUiryjPXitV5bwBipKSEmzcuBGvvvoq5s6da26bN29GcXGx/QwREREREZHy42xizJ5oGtvUXiLifXZm78TkzZOxOWszlu1bhimpU5CRl2GvlapywQyKqKgodOvWDcePH0fdunXRrl07BAc7Lw2roABYsgSYMQM4qILBIiIiIiIewbpC9SLqITRQMzKJ92pdp7WZ2pzTnQ9rOgzjOoxDQlSCvVaqynkDFAEBAWjVqhXq1auHDRs2IDIyEgcOHEBRUZH9DOd49VXg+uuBG28EfvpT4PBhe4XIRcrMy8S83fNQWFJoLxERkerAIabbtm0znSaUnJyMEydOmPsiIiKVKSo4ymT5cJrz/k36o1FMI4QFhtlrpapcMIOioKAAe/bsQf369ZGVlYUjR46YoR9uLKCZl5dnbsQimnwNh4HwPhsOJ0+eNPdZzyI3N9esc7+O66raoUPAhx8CGRlAfr6VRTFtmr1SpJxKT5ci/1S+mRLrlRWv4Ej+ERQWF+K065+IeEZOQQ7SjqSZOfU97VjBMTNWteT09+dIqTxsN2zfvh3vvvsuPv74Y3zyySdYvHix6mKJiEiV4nCkIU2G2I+kql0wQBESEoJ+/fqZ4ERqaioaN26M0NDv07EYYJgzZw4mTZpkHh87dgxTp07Fzp07cfDgQXz22WdmfUZGBpYsWYLJkydj/fr12Ldvn3nezJkzTQHOM9WsecFfrdw4CUnZtwsMtO+IXAQWyvl8y+f4eMPH2Hh4I95Y/QaWpS/DqRI1jkU8oaikCCkZKXh99evIys/y2HeRAXjzuxxKwTOLn0FuYa6ZSk8qF4vrxcXFoWvXriZYUbt2bQwaNMhkd4qIiIhvuGAUgA2CsLAwxMfHo3fv3oiIiPjBVKOsR8HaFLt37zaZFTt27DABiKNHj2L58uWmAcGGxKJFi0wmRtu2bbFixQqsXbvWvFdOTo4pvOnGLAsGNziUhP93ZahfH7j1VqBdO6BRI2DMGOCyy+yVIuXEKbAaRDVArbBaOFl8Eg2jG6JWeC0zjlJEqldJaQmmp03HpE2TsGTvEry95m3M3jnbXlu9mDkxNXUqJm+ajNX7V+OtNW+Z30nBy8rFNgHbFGxzsNOkdevWSE9P/264h4iIiDjfBa+sGDBYsGCBCUqwJgXTK7nMLSgoyHXR3wixsbEmY2LVqlWoVauWGdqRmZmJ9u3bmxoWzJhgwc1OnTqZQAYzKpo2bWoCHwxGuDFVk+/D11YW169t6k688451e+EFK1AhcjF4QcR08pzCHBSXFCP7ZDbyTuX9IGDnFExB53AVDlsRcaQaQHhQOCKDI02RtciQSIQFeWZcKDP+woPDEREcgZDAEESFRFmF3yonxi5lcIioe+goZxlje0FERER8xwUDFIGBgYiJiTHDOzhUw72sLF6guWtK7N271wzlWLNmjQleMBDB5XwPNipYw4INDD5mrwczKBjccGOqJoeU9OjRo1Iv/Fz/Hfr0AUaMABo3Zk+MvUKknFgUk9MNHTx+EEEBQdh+dDsyTmQ4crx5em46Xlz+Ig6dOGQvEXGWgBoBuLzl5RjTegw6x3fGHZ3uwJCmnhkfGhMSg1EtR+Ga1tcgqXYSftrtp+jdsLeZRk8qFzM6u3fvbjo+5s+fj759+5pOEREREfEN5w1QcLYO1oe46qqrMGTIEBM04DCPsjUouJ7DNTgs49ChQ/jLX/6Chx9+GNdccw2GDh1qhnkwSDF8+HATiPj888/NtKV8L84MwtfzcVlM43TiTCHi2+Ij4/Fwv4fx+IDHMbjJYDx7+bO4ps01jpoii+Pktx7ZatLQkw8lmzHzB08cVKFPcaQarn9tarfB3V3vNlkLfOwp/L+T6iThkX6PePT38HXsDGHHBjszHnroIdNWcBfpdho2c4pVqkREROQHzhugYMCBAQae/BMSEkyQIjo62l5rYRHNwYMH44knnkCXLl1MdgWDDy1btkTz5s1x++234+qrrzbFNUeOHIlbb73VZEg0a9YMN954I2644QYVuBJHaRLTBLd1us2klzsNh6R8seULfLblM2zI3IDJmydjzYE1GuohjlU7vLbJoGCNGE+rE17HZE4E1lQl5qrCIabM6GTdK2ZksuaV0wIUnHQkJQV47z3gyy8BjlJx4EhB8TCetzn0VETE15w3QMFaEVu3bsU333yDuXPnmiEebBhwiIYb61KwqjZrSXDYBnFoB5cTC1q5gxpMzeR0pQxicD3TMlmXQsRJ6kfWN/MhhwSE2Eucg/M539rxVtzV9S70aNADd3a5E30b9lWhTxFxBHfdK/6cNWsW6tSp8z8dJ96MgYj164HHHgP+8AfgkUeA117jDGj2E0TKidMrszCwZgwS8W8siXAk/4iZbdCJdfHO5rxXJRzjySEdrVq1MlkP4eHhZtaOyppdQ0SqF3t2G8c0Ruf6nXFd2+vQsX5H0wOtlHQR8XbsHGFR7cTERFx//fW47rrrzFDSssNO2ThbuHAhPvnkE2RnZ5tlX3/9tcm04Mwfn376qQlscKhISkoKJk6caN6TNbI+/vhj0xHDApxVhcM6Fi0CVqwAjhwB9uwBZs8G0tPtJ4hcALMmOFxzQ8YGzN4x20xrrEwKkep3vPA4vtj6BQ7nHbaXeEbx6WLM3T0Xi/Ys8pkh2+cNUHAaUAYo2AAYNmyYmW+8RYsW32VHiIgz1Yuoh2vbXIu40Dh7iYiId+PwDgYatm3bZoIKDRo0+EFwgtiBwuyKtLQ0E5DgNKQffPABNm3ahC1btpiZwnif052vXr3aBDE4lJWZogxM8H05XXrZXijer6xeKTafwsNZbNx6zP4e169rbiLlse3oNvzq61/hn0v/iU+3fIoHZjyAxemLHVmwW8Sp+H07XnQcE1ImmFpunhoqnZWfZaY1X5q+FEvSrZ8czu105crrzs3NxZ49e8w4Txa1ZM+DiIiISHVh8IGZDkuXLjUBhi+++MJMg1526nNKSkoynSlsr3BWsf79+5ugBdsyvXr1MlmhycnJZogpa2hxRrFdu3aZ5/G1x44d+66dw3Uc4srhrZXR9mFg4vLLgRtu4O8J9O4N3HUX0LSp/QSRC+Aw01s63YJ+jfqhUXQj/Kjjj9CqVitXg15DNUWqA6fpH58yHs8sfgYpmSl4ddWr+Hrb1ygs/uG5qDrsy9mHz7d8jlX7V2HZvmWYljYNOQU59lrnuuDRjCmVM2fOxKRJk0yPBHsvzmwMiIiIiFQlFuVmEOFy1xX+6NGjTTCB9SjOzOp0z0B28OBB7N+/3/xkPS22XRh8YJCDNbPYvmGWBetisUbW0aNHzToGM9xDWd3TmjZp0qTShrcyGPHXv1pFMt9+G7jlFv4/9kqRCzh56iR2Z+9GZl6m6SnddWyXSTV3Wmo3e5x3ZO8wv7uIkwTUDECzuGZoW6ctYkNj0ap2KzSIaoCaNas/SNiuXjv8cdAfcWP7G02NOc4kVj+ivr3WucoVoDh8+LA5afMEz6rZyqAQERGR6sRABAMSXbt2NbOG8cYZwxhgKItDNDgMhMM5xowZY7Im2rdvb2YWY90JZkUMHDjQDGNlpwuXM/DBrIrMzEw0bNjwu4Ym35uFwFmDq7ICFFS7NtCvH1y/FwMv9kKRcggKCEJMaIzJpIiPiEftsNoICQxxXC2pUyWnMHHjROzO2W0vEXEGFskf1GQQrm93PS5rdhnGth6LrgldEVSz+sfqcQYz1pLj7zG4yWDUCqtlAihOF/Cki33/rHiSZm8Ep/TirB4slsnimZV5oj4bNhrq1q1rxpiKyIW52tXYtYu1Y1wHLM/PuCgiXoidDLxA59TfZ17Yl7VhwwYzfMKTOB05MyXOxIwI/m6cCYwBBQYPymZRMKDArAcGLzhFOod7cFgHZxvje3bq1Mm0L/g3aNu2LZo2bWrW8Xl8zNnHyrZxCgoKsHPnTpNFwaCGiCeFB4ajZa2WJmOCWQg/6/4zc4HilNm4+DvP3TUXM7bPwNTUqThWYE1h0zC6oU9cWIn/CA0KRc/Enqaumye/f/y/eQzgVOfeehzguZpZijzHlscFt4I9EKw/8dBDD+HnP/+5OZF7IoVFxFtszdpqxp2xOI43YELTN98AN90EV2MeuPdeYMsWe6WIVBtW1f/rwr+ioLjAXiKVjcEC1p9ggIKZnawxwWEbZbG2BKc05/SjDDRw9jEOD2FAhkEN93IGNviY6xngcE+LrjaOeDPuu5yRa0DjAfhFr18gNDDUUVOFs+Ds3ty92Ji50QxTYdHP9Jx0jxUZFLlUATUCzBAPfh89jb+Lk44DF3LBLeEJ/dChQ3jjjTcwYcIErFmzxgQtRPwNp/Xam7MX6zPWY96ueUjNSjVTC3n6pHrwIPDWW8DixdaUdVOnAl98AeTn208QkSrFYwMb2CkZKZi7c645NrDhrQZ35ePFGbMYWBuCs2/wYofBBxF/ExMSg4TIBMddlDBL4iedf4IXR76Iq5KuwuP9H8dPuvzEBFpEROiCRzX2JIwYMcIM6+AUXBzmIeKPmIY4Y9sMTEmdgu3Z2zFhwwSsPrDajKP0JE7Zn5trZVJQcTGQk2P9FPEVnOefF/2c89/bsGL2zO0zMT1tOnYe24kP13+IFftWoLhUX8LKxkwHDs/o3LmzmWKUtSOY9SAizsFAI+tmXN/2ejSNbWoei4i4XTBAwSKZ69atMzN4sAI2x69ymYi/YRrXFa2uwJjWY9AyrqWZ2qtHgx6mYJUnxccDw4ZZRdc4DJsV4gcMsGpRiPgKVqtnAGDL4S1eV62eBetGthyJK5OuRPO45rij0x3o1bCXV6R9+hq2PzjslFgTghmd6jgRcR4eH/s26ou6EXXtJSIilgsGKHjyz8vLM8WmmFLJx5rFQ/wRK+U2iWmCzvGdcXmLy9GmThtzYvV0emVkJPDznwPvvAM8+6z1c+RIK1gh4gs4z/eiPYuweO9izNs9D8vTl6OwpGqmu+bY6LQjafaj8uGxoXFMY3SN72qODa3rtDbTfPnSeFBv4a4jceDAASxevBibNm1Sp4mIQzlt5hERqR4XbD0xhfKKK65A3759zbzhrVu3NstE/FWrWq3wYO8HERHsPSkKrq8mxowBHn4Y6NNHs3iIb0nJTMG7ye9icfpifLX1K4zfMB55hXn22srBWgasJTFr+yxM2jjJ3C85fXE98x3qdcDjAx7XWOoqxCEe7DBJTExEUFCQCVgoPVxERMR3XDBAwRN/eno6Nm7caGpQZGVlKZ1S/NqenD14d83bKNy7G0hNtabMSE4GFi3639u6ddZ6Pu/QIbi+PPa7iEh5DWs2DM9d/hzGtR+H3/T7Df4y9C+IDYu111aOoyeP4ostX2D+7vlYvn85xq8fb2bsEe/insVj6dKlpn2yfft2k+UpIiIivqFc+acskMm5w1mIKiMjQ7N4iP8pLERx6hacmPY58l55AcF//j/kv/QcTn70Lk5PmghMmQIsWPC/N06pMWkS8PHHwKuvAn/6E/D668DXXwNbXRc/Sk0WuaCwwDDER8ZjePPh6BbfDXFhcZU+fIJ1LVjUkjcW5ORPzcLhfRiUaNSoEYYPH25m83BnUoj4G2Z9eVs9noICYOdO4OhRe4GIVAtvPB5URMCTLvb9c0pOTsa+fftMkUymVjZs2NCkWVal9evXm0rdDRo0sJeIeMDevVZRh//8B/nLF2FW8meYkrkYc2OzMS36EIq7dkbb4bcgqHdfoH9/oFevH946dgQ6dAA6dQJatAASEqz5P9PSgG++Ad5+28qsqFULqFPH/k+rHg9kxaeLUdP1T+nR4gQsqNYgukGVBCeIwzJYO4LFOGuH1cbPe/7cJ+tIsND18ePH0bhxYzM84lw2bNiABQyyehA7RkaPHm0/svB4xSyKfNdxNCcnx7RHmjdvbmYcqyps++x0XXWxKCeDIiLeYPPhzVi5f6UpzOsNx6mMDNNUwssvA8uXW82dxER+Z+0niEiVYKfKiv0rcPDEQcRHxXtluyUzMxNHjx5F27Zt7SXnV64tYHHM4OBgEzAoKioyKZUiPsu1j2PePOCmm4Bx46zpMP7xDwT++2W0+ce7aHT/77GjSxPcfedLGDr8Zwhu1QauVjIQF/e/N56dXY1nE5zo0sWabuO226xiEf/6F/Duu/yCAfffbxWRmDOnWrIq9h3fhzfXvGmmbRRxAhZTC6oZhIAaVRMc5wmdQYrRrUbj9s63m/uahcM7cUgHAy0cdsrhHhriIf6EHQzM7tp6ZCvm7pqLguICj/ecstkybRrwyivA3LnAf/8LvPii1f8iIlWHx4NTpaew5uAaJB9KxqmSUz6RSXHBAAXrTcycORObN2/GqlWrMGXKFFOTQsSnMChx8CDw6afArbcC48dbQQP2IN57L9C4MUJjaqNdw67o07Q/2tVth6FNhqJZXDME1LzICyZmH4WEAOHhVtbEffdZQz5+/3trOMioUVbggr8Pf69KxKJ/DEpsP7IdK/etxO5ju5FbmOsTBzORylA/sr6ZkUO8EzMoEhIS0KlTJ/Tr1w9RUVGqiyV+ZXv2djw+53G8vOJlTEubhoe/edjMbOTJIWkc2rF7N3D8OC+YOAMgXNcKQHa2/QQRqRJrD67F/TPux4cpH+LttW/jsdmP4UDuAXutc5UrQBEbG4sRI0Zg4MCBGDp0qPkp4hPYsN2xwwpMvPCCNfTi73+3hnUMHgycZWxzx/od8cqVryA8ONxeUgn4/3D6jbfesroeTp60MiwmT3a1RrZbZ/xKcLzwOD5I/gDvJb9noq3vrHvHTN2osfYi4gSc5nzPnj1YsmSJyZ7gzGIccqoghfgLDkEb1XIU+jfuj7Z12mJ00mgTVPXklJ1MBO3aFWjSxOp/4ajVHj1Yw85+gohUCQ59Hdt6LLoldEPvxN64otUViA6Jttc613lrUDBthL0VnFaUGRSHDx9Gx44dUb9+/Sod70mqQSFVjqF+Zipwto3ISOCaa4Brr7XOrOcRHBCM2NDYqhvjxd+FZ/ZmzYBdu4D584GNG4GWLa2siwpgeny9iHpIiEpARl4Gbu14K7rEd0FUSJRHGzciUj2cXoOCgYjU1FTs3r3bBCtYuJtDPJhVEcIroyqgGhTiTcKCwkz2JosHsy1yY/sbzU9P1pPiJQFrTrgOK4iPh+t7C9x+u2pQiFS1qOAoNK9l1aFhwHJE8xEIDfK+qc4rtQbFsWPHTCOlS5cu5sSfnZ1tilMxcCHiaKzg9LOfAdHRwE9+YtWFaN3aXukFeLZPSrKGm/D341CQRx8FFi+2n3BpggKCTCHA7gndcUXLK0zElbMjKDghIk5QXFxs2ibdu3fHqFGjTMCiRYsWCK9g8FbEadi5wOCEt9TKiY21+nj+/Gfg5z+3+lQUnBCpejwGDGk6xGRVVXUCQXU571YwY8I9xzhTKvv27Wtm82CQQsSRuO+yxDRLTbOCEwMAPItWUc9bhfH3YoHNW24BnnoKeP99qwoVh4BUADMobu90O+qEV9/MISIiFcXhHMxiSElJwfz5880QVM7kcb5sEBFfFB4UjrjQOK/qYODXkIEKDvkQkerBYwAzKSKDI73qeFAR5w1Q8MTPKtlvvfWWGefJRgB7KTQtoTgOs35SU606ExyrzAAF8xCdsi/z92zUCHjuOatcNoMrrE1Reum1I/Q9FhEnMdXKT50ynSWc8pzDVfr06aPsCRERER9y3gAFa0AMHjzYVMoePnw46tWrh65du5qaFCKOwXLSM2ZYM3N07Ag88IA1tMOJ2DXB2UW4HW++ac3+oYwmEfEDzN5cvXq1GcfKYR6JiYkmk+LEiRP2M0RERMTpzhugYA9ro0aN0K1bN9f1XDQiIyNRp04dk2Ip4gg5OcB771nZBnfdZVVucnoqMGf84Hb88pfAzp3AhAnWdoqI+DBmUDA4sWjRIhOgGDNmjAlO5Ofn288QERERp7tgJQ1Wr/7yyy/VABDn4QTcDE5wMOSdd1qzYviShg2tMtkMGLI2RW6uvUJExPcwe5MVwIODgzFgwADXoT0MnTt3RlRUlP0MERERcboLBihYeIoplE8//TReffVVM/c4x4CKeDWm/L70EhATA4wb57ghHYXFhcgryrvwjDkc8sEZSLh9f/2rVZ9CRMQHsTp5mzZtcMstt6BTp04ICgpCz549VYNCRETEh5QrQHHdddeZRgELZdauXfsHxfU4xRfnNuVc5JyTPCsrC4cOHTKZF5wO7ODBg2YZn5eTk2NmAWHhTQY5+BquE6lUBw4Azz9v1Wlg5gSHRDjEade/0tOl+HbXt3h9zes4WXzSLDsvZlBwOwcPBn77W7i+ZPYKERHf4m5XMKtThX5FRER8zwUDFGwM7Ny50wQTatWqZcZ/FhUV2Ws52+FJM9XXhx9+aJZv2rQJM2fOxLp165CamoovvvgCs2fPNtOVzpkzB1OmTMHixYuRlpaGadOmYerUqchmKv4Z1PCQS8KL8zfeAAYNAq67zl7oHIfzDuPrbV9j9o7ZWLhnIaalTcO+3H0XDlLQVVcBN91kDWvZvdteKCLiO9i5sXz5cnz77bdYs2YNtm3bZtopIiIi4hsuGKBg5gOzHI4fP44tW7aYAEVZHAParl07U12b2RZNmzY1QQv2cLDxwPGhzLpYunSp6fG47LLLsHXrVqxfvx4tWrQwqZkbNmyw3w3mOWvXrjXPUZBCLkp6OvDpp1YmwdCh9kJnyT+Vj21Ht+HgiYM4evIodmTvQG5hLlMryqd3b2DgQGDaNOvvISLiQ1h/grN3MHNz165d32VvioiIiG+4YICCjQFOM8pZPPLy8kwwouw0o5zRIy4uzgQqGKDg/QYNGpjABoMNbEjwtay4zefwMeXm5prARUxMzA8yKDjGlEELTWUqF+XIESs4wWEdDFA4VMPohvhpt59iTOsx6NewH+7tfi+SaieVP1jH5w0YALRuDXzyiQpniohP4bGQtSfYbmD9CeKQUhEREfEN5w1QMMDAGTw4ZIM1KG6//XY0b97cBBHc2HPBrAp37QlmUnAqUk79xZ/Jyckmm6Jx48YmSMGhH3w9AxW7d+/G/v37zTo3Bib4fzG74oIFAsUr8GPy6EfFIUeffw7UrWtlTjh4GtzAmoGIDI5EjwY9TJAiKiQKQTUvsoYGp1EdMQKIiwM+/FCFM0XEZ7CNsWPHDtPGYEcIh4uy80RERER8w3kDFAw4pKenY9SoUaYRwJoSHOpRNnDAxgIDEKxPwfoTK1aswIEDBzBo0CAMGTLENBwYdBg2bJiZHozjRXmfPR98bXx8PDp06GC/2/c0ptQZXB89li4FUlJgJs6odtxPPvsMYLHVW25hCo69wtmYNdG/cf+LD06UxcKZ+fnAu+9aQRwREYdj9gQ7ONjR8fXXX5uOEGZiioiIiG8479UcAwshISFmnCeDCQw+sNhl2eABh20w4PCb3/wGgwcPNsGMa6+91mRasOEwbtw4XH755WboB4eKMAuDgYr69eub2UGuuOIK0+AQ52Fw4g9/AH72M+Cee4CJE5lRY6+sLq4GKtasAR580NGZE1XmoYeA/futmhQapy0iDsaMTWZdHj58GM2aNUOPHj1MRwjbISIiIuIbzhugqFevHsaOHYtevXrhtttuM8EENgpYa8KN40H52H1jsKHsetao4I3cY0fduLzscBFxFsYGJkwAtmwBVq0C3n/fKgVRbVasAJYtAx55BIiMtBfKD4SEAPffD6SmWqkuIiIOxVoTKUzXc+HwjpYtW5oaVyIiIuI7zhsdYKCBQzAaNmyIRo0amVtsbKwJNIhwSEfZ2mTHj1djuYNDh6y6E7fdBtdOai+Us2JtjiuvBObPB/bssReKiDgLMyg49JRTnzNQ8fbbb+Obb75RkUwREREfcsH0Bdab2Lx5MyZPnmyKWu7du9fMQy4yZow1YURUlHUNfP311RQrYF0FztjRpw/Qpo29UM6JAUXObsK/FYd6nDxprxARcQ4OO+VU5d26dTNDRPu4zgHsRHFnabpxqvI5c+aYAt7Lly/H1KlTsWfPHjPzB5dzGdsxrK3FAAenLGVRcN7nUFYOaRURERHPuGCAoqioyJy0t27dak7wLISp3gqhpk2tYR2vv279/OUvrWvhKsfxJDk5wJAhrj1YQ4TKhX+n0aOtehQcFiMi4jAMRHBYB4twDxw40NS96ty58w+GlRIDDKtXrzazi3EICIt7z5s3DytXrsSRI0dcp5BVJojBQAXbNQxKMHDBgt+ss8W6W+5i4BxKwtez3aOZxURERKreBa/uWCOiSZMmprdhy5YtiIyMVFFL+U6LFsCPfmSNIIiNtRdWJY4rYfYE0zc4jaaUX2gocPfd1qweBw7YC0VEnIWBBwYVcnNzTVDhzKzO1q1bfzfTBzMsGFxgoIHPZ2FNtmk45TmLgDMLg5kWnGGsd+/eps4WH3M4CTHYsXHjRlOcUwEKERGRqnfBAAV7LDgNKGfi6NSpE5o2bfo/vRUi1ebJJ4G+feHaKe0FclEYUeJ0rH/7WzUWDBERqRwMNjA7gpmdzGxYtmwZcphRVwYDCayVxRs7VZhxwSEcDDbwdvLkSbOcQYsTJ06Ydg47XjgtOt+fbRx3rS0OK2nXrh0aNGjw3TIRERGpOhcMUPBkPmPGDNOzwBN0amqqWSZS7VwNUhw+DNx0UzWNJfFRV1xhpbtMmWIvEBFxBmY2cKpz3pKTk022Q9nZwBicWLNmDRYuXGhun376KaZPn24yKtq0aYOZM2di3759Znp0vm727Nkmo4JDRtzDWd3ZF8TgRUxMjAlUKEAhIiJS9S4YoGBPAk/UPKmz14K9C2UbAyLVgkMSJk4EnnuOO6W9UC4Jv7+/+AVcrXdg1y57oYiI92OgoEuXLmZWMQYTOESDs4u5MYjA9Y8++ihGjBiBfv364aqrrsKVV16Jrl274uabb8Ydd9xhOlxGjx6Nu+++20ylznVcfsMNN5gAhThLUZF1OnM1U5GVxUCWvUJERBznvJEGdy/F8OHDzThPpj+yB4LjNkWqDVsekydbRR45XYhUXL16cLXcgZkzfzhXrIiIF2MnCdsjnMXjN7/5jSl6yaEeZdWvXx+tWrUyU6RzWGqLFi1MYIMdLlxW1z6PcJgHH7vbNAx6cJ0yJZyFoxVnzbJKLHEE4733Amlp9koREXGc8wYo2BDg9FucWtR9cmdDwF08SqRasKWRnQ306mUvkApjFkrPnsChQ8qiEBFHYYCCwzg4GweHnapN4t/y8oDx44F584Dt24HPP7duJSX2E0RExFHOG6BgUKJOnTpm7vCRI0eaQpmc4uvMOcd9EUcU8IT34YdAerq9UKpffj6weDHQsSOQkGAvlErRqBHQtq3VqjujCr6IiDditgOHYzCjk8GJ/v37m6lExX8xPnXypP3AxqCFiIg403kDFAxEhIeHY/PmzXjttddMsan169ebYR++bP9+4OGHrXTBe+6x7u/ZY6+U6pWRAWzaBAwerNoTlY1/T84PywBFbq69UETEO3E6UU4HyjbJHtdJ+cCBA+Z+EYcBit+KjASuuw5g6RCWWGLcnY/9oC9NRMQnnTdAwbTJw4cPIykpCd26dUP37t1/UN3aF3Ga83XrgOXLrdIHHJ6/ciWQnKyiSx7BmSZ69FDtiarCnsdrrwVeeMHa+UVEvBSHmbJGREREBIYMGWIKWrIIZnBwsP0M8UdBQcDNN1vDOlhLe9o0uNqr9koREXGc80YaWHyKU3CFhYWZngvOBc7puHx9iIdrc1G2DijbPlzmZMzgZxYIgy8sO+CIa1HWRmB06Oqr7QVSJcaMAdauBbZutReIiHgfFq9kVieHne7cudPUyMrJyTFTi4p/Cw21ylTdeCPQvLm9UEREHOm8AQqe+JlGyfGdnGL0q6++Qlpamk8P8WDx7q5dgdtus8oe8PajH1nLnJo4wkJRS5YAv/kN8LOfAX/8ozVqwus984zV2qhVy14gVSIiwto5/v1vVRUTEa/G4RwMSOTn55tC3u7HIiIi4hvOe8nNVMrOnTubQEWHDh3M0A42Cnwdr4d/+Uvggw+A998Hfv1roE4de6UDcU5wFvtk2uOaNdaMnbx5dREpRlBYnXTUKHuBVKkhQ6yaFBzbJCLihRiMWLFihevUkG7u9+zZEx07dkQQc/xFRETEJ5w3QBETE4PRo0fjxhtvxG233YZbbrkFXbp0MeNAfR2H5jNrols3/h2szAqnOnGC07J9P1ED62pwlhKvjjVxICmrlDJvU6oev9Ou7zq+/lq1KETEKzEokZGRgV69epnsiU2bNplOE2VQiIiI+A6HDlqQi1G/vjUJBitcM5u/aVPrcVyc/QRvw2IZvHGGCak+jMhxiIcjxv+IiL9hpgRrUMydO9fUn5g1axZmzJiBgoIC+xkiIiLidApQ+AFOwfXjHwN/+Ys1XOXZZ626iF6ZCMOesDlzrAiKKrNXr9hYICnJqqTqTrcREfESISEhuPrqq/HLX/4Sjz/+OB5++GGMHTsWocq0ExER8RkKUPiJhATg1luBxx6zghMctuKVMjKAvXutsTWaxLx6ceqaDh2A3bs5hY+9UETEe3CIKWcWY7CCPxmc4Owevi4nB9i+HcjNtReIiIj4KAUo/AjriDGbwqtnI0lNtS6UmzWzF0i1YoDi5Elg5057gYiIeBJn3P7Vr6wZxR55xKofLSIi4qsUoBDvweqdmzdbRTI43ECqX1gY0KkTsGKFimWKiHgYywK9+qo1o9iqVcBbbwHvvWevFBER8UEKUIj34HQj7Crq2NFeIB7Rty+werXqUIiIeFhxsTXqsSxmUJSW2g8ciol6HK7CAIyIiEhZClCI92ArjHOftmplLxCPaNQICA+3imWKiIjHsFb0VVdZh2UmuDHBcNQoLx+qeQFpacDLLwPPPAPMnm0FK0RERNwUoBDv8fXXQL9+gCqyexZbvldfDbzzjr1AREQ8gfU/r7kGePFF4IknrJ8jR9orHejYMeDvfweefhr497+BP//ZioVrRKGIiLgpQCHeY+pUYPhw+4F41LBhVtdWXp69QEREPCE6Ghg71pomfPRoq9i1U3GSqAULrOEdTJjcsMEaUagAhYiIuClAId5h7lygdWugXj17gXgUW8BXXmlltYiIiEdx1m1OcOX02bfr17eGq3A7mKxXq5Y1aZcfzBQrIiLlVOEARWlpKY4fP44TJ07g9OnT5n5ubi5K7MpHZdcVFRUhOzsbxcXF5nVcnqceWqH//hcYN85+IF7hzjutrBZ1bYmISCVISACefBK44QZrqMqjjwIDBihAISIi36twgKKgoAALFizAl19+icLCQixbtgwzZ87Erl27cPjwYUybNg3z5s3DoUOHsGrVKnz11VdITk42j2fNmmVuDFScqaaTK0DJxeHnn5Ji1Z8Q79GlC3D0KFxfZHuBiIhIxQwdCrz0kjV96j33AHFx9goRERGXCkcBgoKCULduXezYscNkSbRt2xbR0dFYv369CUiEhIQgICAAS5cuxZYtW9C+fXusXr0aK1euRGhoKE6ePIm1a9fa7waTZbFv3z4TwBA/weCEa78xA23FewQGAh06wPVltheIiIhUHEdzckYSzkwiIiJSVqUEKBITE02wgfdr165tMiliY2ORmZmJ1q1bIyEhAfv37zfBik6dOqFGjRrYu3evWR4fH2/uu7kDFlu3bjXPEz+waBFw+eX2A/EqPXpYFcxERERERESqWIUDFO7aEqwrweEezIxgDYqOHTsiMjLSZELwMQMWDFxkZGSY+hS1atUyQzu4jvfdYmJiMGbMGAwdOtS8t/g41iphBkX//vYC8SqtWgH791vl1kVERERERKpQhQMUzHjYtGmTqTexaNEiLF68GEeOHDGBiB49eiA1NRXp6eno168f6tevb2pQtGjRAr1798b27dvNc3v16mW/2/fcRTbFx3HOsdhYDUL1VjEx1s31HRYREREREalKFQ5QBAcHo2fPnnjggQfQuXNn3H777bjmmmvMsI8mTZqY+yNGjEDz5s0xZMgQjB49GoMGDUKzZs0watQoXH311ahTp479buI0jCNlZVlzml9SwsvmzUCLFkBoqL1AvAqzmxhA2rXLXiAiIiIiIlI1KhygCAwMNHUkWrZsiQYNGpigRNOmTREXF2dqSHAZMyc4K0dUVJQJTISFhZnXsQZFPVZKEkdicOKjj4AHHgB+97tLLFWQmmpVyuIE7+J9IiKsIMW+fdYHLiIiIiIiUkUqHKAQ/zV/PnD//cDkycDrrwPPPMNpZ+2V5ZGXZ92YQeOH08qyxsqGzA3YfnS7vcQL8XOpXx/IyeF4LnuhiIiIiIhI5VOAQi7ZmjVW7UQO7SgttZIhMjPtleXBi15ijQM/U1xajLxTeXhn7Tv4cuuXyD+Vj5JSL81QqFvXCiQpQCEiIiIiIlVIAQq5ZF27Ag0aAAEBVgmJjh2t0QDllp1tRTcu6kXOd9r1L+1IGt5b9x5W7V+FebvnYeLGiUjP9dJClAkJVpERBilERLwci28fPHjQzBzGmcT27NljCnpztjEuZxFv4kxinAKd6+jAgQNmenQV6RYREfEcBSjkknFm0L//Hfjxj62hHr/+NRAZaa8sD3cGBYsw+pmQgBDEhcUhNCgUEUERiAmJQXBAsL3Wy9SubY3dcTXmRUS8GYfOrV+/3swYxuDDxo0bzexinAKdM4fNmzcPM2bMMIEKLps+fTpSUlKwc+dOzJw5E/Pnz/8ugOHGGlq8iYiISNXTGVcuWXg4MG4c8I9/AH/6E9Cjh72iPJg5cfQop4EBoqLshf6hhutfs7hmuLH9jejZoCcGNBqAMa3HID4y3n6GlwkLs6aBdTX2RUS8GYtzcyrzoKAgkwnBacy7deuGzZs3Y+vWraagd0xMjJkWnQGMNm3aYNeuXZg1a5aZbYyFu3fv3v1dFgWzKzZs2IB9+/ahlGMZRUREpEopQCEVwvgCO9hZRuKiOpjY+Dt8GK7W4EW+0DfUrFETwTWD8ctev8QtnW5BUECQWXYmDgfxOFeDH40aAXv22AtERLxXeHi4mQKdwYqIiAgsWbLEBC1CQ0NNcIJTmzNLgus5yxiHfmRnZ7vOZbXN+oKCApOJQQxUHDt2DPksuCQiIiJVTgEK8YxTp6ypKznFqJ8y0/BGN0Dd8Lr2ku+5Z/iYvGkycgrsoTCe1Lo1sGWL/UBExHuxtkRubi5ycnIwfvx485hZFAxWsB4FMyRa85jmssV1XGPgglOgc5gH61BER0d/N6QjMjISgwYNMs/XMA8REZGqp7OteEZxsVUkkzNEyA9wNo/UI6lYuncpvtn+DdYeWovMvIuZHqUKsFCmhniIiAMcPnzYBIBZIDMvL891mqlrhnMwi4JDNhiA6Nu3L9q3b2+yJTp06IARI0agqKjIBCH4vLLBCGZRqHCmiIhI9VCAQjyDY3lZJJO1DeQHCkoKMGnjJExJm4I1B9dg/PrxWHdonb3WQxhIuqg5ZEVEPKNjx4647bbbMGTIENxxxx0YM2YMkpKSkJCQYAIRo0aNQlRUlHne1VdfbdZxeMdVV12FoUOHuk5LOi+JiIh4igIU4hnsjTp+3C9n8LiQ0MBQ3N3tbtzQ9gb0TuyNX/T8Bfok9rHXegiLjHBYDj8zEREvxiEbzJLgkA4O0WAwIiwszGRVsD4F11NgYKB5TgDnynYpu06c5dgx4JNPgGeeARYutPpARETEmRSgkArhNStHavC69aIaBAxQ5OXB1Yq0F4hbQI0AJEYlomO9jmaWj2axzRATGmOv9RCmOzOLQsM8RETEixQWAm++Cdx9N/C73wHXXQfMnWuvFBERx1GAQi7ZiRPASy8BN90E/PSnwLx51uyh5bJrF5CYaD+QM7Gnr1uDbriz652IC/OSdGMWNE1Lsx+IiIh4HidYWbDg+wS/I0eA2bOtfhAREXEeBSjkkn37LfB//wfMmQNMngz8619Abq698kLS063Ci3JOnHY0sGYgarj+eYWGDYGdO+0HIiIinhcYCMTHA/ZIHfOT/R81vOTUKSIiF0cBCrlkvFYtG5DYu9fKqiiXgwc1g4fTMECxe7f9QERExPMiIqzhHePGAQMGAL/4hTXMQ7PCiog4kw7fcskGDwaaNLHus8eiXz+gfn3r8QUxmqEMCmfhEI9t2+wHIiIinsdARO/e1pDTCROAv/1NI0hFRJxMAQq5ZN26ARMnAn/8ozW844knrFTLcmHJbRXIdBZ+uKyKKiIi4kXYSVKrFtCoERAZqeEdIiJOpgCFVEifPlYdigceuMgeC075ofxLZ+GUsKw+JiIiIiIiUgV0hSgVxp6Ki4415OQAUVH2A3GE8HBralgREREREZEqoACFeAbnBQsNtR+IiIiIiIiIv1OAQkTKhwN8Dx+2H4iIiIiIiFQuBSjEM/bvv4gpP8QrMOOFmS8iIiJe5vRpq7yViIg4mwIUIiIiIuJYLI+0ahUwYwawdStQUmKvEBERx1GAQjyjuNiaF0xERETkEnH26ylTrNnEePvFL4CUFHuliIg4jgIU4hmc9oP5mCIiIiKX6MQJ4JNPgNWrgT17gHnzgC+/VBaFiIhTKUAhnsEAhQaLioiISAUxGFG2z0PNCxER51KAQjyjbl3g6FH7gTgC82iDguwHIiIinhcVBdx6K9C5s1V7e+BA4KabNIpURMSpKhygKC4uxoEDB7B//36cPn0aGRkZOHjwoFleWlqKffv2mcclJSXIycnBjh07kJeX57rWOWVec+jQIfudxK8EB1sXvOIcnGK0QQP7gYiIiOcFBgJjxgDvvQe8+y7wwQdAp072ShERcZwKBygKCwuxZMkSTJo0yQQd1q5di+nTp5tgxO7duzFt2jTMmzfPBCYWLlyIWbNmYfHixdi5cyfmzJmDr7/+GpmZmfa7fS9AoW/fxikri4rsByIiIiKXhk2Krl2BK68EmjWzF4qIiCNVOEAR6jortG/fHidPnjSPW7RogZCQEJNBsWbNGrRq1QqJiYlYtmyZCURcccUVJlixcuVKNG3aFHFxcVjFuaFs+fn5WL16NTZt2mQvEZ8UGwvk5toPxBEYUGLmi4iIiIiISBWocICCmQ7R0dEICgpCzZo1ERERYYIWNWrUwIkTJxAfH2/WHzt2zHVtE2yCFYGBgcjOzjbLY2JicLRMLQIOC2EmBjMz+B7io5ghoxLbzsIhHgkJ9gMREREREZHKVeEABWtLMNjAAAR/5ubmIisrC8ePHzfBiS1btpgaFY0bNzZBh3Xr1pkgRJMmTcxy3phJ4RYZGYm+ffuiR48epqaF+CjX54z8fPuBOEJxsYpkioiIiIhIlalwgKKoqMgUumRgIS0tzRTJLCgowOHDh9GzZ0+TDcEgRv/+/c1QkA0bNpjlvXv3NgGL8PBwdO/e3X637/F14sMaNQIOHrQfeJfTrn8nik7geNFxBcnK2r8faNLEfiAiIiIiIlK5KhygYL0JBh8eeOABdO3aFb169cJdd92Fzp07o3bt2hg7dixGjBiBevXqmcDEjTfeiC5duqB+/foYNWqUqUnBIIX4GQYovHQGl5LSEizftxxL9y7FqVIFyr7DAEWZbCcREREREZHKVOEABetOMMDAehL8yRvrSoSFhZkaEnzM+8TaE3we61a417FehfihxEQgI8N+4D3yT+UjJSMFC/cuNLf1GeuRW6hinkZ6OtC8uf1ARERERESkclU4QCFySThU4MAB+4H32JuzF08vfBqTNkzCJ5s+wZ/n/xmpWan2Wj+3Zw/QqpX9QEREREREpHIpQCGewcyZwEAgL89e4B2axzXH8yOfx8+6/wx3db0LL416CR3qd7DXOg/raVQK1uJgxguH5oiIiIiIiFQBBSjEM2q6dr3oaCA7217gHYIDgtEouhH6NuqL/o36o3FMY4QFWkOUnITFPTdlbkJaVpq9pIIYSOIsHnFx9gIREREREZHKpQCFeEZAABATAxw7Zi/wHgE1A9AjoQd6JfZCYECgvdRZWNzzmx3fYP7u+faSCjp8GKhXz34gIuK9ON05pz3nDGI5OTk4evSoCdpyinPe5zLiLGRHjhz5btYw9zrN3iQiIuI5ClCIZzBAUasWkJlpL/AeNVz/QgJDzI33nWb3sd34y8K/YOLGiRi/YTx+O/u3WH1gtb32Eu3bBzRubD8QEfFODC4sWLAAb775Jg4cOIA5c+bgn//8J44dO4bdu3dj4sSJ+PDDD81U6PPnz8fbb7+NVatWYc+ePXj//ffx6aef4uAZU2CzGDhvIiIiUvV0xhXPYP2JunXhagnaC6SyhAaGomlsU9QNr4t64fXQvFZzRIVE2Wsv0c6dQMuW9gOR8+BQoBMnrOwo3nJzgZMnrTomIlWMM4R169bNdXqpi8LCQgwaNMjMHnbStQ8yQNGjRw8kJiZi3rx5JhDRt29fs3zGjBno3r276zDXErt27TLZF8T32Ok6/mVmZiqzQkREpBooQCGeERQENGhgTV2pRl+lio+Mx51d7sSVra7E6KTRuK/7fWhdu7W99hIpQCEXwu8xZ+b57DPg6aeB3/7Wuv3+98BLLwELFnhdUVzxTZy+nDcGKxiccN8vLi42j+Pi4pCVlWWmPGcgwz0UhMu5nkM/3MEIDv/Yt2+fycBQgEJERKTqKUAhnuFqLJohHgUFumipIqNajsLQZkPtRxXAz+joUaBhQ3uByFmsWQN8+KGVNXHNNVZggrcHHwQ6dgSWLAHeeMMKdolUIWY7cMgGf6anp5sb74eHhyMtLc1kRLRu3doEHJKTk00Ag5kTmzdvNtkTDFK4h3RERkZi4MCBZr2GeYiIiFQ9nW3Fc2JjrZ9eNpOHL6hZoyZa1GphhnpUWFYWEBwMRFVwmIj4ruXLgYkTgWHDgB//GOjdG2jq2vd4c10I4sorrUBFUhLw0UfA1q32C0UqH7MhIiIiUFBQYOpQ1K9f3xTAbNGihQlKMGuit2sf7dSpk3l+586dMXz4cJNRERYWZp5XNhihzAkREZHqowCFeE50tJVJYVdUFy/FQqaRkUB4uL1ApAwGGB95BPjlL4GePZlfb684A7/vV1wB9OoFTJmizCmpMqwzce+992LAgAGmxsRDDz1k7sfHx+PKK6907YZXmMyIjh074vrrrzfZEbGxsRg7dqwJVMRwhikRERHxCAUoxHNq17Z+Hjli/RTvlJFhZU8oQCFnYkHMZ58FHnvMmuWFAccy/qfnmbP39O9vvW7VKtWfkSoRGBiIkJAQBAUFmRuHcPAn61C4lxGzJIKDg7/LluB99/NERETEMxSgEM/hBS97W1nfQBcq3omfy+HDVoDiXD3j4r82bLBqTowebS/4XvHpYqw7tA7ZBWcM4WImRZcuwIoVVn0TERERERGbAhTiOey14swQe/dyLjd7oXgVpuEzQJGYaM28IlIWC2N27/4/mROnSk/hWMExfJjyIbYf3Y7i0mJ7ja1ZM2DfPk6RYC8QEREREVGAQjytXTtgxw71pHor1hdgjRBeUIqc6eBBICHBfmApLCnEhPUT8H/z/w+zdszCKytewSebPkFBcZnvOGeE4dAhBShEREREpAwFKMSzmEFx6BBw4oS9QLwKgxO8sb6AyJkYWDxj6E9N179G0Y3Qpk4b1I2oi+a1mqNhdEMzs8x3wsKs12pol4iIiIiUoQCFeBaHDbRvb01TKN5n926rmKmmGJWzqVXLqiFTRlBAEIY1H4a7u92NXom9cF3b6zCwyUAEBwTbz3BhULJOHVYztBeIiIiIiChAId6A0w4uWGA/EK+SkgJ07Gg/EDlDUhKQmmo/+KGAGgG4o/MdaBx9luyb9HRraIgCFCIiIiJShgIU4nksssdie6pD4X34ufToYT8QOUOfPsCuXVbA4QyBNQPRsV5HxITG2EtsnGKUs3+w/oxmhhERERGRMhSgEM+rW9cqmrd2rb1AvMK2ba4jhOsQwRk8RM6G39077gB+9St7QTmkpVnFNfv1UwaFiIiIiPyAAhTieZyi8LrrgC++sBeIV/j4Y2DECCtIIXIuQ4ZYRVTfestecB7Mkpo+3ao7o5lhREREROQMuvIQ78AAxaJFwLFj9gLxqKIiYNIk4Oqr7QUi5/Hss9ZQj2eesTIkTp60V7iUlFjT1a5eDfz2t0BcHHDttfZKEREREZHvKUAh3iE4GLjsMmDePHuBeBRnVWEBxAYN7AUi58Hv75/+BLRpA0yYALz+OvDqq9bttdeAN94APvvMGg7y058CAQH2C0VEREREvqcAhXiPK6+0sihOnbIXiMdMngw88ID9QKQcwsKsjJvbbgOaN7ce88aMCRbTfPxxFVwVERERkfNSgEK8R6tW1k+miovnHDgAHD4M9O9vLxApJ2ZGtGwJjB0L3Hmndbv1VqtORcwZs3mIiIiIiJxBAQrxHtHRQIsWQEqKvUA8YtUqoHNnICTEXiAiIiIiIlL1FKCoRqdPA4WFGsFwTrwgZu8rMyhOnLAXSrXiDsrpXvv2tWZXERERERERqSYVDlAUFRVh06ZNSElJcV2An8a+fftc1zdrkZub67rWKTT3U1NTzfP27t2L5cuX48iRI8jLyzOv4Tq+zh8kJwNvv23N3uj6U5iAhZTBC+J27YDjx60/kFQ/1/fRfA7u4TYiIiIiIiLVpMIBiuLiYqSlpWHKlCnIycnBggULsHr1aqxZs8YEJ9z3GYxYuHAhtm7dinnz5mHjxo1mPZ9/gGPez1DDx3pvd+wAfv1r4IknrFpxL7wA5OXZK+V7nDWifn1rmEdpqb1QqgVTe9avBxo1sj4DERERERGRalThAEVYWBi6dOmC8PBwZGZmmsyIAQMGmMyIDRs2mPsNGzbEqlWrEBgYiCuvvBIHDx7E5s2b0bFjR8THx5vnuTHIMWPGDCxevNinghTffmtNUHH0KFzbD0yfrlqQZ8Uie8OGAQsWMD3HXijVwvXdw/btQKdOQFCQvVBERERERKR6VDhAwSACAw81a9b8bqhGcHAwSkpKTHZFSEiI65ozAKdOnTLP4Tri4yDXRRBfy+e5MeDBwEXz5s19auhH7dpwbat1n3GXqCjrJmfBYR78Y61caS+QasHhHRxe062bvUBERERERKT6VDhAwUADa0vwxuwHBiOWLVuGJk2aoFWrVliyZImpS8GgQ35+Pr799ltER0cjKSnJZFHs378frVu3tt/NCm40atTIZF34kuHDgQcftDqnWX/w/vuBxER7pfwvTk342mvKoqguHE7z1VfAqFFWFouIiIiIiEg1q3CAgpkSDCr06tXLZD/069fPdeGdiN69e6NPnz7mfrNmzcx993Muu+wyMyyE6zp37owWnFryDHxfXxITA/zpT8C77wJvvgn86EfKoj8v176CkyetGSWk6jF7gmOOBg60F4iIiIiIiFSvCgcoQkND0b17d9x8881o37492rRpgyFDhqBu3bqIiorC0KFD0bNnT1Ojol27dhg1apTJjoiNjTX1KbiOQz/8AYMUrj+V6+/Ev5u9UM6OvfiPPQa8/76qiVY1DrF69lng3nu1Y4qIiIiIiMdUSmSAAQb3jTUpygYc3MvczrdO5Ad69wYaNwZmzrQXSJXg3zc6Ghg61F4gIiIiIiJS/fwjdUGcicGs666zZvQ4dsxeKJWK2SmTJgG/+Y1qT4iIiIiIiEcpQCHejZVEW7YEFi9mYRJ7oVQKFsacMwfo2hVo0MBeKCIiIiIi4hkKUIh3i4wE+vQBUlKAw4fthVIpDhwANmywhnaoYquIiIiIiHiYAhTi3VijhHOznj4NrF9vL5QKY/bEunVAeDjQpo31dxYREb9RWGjdREREvIkCFOL9OLPErbcCH30EFBTYC6VCWNNj3jzgiiuAsDB7oYiI85WWlpqbWzFnKrJxCvPTDHi78GfZ53Fd2ce+iqMlV60CHn0U+MUvgIUL7RUiIiJeQAEKcYZmzYBRo4D/+z/g1Cl7oVwSNsA//BDo0AFo29ZeKCLifAw6TJ06Fc899xz27NmDKVOm4G9/+xsWL16MrVu34tVXX8U777yD7OxszJw5E88//zySk5Oxe/duvPDCCxg/fjyysrLsd/NN6enAE08AL78MvPsucOed1ihKERERb6AAhY9iB5Gr/eVqdAE5OdZjx7v5ZuDoUeDrr+0FcklYcHTzZmDcOHuBiIhv4NTl7du3R2xsLLZt2+a6GE93nTpudl2Ap2DVqlXo3r07goODMW/ePBOI6NixI7Zs2YI5c+aga9euqFOnjglWuDMpCgsLsX37dmRmZn6XeeFk3IRDh6y2gVtGhnVKEBER8QYKUPioTZuAJ58EHnoIeO45uBpYPhCkCAy0NmrWLGDHDnuhXBQWxnzzTeC3v7XqT4iI+Ji4uDhzKygocJ02AtGsWTMTaDhx4gQSEhJQq1YtHDx4ECEhIWjcuLFZd+zYMTRs2NCs4+vcwQgO+8jLyzPP8YUABcsN1aljJSW6Z5bmJE4tWlj3RUREPE0BCh+Umwu8/bZ1mzYN+M9/gMmT4Wpk2U9gI2vnTuDFF4EHHwTuvx/4wx+ANWs4WNd+kpeKjweuvhqYNAk4edJeKOXCgccMTtx0kzV1q4iID2JmxK5du0ztCQYWlixZgoiICNStWxebNm3C3r170bp1a+Tn57tOe2vMugauq3RmWXBYSFRUFGrWtJpHYWFhJsuCwQv3Mqdr3NiKUd97L3DXXcC//gV07myvFBER8TAFKHwQR0Gkplr1JJmlyoAFH393Pc+KWAxM0NixwA03AF26AE89Bbz6qvcXouzb15oWU5W9Ls7cuUBwMHDZZfYCERHfwiwHBieOuk6EHO7B4ALrT/Tv39/c9u/fb4ZxDBkyBElJScjJyUGPHj0wevRoM4yDGRctWrQwryX+ZGDC/dgX8DTg2ny88grw1ltwbTsQEmKvFBER8bAarpO5V+YsfvTRR2jbtq1pOMjFyc8H/vY3q/HB+7VrA489Btx7Sy7Cpn0CbNgA/O53QP369itsDEww7eL4ceDuu4F69ewVXmjrVuAT17awjkKrVvZCOSt+xTnGh2k0112nwpgifiw1NdVcpPNinUMczmXChAl4ikFrDxo6dChef/11+5HnMIjBGhWDBg0yWRgiIiJSfhs3bjR1oa699lp7yfkpg8IHsbQA4wsPP2zNzsngxI3XlyJs4nvMfQWeeQal9eqi9PQZ06lxOs+f/9xK///7363UC2/Vpg3Qpw/w3/8CJ07YC+Ws+Pf56iuge3fr7yYiIiIiIuKFFKDwUSyA9cgjwLPPAvfdByRmrrPmFrv/fpwKCsDqA6uxIWMDSkpL7FfYWDWLvexxccDUqfZCLzV0qBVM+ec/vb92hiex7gTTaIYNsyqkiYiIiIiIeCEFKHxYWJg1SiO0RiEwfTowahRKI8Jxsvgklu1bhnUH16Gw5CyVyRmkYOWsefOsjAtvxVk9brwRiI4GPvjAXig/MGGCNWSHU7Ry4LGIiIiIiIiXUoDCH+zda2UYNG+O5IxkPPT1Q/gg+QO8tuY1/Grmr7A7p8yE6G6ch6xpU2DtWnuBl+IYahb83LYNWLrUB+ZSrST8O/Cz+/pra2pWTSkqIiIiIiJeTgEKf5CdbfWeR0SgfkR9DG8xHB3qdUDX+K4Y3nw4YkJi7CeWwSwKpl8cPGgv8GLctl/8wgpQcKpUTqdZAazNUVRS9L81OpyCwSj+HWbOtIa/iIiIiIiIOIACFP7gyBHrIj4yEolRibi+7fW4OulqjG09Fte1vQ61wmrZTyyDAQpWK3dCgII4sfuVV1pTaW7ZYi+8NMcKjuHbnd/iSL7r7+Y0zJzYvBmYP9+qJXLmTC0iIiIiIiJeSgEKf1BaahVHtAskBgcEY2izoejdsDcCagSYZf+Dz2WQooLZCNWK02decYU1neamTfbCi5NbmIsd2TswJXUKth/djhNFDpshZNcu4MsvgZEjgaQkFcUUERERERHHUIDCH3AGh8JCuKfjrFmjJuqE1zGZEzXOdQHLYQKZmUBCgr3AAbgtHToA994LPPccJ921V5QPi4W+suoVPDn/SczcMRN/XfhXfJjyob3WAXbuBH7/e+DHP7b+DjX19RYREc9jcp9KRImISHnoCsYfcMrQoiIgL89eUA7MnGCAokEDe4FDMEiRmAj85S/AK68AS5aUPwvE9dLRSaNxS4dbTH2OmzrchGHNhtkrvRi3b/ly4A9/AN54A2jSRJkTIiLiFQ4dsvoMHngA+Pxzq79ERETkXBSg8AesQxAUBBw4YC8oh2PHrABFy5b2Aodp2BB4/HFrqlTOZFFQYK84txquf53qdcLgJoPRr1E/DGw8EG3qtLHXeqn8fGv7Zs2yCmLGnKXgqYiIiAecOgX84x9Wct+rr1r1rHlaFhERORcFKPxBbCwwZAgwbVr5uy4mTgRat3ZugII4TeqddwJ79gDvvw/k5torzq9eRD38qOOP0CDKy7NHGHSZMAFITwfuvtsKyoiIiHgJnnaZ4MdRo5SRAaxebd0XERE5GwUo/EWvXmaaUXNBeyGrVlktiJtvthc4GId73HorUKsW8OST5apLERIYYoIToYGh9hIvlJoK/OpXQFSU9TlxO0VERLxIZCTQubP9wIUjTjt2tB+IiIichQIU/iIkBPjNb6zZLZ5++vvujDNNn27lYT7/vHVR7wuYQcIpN2+7DXjhBWDSJCvv1In4e/P3f+op4P77re3ylc9JRER8Cpsejz0GPPoocNNNwLPPAiNG2CtFRETOQgEKfxIeblWq4swcDz5oDQTduxfYt8/KLPjzn62ikryIZ90KXxIYCHTrBvz970ByMvDvfwNZWc4pK87fk7mxL70ErF8PvPyy1Q3F2iIiIiJeiqMteer98EPgpz+1miIiIiLnogCFP2ImwbhxVk2Khx8GHnrIypjg1JTs5mDGga+qV8/KPoiPtyp3zZgB7N8PlJbaT/AyDEzw92MhTM5Kwt//iSesqWNFREQcICDAyqbQBFMiInIhlR6gKHVd6GVnZ+PQoUPm/vHjx3HgwAEUFhaiuLgY+/btM+spNzfXrCsp7zSQUjmCg4HBg62gxCefAJ99Brz3HnDjjdYAUV/H7WeQ5o47gC1bgLffBj7+2Mqo8CaHD1s1Q955B9iwwRrOcfvtVitPRERERETEx1R6gOLIkSOYPXs2ZsyYgXXr1uGbb77BlClTsGnTJmzcuBFfffUVpk+fjp07d2Lu3Ln4/PPPsWbNGvvV3wtkSr5IVWLGCOs4jB1rlRp/5BHgo4+AkyftJ3jQl18Cf/qT9XtdfbWV5dK1q71SRERERETE91RqgOL06dM4ePCgCS60a9cO7777rsmkGDRokAlOrFixAldddRVCQkIwZ84c8/y+ffti2bJlKOCUiS78uW3bNuzYscM8FqlSYWFAly7WwNhnngG2bwcGDrSyS1z7crXKzLRqY3TqBMyfDzz+uPV7MTAR6sUzioiIiIiIiFSCSg1Q1KhRA/Xq1TNBhiVLlmDXrl2oWbMmIiIicPLkSTPMo06dOuYxh3eEui66atWqZYZ+uAMURUVF2Lt3r+taLdO8n0i1YLFJ1qVgfQrOZOLab3HXXcADD3xfTPToUSu7oqKFNfl67u98v/R06/2ZvfGTn1izdLAuxosvWpXFVARTRERERET8RMCTLvb9ShEcHGxurDNRu3Ztcz8gIMBkS/B+fn6+qTvBwAQDFseOHXNdk51Cz549zfOYXdG8efPvXt+gQQP7nUWqCSdu79vXqvnAgqEMGCxYYE3RunUrwOweZju49l8TUHDt02AdlbNlOXCIhmsfx/HjVjCCtSRWrACWLQMWLgTmzLHe7/LLgV//Ghg6FIiOtl8sIlK5OAyTtaEaN2583qGUG1zHqgU87nlQs2bNMHr0aPuR57CtwmGpTZo0MR0sIiIiUn5MPDh69Cjatm1rLzm/GqcZOahEJ06cwOrVq03goWvXrti+fbsZ5tGjRw8EBQVh8eLFJjjBgMTmzZtN0czevXsjKSnJfgfLRx99ZDaCrxPxKH5FXPswdu2yZtTg0A8GJXhjgILrGaDg/TMxA4Lly5kNxOKcHFLCBm7dukBiIlvgQMOG9pNFRKpWamqq6zC2H/379zcdAucyYcIEPMWMMg8aOnQoXn/9dfuR5+Tk5JhhqRyuWpfHbhERESk3lnpgCYdrr73WXnJ+lR6g4MwdeXl5ZngGexrY88BhG+Hh4Wa4B3tuGKjgYw7r4LrIyEizriwFKMRrcUpSd2YEgxT8CrkzKc7EgAQDEwxQMDAREwNERVlBCxGRaqYAxcVTgEJEROTSXWyAotJn8WCgIcp1AcagA4MUrDMRHR1tUkm5LsZ1gcbgBLnXnRmcIMZNNJOHeCXurxz6wRoR7doB7dtbhTb79fvfGwtccj2f16SJ9ToFJ0TEQ3ReFREREW9W6RkUlYW9N4cPHzZjUD31K3K4CjHY4i9YsJQZMAwk+Qtm/bA2CnsTmd3jD/id4v7NIKG/bDMDpty3ue3+Mo6c28qCxAwK+8vnTMzO47HMn47d3OaSkhLzWZ+rwDT3h6ysLDRs2BDDhg0zdaHORRkU32MGxddff41u3bqZQt+eapPw//WX4uHcTm4vb+5OLE/93asLt5ntEf50b78vK7u9/sD9mfLmL58xubfXH5T9jHnc8vXPt7zby+dt3brV1KC84YYb7KXn57UBChbTYO2Ks2VXVAf+MTkTCYegsJHkpX+mSsVtZlCIdULcKTj+sN28kFm5ciVatWplZqHxh23mfs3pfbnN/lKIlvv32rVrzYVcv379/OJzJl5YsR5QQkKC32zzli1bTDFITmPN4sv+IC0tzRSXZk2n8+H3oH79+qYINe+fiwIU3+MsZN9++60JZDOo6wn8HTIyMhAfH++x36E6cd/k/sx6Zk2ZregHeLHOWez4/Qzj8FA/cPDgQRMo5fHIH3DYO2vzcQi7p65vqhPbW7yeY9vaH45bxFIG3OYWLVrYS3wbj9PsCGMR6XNxH8/dnSPl4bUBCm+wYsUKcyE3cOBAe4nvY+/a8uXLvaJyenXhLDJr1qxBy5YtTe+YP+BJksVsOWMOL1z9RUpKitn2Xr162Ut83+zZs9G5c2fTQPAXrLPAatEsxuwPQxp4Gt+xY4e5mOvevft5Aw/lpQDF9/j3ZfYVG9uewgbvqlWrTADKH85T3Id5Icdi6ldffbW91LcxQDF9+nQMGDAAcXFx9lLfxe1lO5vDwjt06GAv9W3MXP3vf/+Le+65p1KO096OHQVsa/K85C/ta07+wOuo8mYKOB2P0Xv27MGoUaMuuE8ze7m8wVcFKM7DXezTXTPDHzCbgD01PGH4C34F2PBkCry/jM/mNruHtfjTmHTu2+QvvVPkHsrjT58zg1Ac7sDP2R8agcRgunubK4MCFN6Fw0x27dpleuX85fzMLFr2sDMDzB/wgj05OdnMaucPw9O4vQys8vzUqFEje6lvYxuE2atDhgzxiwwKZhPwuMUsKNYc9AcMynBaanaQ+AMGZLjNnTp1qtT2lgIULrxQY3oKo3ts2LIhwBoM7llI+Dg2NtZcwDLFkgdTrndyw5eBCPa28QKVjR2eKHjgZKodL2TYMOBy/g34t+HfgdXLnbzNzJRgihFP/GzEMwDFz5bT3jINnF8wphnyc+Y2s7HPz93pJxFuF7FHxr2v87PkdnEf4Pbys+YFjnvfP191fyfgNro/W+7T/Ny5L/PGvwFv/Gz5ubNn0v2ddip+f/lZur+n3D7u3/zMuW1sJPD7zWMc92tmSnF7nR58ZWCRmRL8TnMf5umM283vN7eT+z7/Hvyc+ffh8Yufu5OPY9xGfn78zLl/E/dh7ttsAPLvwWM4t5P7A78LXH6x32kFKDzH3Szjflr2Pp1vnZNxW8puR9nHZ94np29z2e04c5t8fXupvNvvZBfaRjrbOqfyt+2ls23nue6T07f5bNtLfHy2dRXZ3oAnXez7fovpKf/5z3+QmJhoGvLz5s0zxTw4VmbKlCkmVYcXtwxOzJw506QPs6HPBqBTsRHLBijHanMqV45ffvvtt01jftOmTWZKtfT0dHMRyxRxpuHxQpb1Cpz6BeM2f/DBB+ZilRczkyZNMg193ucQj4ULF5qUUl64ffnll1i3bp35nN0XAU7EizTWIPjmm29M8IXjqFmHgelYXMfl/LwZ3Z41a5b5G/ACj/u+U3vcGXzj58l9ltvGz5jbxe8th7NMnTrVrOMFGyO/TKndvXu32fedGuFnQIJplKwfw23hRSl7adzje5lSyu84TxjcxxcsWGCOe6xB4tRgFLeF+/H8+fPN582Cyjxuv/POO2Ys5NKlS00dIX7GPI7x2M19nz11Tu7JYaCJ5yh+3jxfceouHqv4OfLYxu80t5Pns0WLFmHu3Llm/2jcuPFF1ePYsGGD2U88iZ+pPw03JO7X3J/53WUAkcPS2MvMABQ/e362/Jx5XuKUbTyHc52Tg40MJPLcxO8pz1Osw8DjNfdh9kSuX7/e7N8MyvG4xmAjt9+p5ygen9mu5DmYxyKep7id/AwZbGRNLP4t+H3ltrOwHIfoXcz319vwvMTtYnuLtc64XzO7j9vM7eexnJ899wUe2/hZsy3Gv4MT8TPmcZmfKwPo3Kf5XeX2M3DM/Zg/uY7HcJ6PeU3h1OxOXiPx2MRsCV4j8PvL4xO3h51fXMe2GNvU/JvwM+dnz2OXU/GakN9j7rP87Lh9/CzZfubnzWwoXjdxH2abk+v5PC5zIn7GbD/ymET8nPk95r7Oz9F9ruI+zr8Jz2P87Pm9vpTrRgUoXNjLyHnheaLgWG1+gfhH5gGSyzkekF80HmAvu+wy0+Bn7ywbwU69WOfJnjsbTxQc+8eGPHcyBiD4BWORTJ4UeVHDZXwOv2zt27d3bKOAnxu3mb2u/Fx5cOnSpYs56TMYw8It/ELx78ATIy9meXHDYkZOxQMjC27x5M/9mz/5+fGChY2j1q1bm5Mkt5MBHI5v5t+CFzNObvCyMdeuXTtzwc4GH3ti+ZMnT+4H3J/5Hee2Dh482HzXGdhwagCO+zAb8/xecx/mmG0e17i9PFFweZ8+fUwjgRe1HCvIEw0bRyy650T8nPj7M+DAwAQv7Lgf8/vNEyQbA2PGjDEBDO7vrDHDvwOXMzDjVPxOu4tRscHPhpC7xgjPUe5tYyOQnzVnnuBzODSA2TTlpQCF57DxzvMwj8Pcn/n58VjFfZfnbDYQeXzmOZkX67zQY5DZqRdzDIozkM5zL7+nDCay4c/zEQNu3I95HOM+zXYJ73NfZlvNicdrBpr43eLnxmM3gzM8T3ObGFjlOZrfPz6P28zPnxd6fI5TsX3B7eQxmPu3ez/m9vO4xYAcz8Pcbq7j58xzmlMvYHnOYSCR1w7cXrY/eN3gXsb2J/djLmM7m+0PZi6zLpgTv8fu6wnur9wOtje5jXzM7eR9Bmj4+fPYxv2Bfwt+3534HWZ7g58dv8MMRPExg0zs3GVxbu7r3EZuN29si/H4xu82z9VO3Gbuo/zMeB7i8Zk/uW1sN/Mz5jLi9RU/d3dAnW2SS7me8P0BUOXALwwPgtxx+CXjwYINQDZ+eaBgxIsXc1zHC1cu5wflZDwpcJt544UadyI2dPgl4rbyxM8LOe5gfA7/BtxmrnMqfr78/Ph580DBixh+2djI58GC28ht5gGH28z1bBw6HfdXNm54AOV28QTIbXR/tlzHz55/H/4NuG+woeBU/M4yQs0LU16U8QKcB0d+ttxONgK5nYzs8sb7XM99m38jJ+JnxgYRgw4MxnBbeZ/bz8+VjQXuz9xefra8z232hf2bxy823Lm9vM9GARv03A8YpOFP7uv8HvDvwL+Tk/GzZsOIDXoGZ7jfch9mpgS3ncc4fr68qHMf18jJx25/ws+MHQH83HhsZoCJ32Gef3neYrE5ZnuxUczPmY/5uTv12EVsb7CzgNvAhi23lRkSvNAhBlfZAOaFLGdgYg8lL4acep7id5SdA2yL8CKd28LvNDsQaMSIEeZvwQtZNu55HOdFnZMx2Oi+GOUxmfss7/MnA3Gsu+G+cOUFnrst5lT8/rJ2CtsiDMCxrcXi3O6OkUGDBpllvGjn/sxi/GyP8lzlRNyXedzivs1t53GLn6H7uMXHDDjxuMXlrM/A9phTz0vcd9mJ6T5u8djEbWXwgcctdvwxwOoOSDFTnd8BHsf4PCfi58bjljvAwkwnfrbcXh63+f3mdnL/5neX+zTPXQxYXAoFKFy4wzAowQYuL2qYTcATPxt//CMzPZwHEu6MTJnlQZQnTx5knYoXJvxCMeLHBi9P+tyR2IjntjPtnX8Xnhh5QOV2c6dkg8mpeODnyYCfNRtEPKDyxMETCA8YTJvm582MCe4LTFc637Q5TuBu8DHdjtvEgwkPMvz8ebHGbeTFHE8WPKDyc+YJ42J6Wr0NG62ff/656ZHjd5j7NINQjPbyhMELO/ZScX9m8II9WQzM8cTq1O80L0Y/++wz08DldvE+G75MrWPjj8cs/g24vTyW8ZjGvwMbDE7FfZs9UzNmzDDHLDYGWaSJ32VuN/dn9r7y+MbeZfbM8cYAnZNxu95//33TI8fjMxu3PI7xO819ncFmHteZVcHvArOI+Ddw8rHb3/A4xPMTPzcek3nxyqJ6PEfz+MzPmsdo3uf+7uS2CLGxy/MSt5fnK2aG8BjN4xnXsXOI28gbg6zcbt7nOifi783PktvMn/we85jFCxluH/Fz5Tr+5PZzf3AybjO3gfsu22LM0uVxi8cx4mfq3kZur9P3a56fuA9zGy6//HJzLOZ28TMlHse5jPsAt5XP543fAadi25qfLS/aGYjghSuzzt1tbO7bPG5xO/mY+4RTv8PEz/OLL74wbQqeX5m9ys+c10z8HLme28f7ZY9bTt6veXxmO4rZqQxE8XrJnYHN7eVn694+7t/c7ksd0qIhHi6M9jBNxX2C5AGEOxX/8Lxo4R+eF/CMDvILyN46RkLdBxon4gUNAxT8wvDkyO3hT0bAeFHOhj+3t3///t81fnmQdXIjl9vMC3V+bozm8ovDL9Tw4cNN44AX8GwEcrt5kOW28nO/1C+XN+DBgo099hqzJ4YXqAxIMG26TZs2JrLJCxxGPXlxw6AUey+4jzv1xMF92p0Sy8+a+zSDE/w+M0DBvwn3Z+7bXMfPnYEMXtA59TvNxg6PYcTPzX1S4DGN28W/CfdpDmdhoJVDIviZcxiMk/FzdWcKsCeZ28NgBIfwcH/m933kyJGmd47P5fec32knNxC47/KcxcY8A0zcdxmQ4LGL283GAr+//KwZjOL5iz3Q7HW/mO80GyEa4lH92KhjNgyDiDxuM9jI4zaD6vxOM5DO5Wwg8nNnkLljx45mP3DqMZsXMqwJxYDE2LFjzQUOz828z+8wg6s8fnN/Z9CRxzK2WdzZQU7D7+RXX31ljsNsi3C7eaHO7y+3jWni7l5ody0hfg8YiHUqdg59+umn5vjFczDP0cTzMC9m2UnAYzU/d+7j3H4GnJ3aWcLtffPNN00WH7+7/Iy5nTz/sIOTHSjurApe2PLG85dThx/yPPzCCy98F1h67733zGfIcxHbIez8ZTYBj1u8yOWUyWyD8uLeqcctnh/Hjx9v2hfs5OON10s8bvEczWAF1zHrgMPW+DdiRwr3Byfi7z9x4kTTxmB7gp1h7Pzi58v9mNvL9jSP39wH+D3m95cZYZfSttYsHiIiIvIDmsXDM9gkYwOeWRO8gGHwkdgYZIcJL3T4k0ELXtSy0c+gnJOz3tjwZcOWGJRicJHbz4AiL+YZfGUAhtvILAP+XRhYd2qgkQEmfsa8GGfHED9DBpWZ7cYABS/W+XfgdvJCh9vJz9jJ+BlyW5i56a5PwGA5L9bZUcILW24j93d2nnH/5jqnYrYqgzDsHOBFOr/XXMZtZEcoOzu5f/N7zQs+7gPuYT9OxP2X300GWLnf8kKd93khy8+Rxy0uZ5CRnQXsDHN6rTMef7nv8gKdxyMGEHm8YgCCw1fcwzC5jfy8efziY6dmyfB4xX2Vx2Z+h/kd5XeagSh+zrzPz53HNH6Puf+zPsWlfo8VoBAREZEfUIBCREREPMG5ea4iYjCqyVRRVg3mlLBMI2RvBPEne6fO5I7uEmOU7tdz7Bwj/hXF92SEnOPf3TPEnAsj7+5eQjdGppna694OERER8V4877PXnNiOuJT+z0t93fnw/SqjXSMi1UcBChGH48mX4zoZCHAX+nQXrWGK1VtvvWXS0HjRzzQ7BjTchU+J6aRTp0417+GuN8LXMQWT78VlDCIw0MGAgXu8LO+7U9z4PE4Lxv+Tvw9vTPfjOEO+no8ZFOH7MhjB92OKK1P9OIaa/z8rmRMbEhx//corr5j/kymvDKYw4MEbX+f+ffi7ny0AIyIiItWHaewvv/wy/vCHP5j6C+5OEGJdM563y2LHBTtGuJztCdbeePHFF814/cqYbYntDtbSYW2Ejz/+2LRBzoZBFbZ3OMzCjb/TrFmzzO3M31tEqp6KZIo4HMezcSwYL+w53otj3FiAiwXUGBxgUTGOe2QwgPfZKOAYZj5mUS4GGRjc4PhHFvThLADMfGDQgBf/DDwwqMGGBMeWsbgTCzqx6M3zzz9vxsdy7BkLBnHmCI4r5Fg8BkkYpODYPI5R++STT0x2BwMObMjw/2Sjhc/j78piSRyryUYEC0xxu7g9HJs8efJk04hgwIM3/s4c98ft4f/B7XDquD4Rb6QimSJyMVg7hOPsec5mMUR2SPAcz3P3v/71L9P5wYKILPzJ+yxkzeKJLBzIDgq2OUaNGmXaIVzPdgiPQ+zUYPCAQQx2SvD/YXuE78/x/eyYYRuE7RS2TfheHBPPNgHbEmxzsBgn2z38v9ne4HuwbeMuOssOG7ZJ2A5h+4XtJLaj+Bz+fpxSkdvC92I7h508rB/BDha2mfjerLHg1IKPIt5GGRQiPoInb0b6eUJm9W9e7PMkP2DAADNjA0+sPIGzIjqDGe4TKYMO48aNMyfcjz76yAQP2EjgDBc8cfPGBgKzJHji533+ZCOEQQJeQLCoFU/obBC4ez74/iwCxd+DWQ+s9suK1gxAsDHABgILQvE5nEmFjRJiTwYbBXw9GwXcBgYgGORg9gYLEPH/4PPY8GEDgc8RERERz2Bwgp0lPOezncDzNbMe2anA8zxniHMHGThrC9sk7uKuLKTHtgiDorzgX7FihWmvuDszGBRgtuby5ctNxwvP/2xHcOYATovPYAGDDXw9Z8FhG8KNr3O/dtq0aSZAwQAHpyNnYINDY9l2YkeOu2gjZ5ZhIUC2O9iZw0AK2xkcesp2CR8zGMKCgWxT8XfhtolI5VCAQsRHMDjAG3sOGDDgiZMNAp7MecLnCdsdFCD3tD/uYRQ8wbMHgCdl9lrwBM3nM02Sr2dQgJkL7gwMZk4w4MD3Y08nsx04RSv/f76GU+JxyiwGHli5mY0PNlw4XRyfx/fmNFPM+GAjgemgDDiwIcEgBKcYYzCDw0bYeOH7MjuD6xiwYAOF2AvD14mIiIjn8CKdN7Yr2DbguZttBQYo3JmVPGezHcG2ifvczfbIwIEDzRSFDEawvcJzPW/sCOHz2CZhRwk7R5hRwfdh+4DvzTYB/1+2Mdghw3YM2yFsE7HDhssYYGBAhBkRnEGEARC2Tzj9uHu2AXf7iNOzcxvYBmHmJ9sr/D+4nu0eThfqzhbhMgZiVOdCpPJoiIeIj2Bwgb0XvIjnSZlBA86rzZMpGwbui/vOnTub+zyR8yTOEz9P8jzJdu/e3ZyweWJnMIInbZ7c2RDgyZnDQPj/8L0ZaGDQgf8ngxt8Dk/ifMzgBB/zhM//m/8PAwzMiuB7MjDBkzkDHUyp5Huyp4LP5e/BAAZv/H3ZkGAQgz/5HP5uvM/gC1/fsWNHR0/dJOKNNMRDRC4WMycYfGCggZ0NDCr07dvXrGNHBM/vDDLw3M3nMGjAbE2+jhkOzLpwt12YPcEAANsMvLGYN9sSbHuwE4bZDsx6YKCA7Rq2OZjtwP+DbRP3/8X2BTtJ2BZiW4cdMuw84WP+TmxXsA3DzA62X9gO4X0GIfh/MUjB/5dtFb6GbSMGN/h78/9jW4a/B99T7RCRyqFpRkV8CL/ODAIw6MCfvHGZe7n7Z9n75O7FcK/jYw7LYK8GAwFlX1f2uWV/upeXnZu+7P/B+2d7Hz6fy4nLz3wNne093I953/1YRCqHphkVkYvFczIv2HmhzowGnueZAcFlvM/zPe/znM2ODN5nO4Ov40U/n8PHfB5fzyEczLTgsFM+5nKu55AMvoe7/cD34mv5HOJjrucyrncHDvg6PuZ7kPs93b9X2f/b/RouJ/dj/p7u/9O9XVznfk8RqTgFKEREROQHFKAQEU9zBxSYDSEi/kM1KERERERExKsw+0LBCRH/owCFiIiIiIiIiHhcjXHjxmmIh4iIiHyHUwmzgJwnsZAei92JiIiIb/r444/te9+rkZSUpACFiIiIiIiIiFSb1NRU+973NMRDRERERERERDxOAQoRERERERER8TgFKERERERERETEw4D/BwGhRdb9tHljAAAAAElFTkSuQmCC)"
      ],
      "metadata": {
        "id": "JP7iUAP4OSbC"
      }
    },
    {
      "cell_type": "code",
      "source": [
        "plt.hist(df6.price_per_sqft,rwidth=0.8)\n",
        "plt.xlabel(\"Price Per Square Feet\")\n",
        "plt.ylabel(\"Count\")"
      ],
      "metadata": {
        "colab": {
          "base_uri": "https://localhost:8080/",
          "height": 623
        },
        "id": "cITmd5U-PIjS",
        "outputId": "11808fad-19a9-41d0-df2c-d4fdb8137e38"
      },
      "execution_count": null,
      "outputs": [
        {
          "output_type": "execute_result",
          "data": {
            "text/plain": [
              "Text(0, 0.5, 'Count')"
            ]
          },
          "metadata": {},
          "execution_count": 88
        },
        {
          "output_type": "display_data",
          "data": {
            "text/plain": [
              "<Figure size 1080x720 with 1 Axes>"
            ],
            "image/png": "[encoded data removed]"
          },
          "metadata": {
            "needs_background": "light"
          }
        }
      ]
    },
    {
      "cell_type": "code",
      "source": [
        "df6.bath.unique()"
      ],
      "metadata": {
        "colab": {
          "base_uri": "https://localhost:8080/"
        },
        "id": "-E2ZZ5DRPaI-",
        "outputId": "2f31d816-49fc-4ac3-97c3-9405823f604d"
      },
      "execution_count": null,
      "outputs": [
        {
          "output_type": "execute_result",
          "data": {
            "text/plain": [
              "array([ 4.,  3.,  2.,  5.,  8.,  1.,  6.,  7.,  9., 12., 16., 13.])"
            ]
          },
          "metadata": {},
          "execution_count": 89
        }
      ]
    },
    {
      "cell_type": "code",
      "source": [
        "df6[df6.bath>10]"
      ],
      "metadata": {
        "colab": {
          "base_uri": "https://localhost:8080/",
          "height": 206
        },
        "id": "gmLzjH_WPjbk",
        "outputId": "b6cb1165-df81-4c65-d94b-0bd2e1bc5988"
      },
      "execution_count": null,
      "outputs": [
        {
          "output_type": "execute_result",
          "data": {
            "text/plain": [
              "            location    size  total_sqft  bath  price  BHK  price_per_sqft\n",
              "5277  Neeladri Nagar  10 BHK      4000.0  12.0  160.0   10     4000.000000\n",
              "8486           other  10 BHK     12000.0  12.0  525.0   10     4375.000000\n",
              "8575           other  16 BHK     10000.0  16.0  550.0   16     5500.000000\n",
              "9308           other  11 BHK      6000.0  12.0  150.0   11     2500.000000\n",
              "9639           other  13 BHK      5425.0  13.0  275.0   13     5069.124424"
            ],
            "text/html": [
              "\n",
              "  <div id=\"df-f1d176f8-2246-4317-9ef6-458ecb94a4fa\">\n",
              "    <div class=\"colab-df-container\">\n",
              "      <div>\n",
              "<style scoped>\n",
              "    .dataframe tbody tr th:only-of-type {\n",
              "        vertical-align: middle;\n",
              "    }\n",
              "\n",
              "    .dataframe tbody tr th {\n",
              "        vertical-align: top;\n",
              "    }\n",
              "\n",
              "    .dataframe thead th {\n",
              "        text-align: right;\n",
              "    }\n",
              "</style>\n",
              "<table border=\"1\" class=\"dataframe\">\n",
              "  <thead>\n",
              "    <tr style=\"text-align: right;\">\n",
              "      <th></th>\n",
              "      <th>location</th>\n",
              "      <th>size</th>\n",
              "      <th>total_sqft</th>\n",
              "      <th>bath</th>\n",
              "      <th>price</th>\n",
              "      <th>BHK</th>\n",
              "      <th>price_per_sqft</th>\n",
              "    </tr>\n",
              "  </thead>\n",
              "  <tbody>\n",
              "    <tr>\n",
              "      <th>5277</th>\n",
              "      <td>Neeladri Nagar</td>\n",
              "      <td>10 BHK</td>\n",
              "      <td>4000.0</td>\n",
              "      <td>12.0</td>\n",
              "      <td>160.0</td>\n",
              "      <td>10</td>\n",
              "      <td>4000.000000</td>\n",
              "    </tr>\n",
              "    <tr>\n",
              "      <th>8486</th>\n",
              "      <td>other</td>\n",
              "      <td>10 BHK</td>\n",
              "      <td>12000.0</td>\n",
              "      <td>12.0</td>\n",
              "      <td>525.0</td>\n",
              "      <td>10</td>\n",
              "      <td>4375.000000</td>\n",
              "    </tr>\n",
              "    <tr>\n",
              "      <th>8575</th>\n",
              "      <td>other</td>\n",
              "      <td>16 BHK</td>\n",
              "      <td>10000.0</td>\n",
              "      <td>16.0</td>\n",
              "      <td>550.0</td>\n",
              "      <td>16</td>\n",
              "      <td>5500.000000</td>\n",
              "    </tr>\n",
              "    <tr>\n",
              "      <th>9308</th>\n",
              "      <td>other</td>\n",
              "      <td>11 BHK</td>\n",
              "      <td>6000.0</td>\n",
              "      <td>12.0</td>\n",
              "      <td>150.0</td>\n",
              "      <td>11</td>\n",
              "      <td>2500.000000</td>\n",
              "    </tr>\n",
              "    <tr>\n",
              "      <th>9639</th>\n",
              "      <td>other</td>\n",
              "      <td>13 BHK</td>\n",
              "      <td>5425.0</td>\n",
              "      <td>13.0</td>\n",
              "      <td>275.0</td>\n",
              "      <td>13</td>\n",
              "      <td>5069.124424</td>\n",
              "    </tr>\n",
              "  </tbody>\n",
              "</table>\n",
              "</div>\n",
              "      <button class=\"colab-df-convert\" onclick=\"convertToInteractive('df-f1d176f8-2246-4317-9ef6-458ecb94a4fa')\"\n",
              "              title=\"Convert this dataframe to an interactive table.\"\n",
              "              style=\"display:none;\">\n",
              "        \n",
              "  <svg xmlns=\"http://www.w3.org/2000/svg\" height=\"24px\"viewBox=\"0 0 24 24\"\n",
              "       width=\"24px\">\n",
              "    <path d=\"M0 0h24v24H0V0z\" fill=\"none\"/>\n",
              "    <path d=\"M18.56 5.44l.94 2.06.94-2.06 2.06-.94-2.06-.94-.94-2.06-.94 2.06-2.06.94zm-11 1L8.5 8.5l.94-2.06 2.06-.94-2.06-.94L8.5 2.5l-.94 2.06-2.06.94zm10 10l.94 2.06.94-2.06 2.06-.94-2.06-.94-.94-2.06-.94 2.06-2.06.94z\"/><path d=\"M17.41 7.96l-1.37-1.37c-.4-.4-.92-.59-1.43-.59-.52 0-1.04.2-1.43.59L10.3 9.45l-7.72 7.72c-.78.78-.78 2.05 0 2.83L4 21.41c.39.39.9.59 1.41.59.51 0 1.02-.2 1.41-.59l7.78-7.78 2.81-2.81c.8-.78.8-2.07 0-2.86zM5.41 20L4 18.59l7.72-7.72 1.47 1.35L5.41 20z\"/>\n",
              "  </svg>\n",
              "      </button>\n",
              "      \n",
              "  <style>\n",
              "    .colab-df-container {\n",
              "      display:flex;\n",
              "      flex-wrap:wrap;\n",
              "      gap: 12px;\n",
              "    }\n",
              "\n",
              "    .colab-df-convert {\n",
              "      background-color: #E8F0FE;\n",
              "      border: none;\n",
              "      border-radius: 50%;\n",
              "      cursor: pointer;\n",
              "      display: none;\n",
              "      fill: #1967D2;\n",
              "      height: 32px;\n",
              "      padding: 0 0 0 0;\n",
              "      width: 32px;\n",
              "    }\n",
              "\n",
              "    .colab-df-convert:hover {\n",
              "      background-color: #E2EBFA;\n",
              "      box-shadow: 0px 1px 2px rgba(60, 64, 67, 0.3), 0px 1px 3px 1px rgba(60, 64, 67, 0.15);\n",
              "      fill: #174EA6;\n",
              "    }\n",
              "\n",
              "    [theme=dark] .colab-df-convert {\n",
              "      background-color: #3B4455;\n",
              "      fill: #D2E3FC;\n",
              "    }\n",
              "\n",
              "    [theme=dark] .colab-df-convert:hover {\n",
              "      background-color: #434B5C;\n",
              "      box-shadow: 0px 1px 3px 1px rgba(0, 0, 0, 0.15);\n",
              "      filter: drop-shadow(0px 1px 2px rgba(0, 0, 0, 0.3));\n",
              "      fill: #FFFFFF;\n",
              "    }\n",
              "  </style>\n",
              "\n",
              "      <script>\n",
              "        const buttonEl =\n",
              "          document.querySelector('#df-f1d176f8-2246-4317-9ef6-458ecb94a4fa button.colab-df-convert');\n",
              "        buttonEl.style.display =\n",
              "          google.colab.kernel.accessAllowed ? 'block' : 'none';\n",
              "\n",
              "        async function convertToInteractive(key) {\n",
              "          const element = document.querySelector('#df-f1d176f8-2246-4317-9ef6-458ecb94a4fa');\n",
              "          const dataTable =\n",
              "            await google.colab.kernel.invokeFunction('convertToInteractive',\n",
              "                                                     [key], {});\n",
              "          if (!dataTable) return;\n",
              "\n",
              "          const docLinkHtml = 'Like what you see? Visit the ' +\n",
              "            '<a target=\"_blank\" href=https://colab.research.google.com/notebooks/data_table.ipynb>data table notebook</a>'\n",
              "            + ' to learn more about interactive tables.';\n",
              "          element.innerHTML = '';\n",
              "          dataTable['output_type'] = 'display_data';\n",
              "          await google.colab.output.renderOutput(dataTable, element);\n",
              "          const docLink = document.createElement('div');\n",
              "          docLink.innerHTML = docLinkHtml;\n",
              "          element.appendChild(docLink);\n",
              "        }\n",
              "      </script>\n",
              "    </div>\n",
              "  </div>\n",
              "  "
            ]
          },
          "metadata": {},
          "execution_count": 90
        }
      ]
    },
    {
      "cell_type": "code",
      "source": [
        "#(No. of bathrooms)>(No. of Rooms+1) are anomalies (general observation)\n",
        "plt.hist(df6.bath,rwidth=0.8)\n",
        "plt.xlabel(\"Number of bathrooms\")\n",
        "plt.ylabel(\"Count\")"
      ],
      "metadata": {
        "colab": {
          "base_uri": "https://localhost:8080/",
          "height": 626
        },
        "id": "8nMu8yw0Pqr3",
        "outputId": "ab6db17f-1f49-4959-c290-bece1573b42e"
      },
      "execution_count": null,
      "outputs": [
        {
          "output_type": "execute_result",
          "data": {
            "text/plain": [
              "Text(0, 0.5, 'Count')"
            ]
          },
          "metadata": {},
          "execution_count": 91
        },
        {
          "output_type": "display_data",
          "data": {
            "text/plain": [
              "<Figure size 1080x720 with 1 Axes>"
            ],
            "image/png": "[encoded data removed]"
          },
          "metadata": {
            "needs_background": "light"
          }
        }
      ]
    },
    {
      "cell_type": "code",
      "source": [
        "df6[df6.bath>df6.BHK+2]"
      ],
      "metadata": {
        "colab": {
          "base_uri": "https://localhost:8080/",
          "height": 175
        },
        "id": "_pWMSchjQGd1",
        "outputId": "ca2f6672-daea-42db-8728-44450ad77a3e"
      },
      "execution_count": null,
      "outputs": [
        {
          "output_type": "execute_result",
          "data": {
            "text/plain": [
              "           location       size  total_sqft  bath   price  BHK  price_per_sqft\n",
              "1626  Chikkabanavar  4 Bedroom      2460.0   7.0    80.0    4     3252.032520\n",
              "5238     Nagasandra  4 Bedroom      7000.0   8.0   450.0    4     6428.571429\n",
              "6711    Thanisandra      3 BHK      1806.0   6.0   116.0    3     6423.034330\n",
              "8411          other      6 BHK     11338.0   9.0  1000.0    6     8819.897689"
            ],
            "text/html": [
              "\n",
              "  <div id=\"df-05657d3b-d970-46c5-9985-a8898aa9e1d3\">\n",
              "    <div class=\"colab-df-container\">\n",
              "      <div>\n",
              "<style scoped>\n",
              "    .dataframe tbody tr th:only-of-type {\n",
              "        vertical-align: middle;\n",
              "    }\n",
              "\n",
              "    .dataframe tbody tr th {\n",
              "        vertical-align: top;\n",
              "    }\n",
              "\n",
              "    .dataframe thead th {\n",
              "        text-align: right;\n",
              "    }\n",
              "</style>\n",
              "<table border=\"1\" class=\"dataframe\">\n",
              "  <thead>\n",
              "    <tr style=\"text-align: right;\">\n",
              "      <th></th>\n",
              "      <th>location</th>\n",
              "      <th>size</th>\n",
              "      <th>total_sqft</th>\n",
              "      <th>bath</th>\n",
              "      <th>price</th>\n",
              "      <th>BHK</th>\n",
              "      <th>price_per_sqft</th>\n",
              "    </tr>\n",
              "  </thead>\n",
              "  <tbody>\n",
              "    <tr>\n",
              "      <th>1626</th>\n",
              "      <td>Chikkabanavar</td>\n",
              "      <td>4 Bedroom</td>\n",
              "      <td>2460.0</td>\n",
              "      <td>7.0</td>\n",
              "      <td>80.0</td>\n",
              "      <td>4</td>\n",
              "      <td>3252.032520</td>\n",
              "    </tr>\n",
              "    <tr>\n",
              "      <th>5238</th>\n",
              "      <td>Nagasandra</td>\n",
              "      <td>4 Bedroom</td>\n",
              "      <td>7000.0</td>\n",
              "      <td>8.0</td>\n",
              "      <td>450.0</td>\n",
              "      <td>4</td>\n",
              "      <td>6428.571429</td>\n",
              "    </tr>\n",
              "    <tr>\n",
              "      <th>6711</th>\n",
              "      <td>Thanisandra</td>\n",
              "      <td>3 BHK</td>\n",
              "      <td>1806.0</td>\n",
              "      <td>6.0</td>\n",
              "      <td>116.0</td>\n",
              "      <td>3</td>\n",
              "      <td>6423.034330</td>\n",
              "    </tr>\n",
              "    <tr>\n",
              "      <th>8411</th>\n",
              "      <td>other</td>\n",
              "      <td>6 BHK</td>\n",
              "      <td>11338.0</td>\n",
              "      <td>9.0</td>\n",
              "      <td>1000.0</td>\n",
              "      <td>6</td>\n",
              "      <td>8819.897689</td>\n",
              "    </tr>\n",
              "  </tbody>\n",
              "</table>\n",
              "</div>\n",
              "      <button class=\"colab-df-convert\" onclick=\"convertToInteractive('df-05657d3b-d970-46c5-9985-a8898aa9e1d3')\"\n",
              "              title=\"Convert this dataframe to an interactive table.\"\n",
              "              style=\"display:none;\">\n",
              "        \n",
              "  <svg xmlns=\"http://www.w3.org/2000/svg\" height=\"24px\"viewBox=\"0 0 24 24\"\n",
              "       width=\"24px\">\n",
              "    <path d=\"M0 0h24v24H0V0z\" fill=\"none\"/>\n",
              "    <path d=\"M18.56 5.44l.94 2.06.94-2.06 2.06-.94-2.06-.94-.94-2.06-.94 2.06-2.06.94zm-11 1L8.5 8.5l.94-2.06 2.06-.94-2.06-.94L8.5 2.5l-.94 2.06-2.06.94zm10 10l.94 2.06.94-2.06 2.06-.94-2.06-.94-.94-2.06-.94 2.06-2.06.94z\"/><path d=\"M17.41 7.96l-1.37-1.37c-.4-.4-.92-.59-1.43-.59-.52 0-1.04.2-1.43.59L10.3 9.45l-7.72 7.72c-.78.78-.78 2.05 0 2.83L4 21.41c.39.39.9.59 1.41.59.51 0 1.02-.2 1.41-.59l7.78-7.78 2.81-2.81c.8-.78.8-2.07 0-2.86zM5.41 20L4 18.59l7.72-7.72 1.47 1.35L5.41 20z\"/>\n",
              "  </svg>\n",
              "      </button>\n",
              "      \n",
              "  <style>\n",
              "    .colab-df-container {\n",
              "      display:flex;\n",
              "      flex-wrap:wrap;\n",
              "      gap: 12px;\n",
              "    }\n",
              "\n",
              "    .colab-df-convert {\n",
              "      background-color: #E8F0FE;\n",
              "      border: none;\n",
              "      border-radius: 50%;\n",
              "      cursor: pointer;\n",
              "      display: none;\n",
              "      fill: #1967D2;\n",
              "      height: 32px;\n",
              "      padding: 0 0 0 0;\n",
              "      width: 32px;\n",
              "    }\n",
              "\n",
              "    .colab-df-convert:hover {\n",
              "      background-color: #E2EBFA;\n",
              "      box-shadow: 0px 1px 2px rgba(60, 64, 67, 0.3), 0px 1px 3px 1px rgba(60, 64, 67, 0.15);\n",
              "      fill: #174EA6;\n",
              "    }\n",
              "\n",
              "    [theme=dark] .colab-df-convert {\n",
              "      background-color: #3B4455;\n",
              "      fill: #D2E3FC;\n",
              "    }\n",
              "\n",
              "    [theme=dark] .colab-df-convert:hover {\n",
              "      background-color: #434B5C;\n",
              "      box-shadow: 0px 1px 3px 1px rgba(0, 0, 0, 0.15);\n",
              "      filter: drop-shadow(0px 1px 2px rgba(0, 0, 0, 0.3));\n",
              "      fill: #FFFFFF;\n",
              "    }\n",
              "  </style>\n",
              "\n",
              "      <script>\n",
              "        const buttonEl =\n",
              "          document.querySelector('#df-05657d3b-d970-46c5-9985-a8898aa9e1d3 button.colab-df-convert');\n",
              "        buttonEl.style.display =\n",
              "          google.colab.kernel.accessAllowed ? 'block' : 'none';\n",
              "\n",
              "        async function convertToInteractive(key) {\n",
              "          const element = document.querySelector('#df-05657d3b-d970-46c5-9985-a8898aa9e1d3');\n",
              "          const dataTable =\n",
              "            await google.colab.kernel.invokeFunction('convertToInteractive',\n",
              "                                                     [key], {});\n",
              "          if (!dataTable) return;\n",
              "\n",
              "          const docLinkHtml = 'Like what you see? Visit the ' +\n",
              "            '<a target=\"_blank\" href=https://colab.research.google.com/notebooks/data_table.ipynb>data table notebook</a>'\n",
              "            + ' to learn more about interactive tables.';\n",
              "          element.innerHTML = '';\n",
              "          dataTable['output_type'] = 'display_data';\n",
              "          await google.colab.output.renderOutput(dataTable, element);\n",
              "          const docLink = document.createElement('div');\n",
              "          docLink.innerHTML = docLinkHtml;\n",
              "          element.appendChild(docLink);\n",
              "        }\n",
              "      </script>\n",
              "    </div>\n",
              "  </div>\n",
              "  "
            ]
          },
          "metadata": {},
          "execution_count": 92
        }
      ]
    },
    {
      "cell_type": "code",
      "source": [
        "df7 = df6[df6.bath<df6.BHK+2]\n",
        "df7.shape"
      ],
      "metadata": {
        "colab": {
          "base_uri": "https://localhost:8080/"
        },
        "id": "tZVoLnSLQmDC",
        "outputId": "f2ff2f2b-6492-41ae-dbda-5e4aff8915fd"
      },
      "execution_count": null,
      "outputs": [
        {
          "output_type": "execute_result",
          "data": {
            "text/plain": [
              "(7251, 7)"
            ]
          },
          "metadata": {},
          "execution_count": 94
        }
      ]
    },
    {
      "cell_type": "code",
      "source": [
        "df8 = df7.drop(['size','price_per_sqft'],axis=1)\n",
        "df8.head(2)"
      ],
      "metadata": {
        "colab": {
          "base_uri": "https://localhost:8080/",
          "height": 112
        },
        "id": "lqjg2kXORRvU",
        "outputId": "719e26f9-8b7f-4f74-d843-82b9fa4e4cc1"
      },
      "execution_count": null,
      "outputs": [
        {
          "output_type": "execute_result",
          "data": {
            "text/plain": [
              "              location  total_sqft  bath  price  BHK\n",
              "0  1st Block Jayanagar      2850.0   4.0  428.0    4\n",
              "1  1st Block Jayanagar      1630.0   3.0  194.0    3"
            ],
            "text/html": [
              "\n",
              "  <div id=\"df-3cd2481f-f680-4faf-aafb-9a23d25b9ce6\">\n",
              "    <div class=\"colab-df-container\">\n",
              "      <div>\n",
              "<style scoped>\n",
              "    .dataframe tbody tr th:only-of-type {\n",
              "        vertical-align: middle;\n",
              "    }\n",
              "\n",
              "    .dataframe tbody tr th {\n",
              "        vertical-align: top;\n",
              "    }\n",
              "\n",
              "    .dataframe thead th {\n",
              "        text-align: right;\n",
              "    }\n",
              "</style>\n",
              "<table border=\"1\" class=\"dataframe\">\n",
              "  <thead>\n",
              "    <tr style=\"text-align: right;\">\n",
              "      <th></th>\n",
              "      <th>location</th>\n",
              "      <th>total_sqft</th>\n",
              "      <th>bath</th>\n",
              "      <th>price</th>\n",
              "      <th>BHK</th>\n",
              "    </tr>\n",
              "  </thead>\n",
              "  <tbody>\n",
              "    <tr>\n",
              "      <th>0</th>\n",
              "      <td>1st Block Jayanagar</td>\n",
              "      <td>2850.0</td>\n",
              "      <td>4.0</td>\n",
              "      <td>428.0</td>\n",
              "      <td>4</td>\n",
              "    </tr>\n",
              "    <tr>\n",
              "      <th>1</th>\n",
              "      <td>1st Block Jayanagar</td>\n",
              "      <td>1630.0</td>\n",
              "      <td>3.0</td>\n",
              "      <td>194.0</td>\n",
              "      <td>3</td>\n",
              "    </tr>\n",
              "  </tbody>\n",
              "</table>\n",
              "</div>\n",
              "      <button class=\"colab-df-convert\" onclick=\"convertToInteractive('df-3cd2481f-f680-4faf-aafb-9a23d25b9ce6')\"\n",
              "              title=\"Convert this dataframe to an interactive table.\"\n",
              "              style=\"display:none;\">\n",
              "        \n",
              "  <svg xmlns=\"http://www.w3.org/2000/svg\" height=\"24px\"viewBox=\"0 0 24 24\"\n",
              "       width=\"24px\">\n",
              "    <path d=\"M0 0h24v24H0V0z\" fill=\"none\"/>\n",
              "    <path d=\"M18.56 5.44l.94 2.06.94-2.06 2.06-.94-2.06-.94-.94-2.06-.94 2.06-2.06.94zm-11 1L8.5 8.5l.94-2.06 2.06-.94-2.06-.94L8.5 2.5l-.94 2.06-2.06.94zm10 10l.94 2.06.94-2.06 2.06-.94-2.06-.94-.94-2.06-.94 2.06-2.06.94z\"/><path d=\"M17.41 7.96l-1.37-1.37c-.4-.4-.92-.59-1.43-.59-.52 0-1.04.2-1.43.59L10.3 9.45l-7.72 7.72c-.78.78-.78 2.05 0 2.83L4 21.41c.39.39.9.59 1.41.59.51 0 1.02-.2 1.41-.59l7.78-7.78 2.81-2.81c.8-.78.8-2.07 0-2.86zM5.41 20L4 18.59l7.72-7.72 1.47 1.35L5.41 20z\"/>\n",
              "  </svg>\n",
              "      </button>\n",
              "      \n",
              "  <style>\n",
              "    .colab-df-container {\n",
              "      display:flex;\n",
              "      flex-wrap:wrap;\n",
              "      gap: 12px;\n",
              "    }\n",
              "\n",
              "    .colab-df-convert {\n",
              "      background-color: #E8F0FE;\n",
              "      border: none;\n",
              "      border-radius: 50%;\n",
              "      cursor: pointer;\n",
              "      display: none;\n",
              "      fill: #1967D2;\n",
              "      height: 32px;\n",
              "      padding: 0 0 0 0;\n",
              "      width: 32px;\n",
              "    }\n",
              "\n",
              "    .colab-df-convert:hover {\n",
              "      background-color: #E2EBFA;\n",
              "      box-shadow: 0px 1px 2px rgba(60, 64, 67, 0.3), 0px 1px 3px 1px rgba(60, 64, 67, 0.15);\n",
              "      fill: #174EA6;\n",
              "    }\n",
              "\n",
              "    [theme=dark] .colab-df-convert {\n",
              "      background-color: #3B4455;\n",
              "      fill: #D2E3FC;\n",
              "    }\n",
              "\n",
              "    [theme=dark] .colab-df-convert:hover {\n",
              "      background-color: #434B5C;\n",
              "      box-shadow: 0px 1px 3px 1px rgba(0, 0, 0, 0.15);\n",
              "      filter: drop-shadow(0px 1px 2px rgba(0, 0, 0, 0.3));\n",
              "      fill: #FFFFFF;\n",
              "    }\n",
              "  </style>\n",
              "\n",
              "      <script>\n",
              "        const buttonEl =\n",
              "          document.querySelector('#df-3cd2481f-f680-4faf-aafb-9a23d25b9ce6 button.colab-df-convert');\n",
              "        buttonEl.style.display =\n",
              "          google.colab.kernel.accessAllowed ? 'block' : 'none';\n",
              "\n",
              "        async function convertToInteractive(key) {\n",
              "          const element = document.querySelector('#df-3cd2481f-f680-4faf-aafb-9a23d25b9ce6');\n",
              "          const dataTable =\n",
              "            await google.colab.kernel.invokeFunction('convertToInteractive',\n",
              "                                                     [key], {});\n",
              "          if (!dataTable) return;\n",
              "\n",
              "          const docLinkHtml = 'Like what you see? Visit the ' +\n",
              "            '<a target=\"_blank\" href=https://colab.research.google.com/notebooks/data_table.ipynb>data table notebook</a>'\n",
              "            + ' to learn more about interactive tables.';\n",
              "          element.innerHTML = '';\n",
              "          dataTable['output_type'] = 'display_data';\n",
              "          await google.colab.output.renderOutput(dataTable, element);\n",
              "          const docLink = document.createElement('div');\n",
              "          docLink.innerHTML = docLinkHtml;\n",
              "          element.appendChild(docLink);\n",
              "        }\n",
              "      </script>\n",
              "    </div>\n",
              "  </div>\n",
              "  "
            ]
          },
          "metadata": {},
          "execution_count": 95
        }
      ]
    },
    {
      "cell_type": "code",
      "source": [
        "dummies = pd.get_dummies(df8.location)\n",
        "dummies.head(3)"
      ],
      "metadata": {
        "colab": {
          "base_uri": "https://localhost:8080/",
          "height": 289
        },
        "id": "YsuAsm1jRYBj",
        "outputId": "c8cb6181-abcd-46fc-9eae-a787529d4636"
      },
      "execution_count": null,
      "outputs": [
        {
          "output_type": "execute_result",
          "data": {
            "text/plain": [
              "   1st Block Jayanagar  1st Phase JP Nagar  2nd Phase Judicial Layout  \\\n",
              "0                    1                   0                          0   \n",
              "1                    1                   0                          0   \n",
              "2                    1                   0                          0   \n",
              "\n",
              "   2nd Stage Nagarbhavi  5th Block Hbr Layout  5th Phase JP Nagar  \\\n",
              "0                     0                     0                   0   \n",
              "1                     0                     0                   0   \n",
              "2                     0                     0                   0   \n",
              "\n",
              "   6th Phase JP Nagar  7th Phase JP Nagar  8th Phase JP Nagar  \\\n",
              "0                   0                   0                   0   \n",
              "1                   0                   0                   0   \n",
              "2                   0                   0                   0   \n",
              "\n",
              "   9th Phase JP Nagar  ...  Vishveshwarya Layout  Vishwapriya Layout  \\\n",
              "0                   0  ...                     0                   0   \n",
              "1                   0  ...                     0                   0   \n",
              "2                   0  ...                     0                   0   \n",
              "\n",
              "   Vittasandra  Whitefield  Yelachenahalli  Yelahanka  Yelahanka New Town  \\\n",
              "0            0           0               0          0                   0   \n",
              "1            0           0               0          0                   0   \n",
              "2            0           0               0          0                   0   \n",
              "\n",
              "   Yelenahalli  Yeshwanthpur  other  \n",
              "0            0             0      0  \n",
              "1            0             0      0  \n",
              "2            0             0      0  \n",
              "\n",
              "[3 rows x 242 columns]"
            ],
            "text/html": [
              "\n",
              "  <div id=\"df-f59d78e1-8bf6-462e-b149-801c49aba781\">\n",
              "    <div class=\"colab-df-container\">\n",
              "      <div>\n",
              "<style scoped>\n",
              "    .dataframe tbody tr th:only-of-type {\n",
              "        vertical-align: middle;\n",
              "    }\n",
              "\n",
              "    .dataframe tbody tr th {\n",
              "        vertical-align: top;\n",
              "    }\n",
              "\n",
              "    .dataframe thead th {\n",
              "        text-align: right;\n",
              "    }\n",
              "</style>\n",
              "<table border=\"1\" class=\"dataframe\">\n",
              "  <thead>\n",
              "    <tr style=\"text-align: right;\">\n",
              "      <th></th>\n",
              "      <th>1st Block Jayanagar</th>\n",
              "      <th>1st Phase JP Nagar</th>\n",
              "      <th>2nd Phase Judicial Layout</th>\n",
              "      <th>2nd Stage Nagarbhavi</th>\n",
              "      <th>5th Block Hbr Layout</th>\n",
              "      <th>5th Phase JP Nagar</th>\n",
              "      <th>6th Phase JP Nagar</th>\n",
              "      <th>7th Phase JP Nagar</th>\n",
              "      <th>8th Phase JP Nagar</th>\n",
              "      <th>9th Phase JP Nagar</th>\n",
              "      <th>...</th>\n",
              "      <th>Vishveshwarya Layout</th>\n",
              "      <th>Vishwapriya Layout</th>\n",
              "      <th>Vittasandra</th>\n",
              "      <th>Whitefield</th>\n",
              "      <th>Yelachenahalli</th>\n",
              "      <th>Yelahanka</th>\n",
              "      <th>Yelahanka New Town</th>\n",
              "      <th>Yelenahalli</th>\n",
              "      <th>Yeshwanthpur</th>\n",
              "      <th>other</th>\n",
              "    </tr>\n",
              "  </thead>\n",
              "  <tbody>\n",
              "    <tr>\n",
              "      <th>0</th>\n",
              "      <td>1</td>\n",
              "      <td>0</td>\n",
              "      <td>0</td>\n",
              "      <td>0</td>\n",
              "      <td>0</td>\n",
              "      <td>0</td>\n",
              "      <td>0</td>\n",
              "      <td>0</td>\n",
              "      <td>0</td>\n",
              "      <td>0</td>\n",
              "      <td>...</td>\n",
              "      <td>0</td>\n",
              "      <td>0</td>\n",
              "      <td>0</td>\n",
              "      <td>0</td>\n",
              "      <td>0</td>\n",
              "      <td>0</td>\n",
              "      <td>0</td>\n",
              "      <td>0</td>\n",
              "      <td>0</td>\n",
              "      <td>0</td>\n",
              "    </tr>\n",
              "    <tr>\n",
              "      <th>1</th>\n",
              "      <td>1</td>\n",
              "      <td>0</td>\n",
              "      <td>0</td>\n",
              "      <td>0</td>\n",
              "      <td>0</td>\n",
              "      <td>0</td>\n",
              "      <td>0</td>\n",
              "      <td>0</td>\n",
              "      <td>0</td>\n",
              "      <td>0</td>\n",
              "      <td>...</td>\n",
              "      <td>0</td>\n",
              "      <td>0</td>\n",
              "      <td>0</td>\n",
              "      <td>0</td>\n",
              "      <td>0</td>\n",
              "      <td>0</td>\n",
              "      <td>0</td>\n",
              "      <td>0</td>\n",
              "      <td>0</td>\n",
              "      <td>0</td>\n",
              "    </tr>\n",
              "    <tr>\n",
              "      <th>2</th>\n",
              "      <td>1</td>\n",
              "      <td>0</td>\n",
              "      <td>0</td>\n",
              "      <td>0</td>\n",
              "      <td>0</td>\n",
              "      <td>0</td>\n",
              "      <td>0</td>\n",
              "      <td>0</td>\n",
              "      <td>0</td>\n",
              "      <td>0</td>\n",
              "      <td>...</td>\n",
              "      <td>0</td>\n",
              "      <td>0</td>\n",
              "      <td>0</td>\n",
              "      <td>0</td>\n",
              "      <td>0</td>\n",
              "      <td>0</td>\n",
              "      <td>0</td>\n",
              "      <td>0</td>\n",
              "      <td>0</td>\n",
              "      <td>0</td>\n",
              "    </tr>\n",
              "  </tbody>\n",
              "</table>\n",
              "<p>3 rows × 242 columns</p>\n",
              "</div>\n",
              "      <button class=\"colab-df-convert\" onclick=\"convertToInteractive('df-f59d78e1-8bf6-462e-b149-801c49aba781')\"\n",
              "              title=\"Convert this dataframe to an interactive table.\"\n",
              "              style=\"display:none;\">\n",
              "        \n",
              "  <svg xmlns=\"http://www.w3.org/2000/svg\" height=\"24px\"viewBox=\"0 0 24 24\"\n",
              "       width=\"24px\">\n",
              "    <path d=\"M0 0h24v24H0V0z\" fill=\"none\"/>\n",
              "    <path d=\"M18.56 5.44l.94 2.06.94-2.06 2.06-.94-2.06-.94-.94-2.06-.94 2.06-2.06.94zm-11 1L8.5 8.5l.94-2.06 2.06-.94-2.06-.94L8.5 2.5l-.94 2.06-2.06.94zm10 10l.94 2.06.94-2.06 2.06-.94-2.06-.94-.94-2.06-.94 2.06-2.06.94z\"/><path d=\"M17.41 7.96l-1.37-1.37c-.4-.4-.92-.59-1.43-.59-.52 0-1.04.2-1.43.59L10.3 9.45l-7.72 7.72c-.78.78-.78 2.05 0 2.83L4 21.41c.39.39.9.59 1.41.59.51 0 1.02-.2 1.41-.59l7.78-7.78 2.81-2.81c.8-.78.8-2.07 0-2.86zM5.41 20L4 18.59l7.72-7.72 1.47 1.35L5.41 20z\"/>\n",
              "  </svg>\n",
              "      </button>\n",
              "      \n",
              "  <style>\n",
              "    .colab-df-container {\n",
              "      display:flex;\n",
              "      flex-wrap:wrap;\n",
              "      gap: 12px;\n",
              "    }\n",
              "\n",
              "    .colab-df-convert {\n",
              "      background-color: #E8F0FE;\n",
              "      border: none;\n",
              "      border-radius: 50%;\n",
              "      cursor: pointer;\n",
              "      display: none;\n",
              "      fill: #1967D2;\n",
              "      height: 32px;\n",
              "      padding: 0 0 0 0;\n",
              "      width: 32px;\n",
              "    }\n",
              "\n",
              "    .colab-df-convert:hover {\n",
              "      background-color: #E2EBFA;\n",
              "      box-shadow: 0px 1px 2px rgba(60, 64, 67, 0.3), 0px 1px 3px 1px rgba(60, 64, 67, 0.15);\n",
              "      fill: #174EA6;\n",
              "    }\n",
              "\n",
              "    [theme=dark] .colab-df-convert {\n",
              "      background-color: #3B4455;\n",
              "      fill: #D2E3FC;\n",
              "    }\n",
              "\n",
              "    [theme=dark] .colab-df-convert:hover {\n",
              "      background-color: #434B5C;\n",
              "      box-shadow: 0px 1px 3px 1px rgba(0, 0, 0, 0.15);\n",
              "      filter: drop-shadow(0px 1px 2px rgba(0, 0, 0, 0.3));\n",
              "      fill: #FFFFFF;\n",
              "    }\n",
              "  </style>\n",
              "\n",
              "      <script>\n",
              "        const buttonEl =\n",
              "          document.querySelector('#df-f59d78e1-8bf6-462e-b149-801c49aba781 button.colab-df-convert');\n",
              "        buttonEl.style.display =\n",
              "          google.colab.kernel.accessAllowed ? 'block' : 'none';\n",
              "\n",
              "        async function convertToInteractive(key) {\n",
              "          const element = document.querySelector('#df-f59d78e1-8bf6-462e-b149-801c49aba781');\n",
              "          const dataTable =\n",
              "            await google.colab.kernel.invokeFunction('convertToInteractive',\n",
              "                                                     [key], {});\n",
              "          if (!dataTable) return;\n",
              "\n",
              "          const docLinkHtml = 'Like what you see? Visit the ' +\n",
              "            '<a target=\"_blank\" href=https://colab.research.google.com/notebooks/data_table.ipynb>data table notebook</a>'\n",
              "            + ' to learn more about interactive tables.';\n",
              "          element.innerHTML = '';\n",
              "          dataTable['output_type'] = 'display_data';\n",
              "          await google.colab.output.renderOutput(dataTable, element);\n",
              "          const docLink = document.createElement('div');\n",
              "          docLink.innerHTML = docLinkHtml;\n",
              "          element.appendChild(docLink);\n",
              "        }\n",
              "      </script>\n",
              "    </div>\n",
              "  </div>\n",
              "  "
            ]
          },
          "metadata": {},
          "execution_count": 96
        }
      ]
    },
    {
      "cell_type": "code",
      "source": [
        "df9 = pd.concat([df8,dummies.drop('other',axis=1)],axis=1)\n",
        "df9.head()"
      ],
      "metadata": {
        "colab": {
          "base_uri": "https://localhost:8080/",
          "height": 438
        },
        "id": "N74KNIg5RyPE",
        "outputId": "2780bed9-62b3-4548-df37-d53769642bf2"
      },
      "execution_count": null,
      "outputs": [
        {
          "output_type": "execute_result",
          "data": {
            "text/plain": [
              "              location  total_sqft  bath  price  BHK  1st Block Jayanagar  \\\n",
              "0  1st Block Jayanagar      2850.0   4.0  428.0    4                    1   \n",
              "1  1st Block Jayanagar      1630.0   3.0  194.0    3                    1   \n",
              "2  1st Block Jayanagar      1875.0   2.0  235.0    3                    1   \n",
              "3  1st Block Jayanagar      1200.0   2.0  130.0    3                    1   \n",
              "4  1st Block Jayanagar      1235.0   2.0  148.0    2                    1   \n",
              "\n",
              "   1st Phase JP Nagar  2nd Phase Judicial Layout  2nd Stage Nagarbhavi  \\\n",
              "0                   0                          0                     0   \n",
              "1                   0                          0                     0   \n",
              "2                   0                          0                     0   \n",
              "3                   0                          0                     0   \n",
              "4                   0                          0                     0   \n",
              "\n",
              "   5th Block Hbr Layout  ...  Vijayanagar  Vishveshwarya Layout  \\\n",
              "0                     0  ...            0                     0   \n",
              "1                     0  ...            0                     0   \n",
              "2                     0  ...            0                     0   \n",
              "3                     0  ...            0                     0   \n",
              "4                     0  ...            0                     0   \n",
              "\n",
              "   Vishwapriya Layout  Vittasandra  Whitefield  Yelachenahalli  Yelahanka  \\\n",
              "0                   0            0           0               0          0   \n",
              "1                   0            0           0               0          0   \n",
              "2                   0            0           0               0          0   \n",
              "3                   0            0           0               0          0   \n",
              "4                   0            0           0               0          0   \n",
              "\n",
              "   Yelahanka New Town  Yelenahalli  Yeshwanthpur  \n",
              "0                   0            0             0  \n",
              "1                   0            0             0  \n",
              "2                   0            0             0  \n",
              "3                   0            0             0  \n",
              "4                   0            0             0  \n",
              "\n",
              "[5 rows x 246 columns]"
            ],
            "text/html": [
              "\n",
              "  <div id=\"df-e1505233-b08e-4b97-b986-2bbbbb007781\">\n",
              "    <div class=\"colab-df-container\">\n",
              "      <div>\n",
              "<style scoped>\n",
              "    .dataframe tbody tr th:only-of-type {\n",
              "        vertical-align: middle;\n",
              "    }\n",
              "\n",
              "    .dataframe tbody tr th {\n",
              "        vertical-align: top;\n",
              "    }\n",
              "\n",
              "    .dataframe thead th {\n",
              "        text-align: right;\n",
              "    }\n",
              "</style>\n",
              "<table border=\"1\" class=\"dataframe\">\n",
              "  <thead>\n",
              "    <tr style=\"text-align: right;\">\n",
              "      <th></th>\n",
              "      <th>location</th>\n",
              "      <th>total_sqft</th>\n",
              "      <th>bath</th>\n",
              "      <th>price</th>\n",
              "      <th>BHK</th>\n",
              "      <th>1st Block Jayanagar</th>\n",
              "      <th>1st Phase JP Nagar</th>\n",
              "      <th>2nd Phase Judicial Layout</th>\n",
              "      <th>2nd Stage Nagarbhavi</th>\n",
              "      <th>5th Block Hbr Layout</th>\n",
              "      <th>...</th>\n",
              "      <th>Vijayanagar</th>\n",
              "      <th>Vishveshwarya Layout</th>\n",
              "      <th>Vishwapriya Layout</th>\n",
              "      <th>Vittasandra</th>\n",
              "      <th>Whitefield</th>\n",
              "      <th>Yelachenahalli</th>\n",
              "      <th>Yelahanka</th>\n",
              "      <th>Yelahanka New Town</th>\n",
              "      <th>Yelenahalli</th>\n",
              "      <th>Yeshwanthpur</th>\n",
              "    </tr>\n",
              "  </thead>\n",
              "  <tbody>\n",
              "    <tr>\n",
              "      <th>0</th>\n",
              "      <td>1st Block Jayanagar</td>\n",
              "      <td>2850.0</td>\n",
              "      <td>4.0</td>\n",
              "      <td>428.0</td>\n",
              "      <td>4</td>\n",
              "      <td>1</td>\n",
              "      <td>0</td>\n",
              "      <td>0</td>\n",
              "      <td>0</td>\n",
              "      <td>0</td>\n",
              "      <td>...</td>\n",
              "      <td>0</td>\n",
              "      <td>0</td>\n",
              "      <td>0</td>\n",
              "      <td>0</td>\n",
              "      <td>0</td>\n",
              "      <td>0</td>\n",
              "      <td>0</td>\n",
              "      <td>0</td>\n",
              "      <td>0</td>\n",
              "      <td>0</td>\n",
              "    </tr>\n",
              "    <tr>\n",
              "      <th>1</th>\n",
              "      <td>1st Block Jayanagar</td>\n",
              "      <td>1630.0</td>\n",
              "      <td>3.0</td>\n",
              "      <td>194.0</td>\n",
              "      <td>3</td>\n",
              "      <td>1</td>\n",
              "      <td>0</td>\n",
              "      <td>0</td>\n",
              "      <td>0</td>\n",
              "      <td>0</td>\n",
              "      <td>...</td>\n",
              "      <td>0</td>\n",
              "      <td>0</td>\n",
              "      <td>0</td>\n",
              "      <td>0</td>\n",
              "      <td>0</td>\n",
              "      <td>0</td>\n",
              "      <td>0</td>\n",
              "      <td>0</td>\n",
              "      <td>0</td>\n",
              "      <td>0</td>\n",
              "    </tr>\n",
              "    <tr>\n",
              "      <th>2</th>\n",
              "      <td>1st Block Jayanagar</td>\n",
              "      <td>1875.0</td>\n",
              "      <td>2.0</td>\n",
              "      <td>235.0</td>\n",
              "      <td>3</td>\n",
              "      <td>1</td>\n",
              "      <td>0</td>\n",
              "      <td>0</td>\n",
              "      <td>0</td>\n",
              "      <td>0</td>\n",
              "      <td>...</td>\n",
              "      <td>0</td>\n",
              "      <td>0</td>\n",
              "      <td>0</td>\n",
              "      <td>0</td>\n",
              "      <td>0</td>\n",
              "      <td>0</td>\n",
              "      <td>0</td>\n",
              "      <td>0</td>\n",
              "      <td>0</td>\n",
              "      <td>0</td>\n",
              "    </tr>\n",
              "    <tr>\n",
              "      <th>3</th>\n",
              "      <td>1st Block Jayanagar</td>\n",
              "      <td>1200.0</td>\n",
              "      <td>2.0</td>\n",
              "      <td>130.0</td>\n",
              "      <td>3</td>\n",
              "      <td>1</td>\n",
              "      <td>0</td>\n",
              "      <td>0</td>\n",
              "      <td>0</td>\n",
              "      <td>0</td>\n",
              "      <td>...</td>\n",
              "      <td>0</td>\n",
              "      <td>0</td>\n",
              "      <td>0</td>\n",
              "      <td>0</td>\n",
              "      <td>0</td>\n",
              "      <td>0</td>\n",
              "      <td>0</td>\n",
              "      <td>0</td>\n",
              "      <td>0</td>\n",
              "      <td>0</td>\n",
              "    </tr>\n",
              "    <tr>\n",
              "      <th>4</th>\n",
              "      <td>1st Block Jayanagar</td>\n",
              "      <td>1235.0</td>\n",
              "      <td>2.0</td>\n",
              "      <td>148.0</td>\n",
              "      <td>2</td>\n",
              "      <td>1</td>\n",
              "      <td>0</td>\n",
              "      <td>0</td>\n",
              "      <td>0</td>\n",
              "      <td>0</td>\n",
              "      <td>...</td>\n",
              "      <td>0</td>\n",
              "      <td>0</td>\n",
              "      <td>0</td>\n",
              "      <td>0</td>\n",
              "      <td>0</td>\n",
              "      <td>0</td>\n",
              "      <td>0</td>\n",
              "      <td>0</td>\n",
              "      <td>0</td>\n",
              "      <td>0</td>\n",
              "    </tr>\n",
              "  </tbody>\n",
              "</table>\n",
              "<p>5 rows × 246 columns</p>\n",
              "</div>\n",
              "      <button class=\"colab-df-convert\" onclick=\"convertToInteractive('df-e1505233-b08e-4b97-b986-2bbbbb007781')\"\n",
              "              title=\"Convert this dataframe to an interactive table.\"\n",
              "              style=\"display:none;\">\n",
              "        \n",
              "  <svg xmlns=\"http://www.w3.org/2000/svg\" height=\"24px\"viewBox=\"0 0 24 24\"\n",
              "       width=\"24px\">\n",
              "    <path d=\"M0 0h24v24H0V0z\" fill=\"none\"/>\n",
              "    <path d=\"M18.56 5.44l.94 2.06.94-2.06 2.06-.94-2.06-.94-.94-2.06-.94 2.06-2.06.94zm-11 1L8.5 8.5l.94-2.06 2.06-.94-2.06-.94L8.5 2.5l-.94 2.06-2.06.94zm10 10l.94 2.06.94-2.06 2.06-.94-2.06-.94-.94-2.06-.94 2.06-2.06.94z\"/><path d=\"M17.41 7.96l-1.37-1.37c-.4-.4-.92-.59-1.43-.59-.52 0-1.04.2-1.43.59L10.3 9.45l-7.72 7.72c-.78.78-.78 2.05 0 2.83L4 21.41c.39.39.9.59 1.41.59.51 0 1.02-.2 1.41-.59l7.78-7.78 2.81-2.81c.8-.78.8-2.07 0-2.86zM5.41 20L4 18.59l7.72-7.72 1.47 1.35L5.41 20z\"/>\n",
              "  </svg>\n",
              "      </button>\n",
              "      \n",
              "  <style>\n",
              "    .colab-df-container {\n",
              "      display:flex;\n",
              "      flex-wrap:wrap;\n",
              "      gap: 12px;\n",
              "    }\n",
              "\n",
              "    .colab-df-convert {\n",
              "      background-color: #E8F0FE;\n",
              "      border: none;\n",
              "      border-radius: 50%;\n",
              "      cursor: pointer;\n",
              "      display: none;\n",
              "      fill: #1967D2;\n",
              "      height: 32px;\n",
              "      padding: 0 0 0 0;\n",
              "      width: 32px;\n",
              "    }\n",
              "\n",
              "    .colab-df-convert:hover {\n",
              "      background-color: #E2EBFA;\n",
              "      box-shadow: 0px 1px 2px rgba(60, 64, 67, 0.3), 0px 1px 3px 1px rgba(60, 64, 67, 0.15);\n",
              "      fill: #174EA6;\n",
              "    }\n",
              "\n",
              "    [theme=dark] .colab-df-convert {\n",
              "      background-color: #3B4455;\n",
              "      fill: #D2E3FC;\n",
              "    }\n",
              "\n",
              "    [theme=dark] .colab-df-convert:hover {\n",
              "      background-color: #434B5C;\n",
              "      box-shadow: 0px 1px 3px 1px rgba(0, 0, 0, 0.15);\n",
              "      filter: drop-shadow(0px 1px 2px rgba(0, 0, 0, 0.3));\n",
              "      fill: #FFFFFF;\n",
              "    }\n",
              "  </style>\n",
              "\n",
              "      <script>\n",
              "        const buttonEl =\n",
              "          document.querySelector('#df-e1505233-b08e-4b97-b986-2bbbbb007781 button.colab-df-convert');\n",
              "        buttonEl.style.display =\n",
              "          google.colab.kernel.accessAllowed ? 'block' : 'none';\n",
              "\n",
              "        async function convertToInteractive(key) {\n",
              "          const element = document.querySelector('#df-e1505233-b08e-4b97-b986-2bbbbb007781');\n",
              "          const dataTable =\n",
              "            await google.colab.kernel.invokeFunction('convertToInteractive',\n",
              "                                                     [key], {});\n",
              "          if (!dataTable) return;\n",
              "\n",
              "          const docLinkHtml = 'Like what you see? Visit the ' +\n",
              "            '<a target=\"_blank\" href=https://colab.research.google.com/notebooks/data_table.ipynb>data table notebook</a>'\n",
              "            + ' to learn more about interactive tables.';\n",
              "          element.innerHTML = '';\n",
              "          dataTable['output_type'] = 'display_data';\n",
              "          await google.colab.output.renderOutput(dataTable, element);\n",
              "          const docLink = document.createElement('div');\n",
              "          docLink.innerHTML = docLinkHtml;\n",
              "          element.appendChild(docLink);\n",
              "        }\n",
              "      </script>\n",
              "    </div>\n",
              "  </div>\n",
              "  "
            ]
          },
          "metadata": {},
          "execution_count": 97
        }
      ]
    },
    {
      "cell_type": "code",
      "source": [
        "df10 = df9.drop('location',axis=1)\n",
        "df10.head(2)"
      ],
      "metadata": {
        "colab": {
          "base_uri": "https://localhost:8080/",
          "height": 258
        },
        "id": "EL-sCt4wR_59",
        "outputId": "38868e1f-1483-470d-8773-6a15d6648877"
      },
      "execution_count": null,
      "outputs": [
        {
          "output_type": "execute_result",
          "data": {
            "text/plain": [
              "   total_sqft  bath  price  BHK  1st Block Jayanagar  1st Phase JP Nagar  \\\n",
              "0      2850.0   4.0  428.0    4                    1                   0   \n",
              "1      1630.0   3.0  194.0    3                    1                   0   \n",
              "\n",
              "   2nd Phase Judicial Layout  2nd Stage Nagarbhavi  5th Block Hbr Layout  \\\n",
              "0                          0                     0                     0   \n",
              "1                          0                     0                     0   \n",
              "\n",
              "   5th Phase JP Nagar  ...  Vijayanagar  Vishveshwarya Layout  \\\n",
              "0                   0  ...            0                     0   \n",
              "1                   0  ...            0                     0   \n",
              "\n",
              "   Vishwapriya Layout  Vittasandra  Whitefield  Yelachenahalli  Yelahanka  \\\n",
              "0                   0            0           0               0          0   \n",
              "1                   0            0           0               0          0   \n",
              "\n",
              "   Yelahanka New Town  Yelenahalli  Yeshwanthpur  \n",
              "0                   0            0             0  \n",
              "1                   0            0             0  \n",
              "\n",
              "[2 rows x 245 columns]"
            ],
            "text/html": [
              "\n",
              "  <div id=\"df-52793314-7cf8-4e10-8a95-6da382d2d65a\">\n",
              "    <div class=\"colab-df-container\">\n",
              "      <div>\n",
              "<style scoped>\n",
              "    .dataframe tbody tr th:only-of-type {\n",
              "        vertical-align: middle;\n",
              "    }\n",
              "\n",
              "    .dataframe tbody tr th {\n",
              "        vertical-align: top;\n",
              "    }\n",
              "\n",
              "    .dataframe thead th {\n",
              "        text-align: right;\n",
              "    }\n",
              "</style>\n",
              "<table border=\"1\" class=\"dataframe\">\n",
              "  <thead>\n",
              "    <tr style=\"text-align: right;\">\n",
              "      <th></th>\n",
              "      <th>total_sqft</th>\n",
              "      <th>bath</th>\n",
              "      <th>price</th>\n",
              "      <th>BHK</th>\n",
              "      <th>1st Block Jayanagar</th>\n",
              "      <th>1st Phase JP Nagar</th>\n",
              "      <th>2nd Phase Judicial Layout</th>\n",
              "      <th>2nd Stage Nagarbhavi</th>\n",
              "      <th>5th Block Hbr Layout</th>\n",
              "      <th>5th Phase JP Nagar</th>\n",
              "      <th>...</th>\n",
              "      <th>Vijayanagar</th>\n",
              "      <th>Vishveshwarya Layout</th>\n",
              "      <th>Vishwapriya Layout</th>\n",
              "      <th>Vittasandra</th>\n",
              "      <th>Whitefield</th>\n",
              "      <th>Yelachenahalli</th>\n",
              "      <th>Yelahanka</th>\n",
              "      <th>Yelahanka New Town</th>\n",
              "      <th>Yelenahalli</th>\n",
              "      <th>Yeshwanthpur</th>\n",
              "    </tr>\n",
              "  </thead>\n",
              "  <tbody>\n",
              "    <tr>\n",
              "      <th>0</th>\n",
              "      <td>2850.0</td>\n",
              "      <td>4.0</td>\n",
              "      <td>428.0</td>\n",
              "      <td>4</td>\n",
              "      <td>1</td>\n",
              "      <td>0</td>\n",
              "      <td>0</td>\n",
              "      <td>0</td>\n",
              "      <td>0</td>\n",
              "      <td>0</td>\n",
              "      <td>...</td>\n",
              "      <td>0</td>\n",
              "      <td>0</td>\n",
              "      <td>0</td>\n",
              "      <td>0</td>\n",
              "      <td>0</td>\n",
              "      <td>0</td>\n",
              "      <td>0</td>\n",
              "      <td>0</td>\n",
              "      <td>0</td>\n",
              "      <td>0</td>\n",
              "    </tr>\n",
              "    <tr>\n",
              "      <th>1</th>\n",
              "      <td>1630.0</td>\n",
              "      <td>3.0</td>\n",
              "      <td>194.0</td>\n",
              "      <td>3</td>\n",
              "      <td>1</td>\n",
              "      <td>0</td>\n",
              "      <td>0</td>\n",
              "      <td>0</td>\n",
              "      <td>0</td>\n",
              "      <td>0</td>\n",
              "      <td>...</td>\n",
              "      <td>0</td>\n",
              "      <td>0</td>\n",
              "      <td>0</td>\n",
              "      <td>0</td>\n",
              "      <td>0</td>\n",
              "      <td>0</td>\n",
              "      <td>0</td>\n",
              "      <td>0</td>\n",
              "      <td>0</td>\n",
              "      <td>0</td>\n",
              "    </tr>\n",
              "  </tbody>\n",
              "</table>\n",
              "<p>2 rows × 245 columns</p>\n",
              "</div>\n",
              "      <button class=\"colab-df-convert\" onclick=\"convertToInteractive('df-52793314-7cf8-4e10-8a95-6da382d2d65a')\"\n",
              "              title=\"Convert this dataframe to an interactive table.\"\n",
              "              style=\"display:none;\">\n",
              "        \n",
              "  <svg xmlns=\"http://www.w3.org/2000/svg\" height=\"24px\"viewBox=\"0 0 24 24\"\n",
              "       width=\"24px\">\n",
              "    <path d=\"M0 0h24v24H0V0z\" fill=\"none\"/>\n",
              "    <path d=\"M18.56 5.44l.94 2.06.94-2.06 2.06-.94-2.06-.94-.94-2.06-.94 2.06-2.06.94zm-11 1L8.5 8.5l.94-2.06 2.06-.94-2.06-.94L8.5 2.5l-.94 2.06-2.06.94zm10 10l.94 2.06.94-2.06 2.06-.94-2.06-.94-.94-2.06-.94 2.06-2.06.94z\"/><path d=\"M17.41 7.96l-1.37-1.37c-.4-.4-.92-.59-1.43-.59-.52 0-1.04.2-1.43.59L10.3 9.45l-7.72 7.72c-.78.78-.78 2.05 0 2.83L4 21.41c.39.39.9.59 1.41.59.51 0 1.02-.2 1.41-.59l7.78-7.78 2.81-2.81c.8-.78.8-2.07 0-2.86zM5.41 20L4 18.59l7.72-7.72 1.47 1.35L5.41 20z\"/>\n",
              "  </svg>\n",
              "      </button>\n",
              "      \n",
              "  <style>\n",
              "    .colab-df-container {\n",
              "      display:flex;\n",
              "      flex-wrap:wrap;\n",
              "      gap: 12px;\n",
              "    }\n",
              "\n",
              "    .colab-df-convert {\n",
              "      background-color: #E8F0FE;\n",
              "      border: none;\n",
              "      border-radius: 50%;\n",
              "      cursor: pointer;\n",
              "      display: none;\n",
              "      fill: #1967D2;\n",
              "      height: 32px;\n",
              "      padding: 0 0 0 0;\n",
              "      width: 32px;\n",
              "    }\n",
              "\n",
              "    .colab-df-convert:hover {\n",
              "      background-color: #E2EBFA;\n",
              "      box-shadow: 0px 1px 2px rgba(60, 64, 67, 0.3), 0px 1px 3px 1px rgba(60, 64, 67, 0.15);\n",
              "      fill: #174EA6;\n",
              "    }\n",
              "\n",
              "    [theme=dark] .colab-df-convert {\n",
              "      background-color: #3B4455;\n",
              "      fill: #D2E3FC;\n",
              "    }\n",
              "\n",
              "    [theme=dark] .colab-df-convert:hover {\n",
              "      background-color: #434B5C;\n",
              "      box-shadow: 0px 1px 3px 1px rgba(0, 0, 0, 0.15);\n",
              "      filter: drop-shadow(0px 1px 2px rgba(0, 0, 0, 0.3));\n",
              "      fill: #FFFFFF;\n",
              "    }\n",
              "  </style>\n",
              "\n",
              "      <script>\n",
              "        const buttonEl =\n",
              "          document.querySelector('#df-52793314-7cf8-4e10-8a95-6da382d2d65a button.colab-df-convert');\n",
              "        buttonEl.style.display =\n",
              "          google.colab.kernel.accessAllowed ? 'block' : 'none';\n",
              "\n",
              "        async function convertToInteractive(key) {\n",
              "          const element = document.querySelector('#df-52793314-7cf8-4e10-8a95-6da382d2d65a');\n",
              "          const dataTable =\n",
              "            await google.colab.kernel.invokeFunction('convertToInteractive',\n",
              "                                                     [key], {});\n",
              "          if (!dataTable) return;\n",
              "\n",
              "          const docLinkHtml = 'Like what you see? Visit the ' +\n",
              "            '<a target=\"_blank\" href=https://colab.research.google.com/notebooks/data_table.ipynb>data table notebook</a>'\n",
              "            + ' to learn more about interactive tables.';\n",
              "          element.innerHTML = '';\n",
              "          dataTable['output_type'] = 'display_data';\n",
              "          await google.colab.output.renderOutput(dataTable, element);\n",
              "          const docLink = document.createElement('div');\n",
              "          docLink.innerHTML = docLinkHtml;\n",
              "          element.appendChild(docLink);\n",
              "        }\n",
              "      </script>\n",
              "    </div>\n",
              "  </div>\n",
              "  "
            ]
          },
          "metadata": {},
          "execution_count": 98
        }
      ]
    },
    {
      "cell_type": "code",
      "source": [
        "X = df10.drop(['price'],axis=1)\n",
        "X.head(3)"
      ],
      "metadata": {
        "colab": {
          "base_uri": "https://localhost:8080/",
          "height": 289
        },
        "id": "mHYaZyBZSHBq",
        "outputId": "7ac4ef20-58c1-47c1-d733-23f6a19476a9"
      },
      "execution_count": null,
      "outputs": [
        {
          "output_type": "execute_result",
          "data": {
            "text/plain": [
              "   total_sqft  bath  BHK  1st Block Jayanagar  1st Phase JP Nagar  \\\n",
              "0      2850.0   4.0    4                    1                   0   \n",
              "1      1630.0   3.0    3                    1                   0   \n",
              "2      1875.0   2.0    3                    1                   0   \n",
              "\n",
              "   2nd Phase Judicial Layout  2nd Stage Nagarbhavi  5th Block Hbr Layout  \\\n",
              "0                          0                     0                     0   \n",
              "1                          0                     0                     0   \n",
              "2                          0                     0                     0   \n",
              "\n",
              "   5th Phase JP Nagar  6th Phase JP Nagar  ...  Vijayanagar  \\\n",
              "0                   0                   0  ...            0   \n",
              "1                   0                   0  ...            0   \n",
              "2                   0                   0  ...            0   \n",
              "\n",
              "   Vishveshwarya Layout  Vishwapriya Layout  Vittasandra  Whitefield  \\\n",
              "0                     0                   0            0           0   \n",
              "1                     0                   0            0           0   \n",
              "2                     0                   0            0           0   \n",
              "\n",
              "   Yelachenahalli  Yelahanka  Yelahanka New Town  Yelenahalli  Yeshwanthpur  \n",
              "0               0          0                   0            0             0  \n",
              "1               0          0                   0            0             0  \n",
              "2               0          0                   0            0             0  \n",
              "\n",
              "[3 rows x 244 columns]"
            ],
            "text/html": [
              "\n",
              "  <div id=\"df-4ece7b17-47ec-49f2-95ad-d5a63478f8ef\">\n",
              "    <div class=\"colab-df-container\">\n",
              "      <div>\n",
              "<style scoped>\n",
              "    .dataframe tbody tr th:only-of-type {\n",
              "        vertical-align: middle;\n",
              "    }\n",
              "\n",
              "    .dataframe tbody tr th {\n",
              "        vertical-align: top;\n",
              "    }\n",
              "\n",
              "    .dataframe thead th {\n",
              "        text-align: right;\n",
              "    }\n",
              "</style>\n",
              "<table border=\"1\" class=\"dataframe\">\n",
              "  <thead>\n",
              "    <tr style=\"text-align: right;\">\n",
              "      <th></th>\n",
              "      <th>total_sqft</th>\n",
              "      <th>bath</th>\n",
              "      <th>BHK</th>\n",
              "      <th>1st Block Jayanagar</th>\n",
              "      <th>1st Phase JP Nagar</th>\n",
              "      <th>2nd Phase Judicial Layout</th>\n",
              "      <th>2nd Stage Nagarbhavi</th>\n",
              "      <th>5th Block Hbr Layout</th>\n",
              "      <th>5th Phase JP Nagar</th>\n",
              "      <th>6th Phase JP Nagar</th>\n",
              "      <th>...</th>\n",
              "      <th>Vijayanagar</th>\n",
              "      <th>Vishveshwarya Layout</th>\n",
              "      <th>Vishwapriya Layout</th>\n",
              "      <th>Vittasandra</th>\n",
              "      <th>Whitefield</th>\n",
              "      <th>Yelachenahalli</th>\n",
              "      <th>Yelahanka</th>\n",
              "      <th>Yelahanka New Town</th>\n",
              "      <th>Yelenahalli</th>\n",
              "      <th>Yeshwanthpur</th>\n",
              "    </tr>\n",
              "  </thead>\n",
              "  <tbody>\n",
              "    <tr>\n",
              "      <th>0</th>\n",
              "      <td>2850.0</td>\n",
              "      <td>4.0</td>\n",
              "      <td>4</td>\n",
              "      <td>1</td>\n",
              "      <td>0</td>\n",
              "      <td>0</td>\n",
              "      <td>0</td>\n",
              "      <td>0</td>\n",
              "      <td>0</td>\n",
              "      <td>0</td>\n",
              "      <td>...</td>\n",
              "      <td>0</td>\n",
              "      <td>0</td>\n",
              "      <td>0</td>\n",
              "      <td>0</td>\n",
              "      <td>0</td>\n",
              "      <td>0</td>\n",
              "      <td>0</td>\n",
              "      <td>0</td>\n",
              "      <td>0</td>\n",
              "      <td>0</td>\n",
              "    </tr>\n",
              "    <tr>\n",
              "      <th>1</th>\n",
              "      <td>1630.0</td>\n",
              "      <td>3.0</td>\n",
              "      <td>3</td>\n",
              "      <td>1</td>\n",
              "      <td>0</td>\n",
              "      <td>0</td>\n",
              "      <td>0</td>\n",
              "      <td>0</td>\n",
              "      <td>0</td>\n",
              "      <td>0</td>\n",
              "      <td>...</td>\n",
              "      <td>0</td>\n",
              "      <td>0</td>\n",
              "      <td>0</td>\n",
              "      <td>0</td>\n",
              "      <td>0</td>\n",
              "      <td>0</td>\n",
              "      <td>0</td>\n",
              "      <td>0</td>\n",
              "      <td>0</td>\n",
              "      <td>0</td>\n",
              "    </tr>\n",
              "    <tr>\n",
              "      <th>2</th>\n",
              "      <td>1875.0</td>\n",
              "      <td>2.0</td>\n",
              "      <td>3</td>\n",
              "      <td>1</td>\n",
              "      <td>0</td>\n",
              "      <td>0</td>\n",
              "      <td>0</td>\n",
              "      <td>0</td>\n",
              "      <td>0</td>\n",
              "      <td>0</td>\n",
              "      <td>...</td>\n",
              "      <td>0</td>\n",
              "      <td>0</td>\n",
              "      <td>0</td>\n",
              "      <td>0</td>\n",
              "      <td>0</td>\n",
              "      <td>0</td>\n",
              "      <td>0</td>\n",
              "      <td>0</td>\n",
              "      <td>0</td>\n",
              "      <td>0</td>\n",
              "    </tr>\n",
              "  </tbody>\n",
              "</table>\n",
              "<p>3 rows × 244 columns</p>\n",
              "</div>\n",
              "      <button class=\"colab-df-convert\" onclick=\"convertToInteractive('df-4ece7b17-47ec-49f2-95ad-d5a63478f8ef')\"\n",
              "              title=\"Convert this dataframe to an interactive table.\"\n",
              "              style=\"display:none;\">\n",
              "        \n",
              "  <svg xmlns=\"http://www.w3.org/2000/svg\" height=\"24px\"viewBox=\"0 0 24 24\"\n",
              "       width=\"24px\">\n",
              "    <path d=\"M0 0h24v24H0V0z\" fill=\"none\"/>\n",
              "    <path d=\"M18.56 5.44l.94 2.06.94-2.06 2.06-.94-2.06-.94-.94-2.06-.94 2.06-2.06.94zm-11 1L8.5 8.5l.94-2.06 2.06-.94-2.06-.94L8.5 2.5l-.94 2.06-2.06.94zm10 10l.94 2.06.94-2.06 2.06-.94-2.06-.94-.94-2.06-.94 2.06-2.06.94z\"/><path d=\"M17.41 7.96l-1.37-1.37c-.4-.4-.92-.59-1.43-.59-.52 0-1.04.2-1.43.59L10.3 9.45l-7.72 7.72c-.78.78-.78 2.05 0 2.83L4 21.41c.39.39.9.59 1.41.59.51 0 1.02-.2 1.41-.59l7.78-7.78 2.81-2.81c.8-.78.8-2.07 0-2.86zM5.41 20L4 18.59l7.72-7.72 1.47 1.35L5.41 20z\"/>\n",
              "  </svg>\n",
              "      </button>\n",
              "      \n",
              "  <style>\n",
              "    .colab-df-container {\n",
              "      display:flex;\n",
              "      flex-wrap:wrap;\n",
              "      gap: 12px;\n",
              "    }\n",
              "\n",
              "    .colab-df-convert {\n",
              "      background-color: #E8F0FE;\n",
              "      border: none;\n",
              "      border-radius: 50%;\n",
              "      cursor: pointer;\n",
              "      display: none;\n",
              "      fill: #1967D2;\n",
              "      height: 32px;\n",
              "      padding: 0 0 0 0;\n",
              "      width: 32px;\n",
              "    }\n",
              "\n",
              "    .colab-df-convert:hover {\n",
              "      background-color: #E2EBFA;\n",
              "      box-shadow: 0px 1px 2px rgba(60, 64, 67, 0.3), 0px 1px 3px 1px rgba(60, 64, 67, 0.15);\n",
              "      fill: #174EA6;\n",
              "    }\n",
              "\n",
              "    [theme=dark] .colab-df-convert {\n",
              "      background-color: #3B4455;\n",
              "      fill: #D2E3FC;\n",
              "    }\n",
              "\n",
              "    [theme=dark] .colab-df-convert:hover {\n",
              "      background-color: #434B5C;\n",
              "      box-shadow: 0px 1px 3px 1px rgba(0, 0, 0, 0.15);\n",
              "      filter: drop-shadow(0px 1px 2px rgba(0, 0, 0, 0.3));\n",
              "      fill: #FFFFFF;\n",
              "    }\n",
              "  </style>\n",
              "\n",
              "      <script>\n",
              "        const buttonEl =\n",
              "          document.querySelector('#df-4ece7b17-47ec-49f2-95ad-d5a63478f8ef button.colab-df-convert');\n",
              "        buttonEl.style.display =\n",
              "          google.colab.kernel.accessAllowed ? 'block' : 'none';\n",
              "\n",
              "        async function convertToInteractive(key) {\n",
              "          const element = document.querySelector('#df-4ece7b17-47ec-49f2-95ad-d5a63478f8ef');\n",
              "          const dataTable =\n",
              "            await google.colab.kernel.invokeFunction('convertToInteractive',\n",
              "                                                     [key], {});\n",
              "          if (!dataTable) return;\n",
              "\n",
              "          const docLinkHtml = 'Like what you see? Visit the ' +\n",
              "            '<a target=\"_blank\" href=https://colab.research.google.com/notebooks/data_table.ipynb>data table notebook</a>'\n",
              "            + ' to learn more about interactive tables.';\n",
              "          element.innerHTML = '';\n",
              "          dataTable['output_type'] = 'display_data';\n",
              "          await google.colab.output.renderOutput(dataTable, element);\n",
              "          const docLink = document.createElement('div');\n",
              "          docLink.innerHTML = docLinkHtml;\n",
              "          element.appendChild(docLink);\n",
              "        }\n",
              "      </script>\n",
              "    </div>\n",
              "  </div>\n",
              "  "
            ]
          },
          "metadata": {},
          "execution_count": 100
        }
      ]
    },
    {
      "cell_type": "code",
      "source": [
        "X.shape"
      ],
      "metadata": {
        "colab": {
          "base_uri": "https://localhost:8080/"
        },
        "id": "6HsQxp_LSlTD",
        "outputId": "34885d4b-1911-4b90-b7c0-c4bd28bc1e06"
      },
      "execution_count": null,
      "outputs": [
        {
          "output_type": "execute_result",
          "data": {
            "text/plain": [
              "(7251, 244)"
            ]
          },
          "metadata": {},
          "execution_count": 102
        }
      ]
    },
    {
      "cell_type": "code",
      "source": [
        "y = df10.price\n",
        "y.head(3)"
      ],
      "metadata": {
        "colab": {
          "base_uri": "https://localhost:8080/"
        },
        "id": "H2ftaPmRSX9A",
        "outputId": "3d74b9f0-e140-4b1b-874d-7a844f82a54b"
      },
      "execution_count": null,
      "outputs": [
        {
          "output_type": "execute_result",
          "data": {
            "text/plain": [
              "0    428.0\n",
              "1    194.0\n",
              "2    235.0\n",
              "Name: price, dtype: float64"
            ]
          },
          "metadata": {},
          "execution_count": 101
        }
      ]
    },
    {
      "cell_type": "code",
      "source": [
        "from sklearn.model_selection import train_test_split\n",
        "X_train, X_test, y_train, y_test = train_test_split(X,y,test_size=0.2,random_state=10)"
      ],
      "metadata": {
        "id": "coLBfb2KSgeT"
      },
      "execution_count": null,
      "outputs": []
    },
    {
      "cell_type": "code",
      "source": [
        "from sklearn.linear_model import LinearRegression\n",
        "lr_clf = LinearRegression()\n",
        "lr_clf.fit(X_train,y_train)\n",
        "lr_clf.score(X_test,y_test)"
      ],
      "metadata": {
        "colab": {
          "base_uri": "https://localhost:8080/"
        },
        "id": "R_RV7fPMSwSO",
        "outputId": "5f4fc811-8ddb-449b-ff35-1317110403fd"
      },
      "execution_count": null,
      "outputs": [
        {
          "output_type": "execute_result",
          "data": {
            "text/plain": [
              "0.8452277697874383"
            ]
          },
          "metadata": {},
          "execution_count": 104
        }
      ]
    },
    {
      "cell_type": "markdown",
      "source": [
        "**Use K Fold cross validation to measure accuracy of our LinearRegression model**"
      ],
      "metadata": {
        "id": "NMlqZobBTBK7"
      }
    },
    {
      "cell_type": "code",
      "source": [
        "from sklearn.model_selection import ShuffleSplit\n",
        "from sklearn.model_selection import cross_val_score\n",
        "\n",
        "cv = ShuffleSplit(n_splits=5, test_size=0.2, random_state=0)\n",
        "\n",
        "cross_val_score(LinearRegression(), X, y, cv=cv)"
      ],
      "metadata": {
        "colab": {
          "base_uri": "https://localhost:8080/"
        },
        "id": "5tk8UTPzS-lO",
        "outputId": "1fcc6d59-a5dc-4c61-d266-bea68511385a"
      },
      "execution_count": null,
      "outputs": [
        {
          "output_type": "execute_result",
          "data": {
            "text/plain": [
              "array([0.82430186, 0.77166234, 0.85089567, 0.80837764, 0.83653286])"
            ]
          },
          "metadata": {},
          "execution_count": 105
        }
      ]
    },
    {
      "cell_type": "code",
      "source": [
        "from sklearn.model_selection import GridSearchCV\n",
        "\n",
        "from sklearn.linear_model import Lasso\n",
        "from sklearn.tree import DecisionTreeRegressor\n",
        "\n",
        "def find_best_model_using_gridsearchcv(X,y):\n",
        "    algos = {\n",
        "        'linear_regression' : {\n",
        "            'model': LinearRegression(),\n",
        "            'params': {\n",
        "                'normalize': [True, False]\n",
        "            }\n",
        "        },\n",
        "        'lasso': {\n",
        "            'model': Lasso(),\n",
        "            'params': {\n",
        "                'alpha': [1,2],\n",
        "                'selection': ['random', 'cyclic']\n",
        "            }\n",
        "        },\n",
        "        'decision_tree': {\n",
        "            'model': DecisionTreeRegressor(),\n",
        "            'params': {\n",
        "                'criterion' : ['mse','friedman_mse'],\n",
        "                'splitter': ['best','random']\n",
        "            }\n",
        "        }\n",
        "    }\n",
        "    scores = []\n",
        "    cv = ShuffleSplit(n_splits=5, test_size=0.2, random_state=0)\n",
        "    for algo_name, config in algos.items():\n",
        "        gs =  GridSearchCV(config['model'], config['params'], cv=cv, return_train_score=False)\n",
        "        gs.fit(X,y)\n",
        "        scores.append({\n",
        "            'model': algo_name,\n",
        "            'best_score': gs.best_score_,\n",
        "            'best_params': gs.best_params_\n",
        "        })\n",
        "\n",
        "    return pd.DataFrame(scores,columns=['model','best_score','best_params'])\n",
        "\n",
        "find_best_model_using_gridsearchcv(X,y)"
      ],
      "metadata": {
        "colab": {
          "base_uri": "https://localhost:8080/",
          "height": 1000
        },
        "id": "mRe-JrzCTFoN",
        "outputId": "74f56982-c33a-44bf-81dd-bcb88ee1756f"
      },
      "execution_count": null,
      "outputs": [
        {
          "output_type": "stream",
          "name": "stderr",
          "text": [
            "/usr/local/lib/python3.7/dist-packages/sklearn/linear_model/_base.py:145: FutureWarning: 'normalize' was deprecated in version 1.0 and will be removed in 1.2.\n",
            "If you wish to scale the data, use Pipeline with a StandardScaler in a preprocessing stage. To reproduce the previous behavior:\n",
            "\n",
            "from sklearn.pipeline import make_pipeline\n",
            "\n",
            "model = make_pipeline(StandardScaler(with_mean=False), LinearRegression())\n",
            "\n",
            "If you wish to pass a sample_weight parameter, you need to pass it as a fit parameter to each step of the pipeline as follows:\n",
            "\n",
            "kwargs = {s[0] + '__sample_weight': sample_weight for s in model.steps}\n",
            "model.fit(X, y, **kwargs)\n",
            "\n",
            "\n",
            "  FutureWarning,\n",
            "/usr/local/lib/python3.7/dist-packages/sklearn/linear_model/_base.py:145: FutureWarning: 'normalize' was deprecated in version 1.0 and will be removed in 1.2.\n",
            "If you wish to scale the data, use Pipeline with a StandardScaler in a preprocessing stage. To reproduce the previous behavior:\n",
            "\n",
            "from sklearn.pipeline import make_pipeline\n",
            "\n",
            "model = make_pipeline(StandardScaler(with_mean=False), LinearRegression())\n",
            "\n",
            "If you wish to pass a sample_weight parameter, you need to pass it as a fit parameter to each step of the pipeline as follows:\n",
            "\n",
            "kwargs = {s[0] + '__sample_weight': sample_weight for s in model.steps}\n",
            "model.fit(X, y, **kwargs)\n",
            "\n",
            "\n",
            "  FutureWarning,\n",
            "/usr/local/lib/python3.7/dist-packages/sklearn/linear_model/_base.py:145: FutureWarning: 'normalize' was deprecated in version 1.0 and will be removed in 1.2.\n",
            "If you wish to scale the data, use Pipeline with a StandardScaler in a preprocessing stage. To reproduce the previous behavior:\n",
            "\n",
            "from sklearn.pipeline import make_pipeline\n",
            "\n",
            "model = make_pipeline(StandardScaler(with_mean=False), LinearRegression())\n",
            "\n",
            "If you wish to pass a sample_weight parameter, you need to pass it as a fit parameter to each step of the pipeline as follows:\n",
            "\n",
            "kwargs = {s[0] + '__sample_weight': sample_weight for s in model.steps}\n",
            "model.fit(X, y, **kwargs)\n",
            "\n",
            "\n",
            "  FutureWarning,\n",
            "/usr/local/lib/python3.7/dist-packages/sklearn/linear_model/_base.py:145: FutureWarning: 'normalize' was deprecated in version 1.0 and will be removed in 1.2.\n",
            "If you wish to scale the data, use Pipeline with a StandardScaler in a preprocessing stage. To reproduce the previous behavior:\n",
            "\n",
            "from sklearn.pipeline import make_pipeline\n",
            "\n",
            "model = make_pipeline(StandardScaler(with_mean=False), LinearRegression())\n",
            "\n",
            "If you wish to pass a sample_weight parameter, you need to pass it as a fit parameter to each step of the pipeline as follows:\n",
            "\n",
            "kwargs = {s[0] + '__sample_weight': sample_weight for s in model.steps}\n",
            "model.fit(X, y, **kwargs)\n",
            "\n",
            "\n",
            "  FutureWarning,\n",
            "/usr/local/lib/python3.7/dist-packages/sklearn/linear_model/_base.py:145: FutureWarning: 'normalize' was deprecated in version 1.0 and will be removed in 1.2.\n",
            "If you wish to scale the data, use Pipeline with a StandardScaler in a preprocessing stage. To reproduce the previous behavior:\n",
            "\n",
            "from sklearn.pipeline import make_pipeline\n",
            "\n",
            "model = make_pipeline(StandardScaler(with_mean=False), LinearRegression())\n",
            "\n",
            "If you wish to pass a sample_weight parameter, you need to pass it as a fit parameter to each step of the pipeline as follows:\n",
            "\n",
            "kwargs = {s[0] + '__sample_weight': sample_weight for s in model.steps}\n",
            "model.fit(X, y, **kwargs)\n",
            "\n",
            "\n",
            "  FutureWarning,\n",
            "/usr/local/lib/python3.7/dist-packages/sklearn/linear_model/_base.py:155: FutureWarning: 'normalize' was deprecated in version 1.0 and will be removed in 1.2. Please leave the normalize parameter to its default value to silence this warning. The default behavior of this estimator is to not do any normalization. If normalization is needed please use sklearn.preprocessing.StandardScaler instead.\n",
            "  FutureWarning,\n",
            "/usr/local/lib/python3.7/dist-packages/sklearn/linear_model/_base.py:155: FutureWarning: 'normalize' was deprecated in version 1.0 and will be removed in 1.2. Please leave the normalize parameter to its default value to silence this warning. The default behavior of this estimator is to not do any normalization. If normalization is needed please use sklearn.preprocessing.StandardScaler instead.\n",
            "  FutureWarning,\n",
            "/usr/local/lib/python3.7/dist-packages/sklearn/linear_model/_base.py:155: FutureWarning: 'normalize' was deprecated in version 1.0 and will be removed in 1.2. Please leave the normalize parameter to its default value to silence this warning. The default behavior of this estimator is to not do any normalization. If normalization is needed please use sklearn.preprocessing.StandardScaler instead.\n",
            "  FutureWarning,\n",
            "/usr/local/lib/python3.7/dist-packages/sklearn/linear_model/_base.py:155: FutureWarning: 'normalize' was deprecated in version 1.0 and will be removed in 1.2. Please leave the normalize parameter to its default value to silence this warning. The default behavior of this estimator is to not do any normalization. If normalization is needed please use sklearn.preprocessing.StandardScaler instead.\n",
            "  FutureWarning,\n",
            "/usr/local/lib/python3.7/dist-packages/sklearn/linear_model/_base.py:155: FutureWarning: 'normalize' was deprecated in version 1.0 and will be removed in 1.2. Please leave the normalize parameter to its default value to silence this warning. The default behavior of this estimator is to not do any normalization. If normalization is needed please use sklearn.preprocessing.StandardScaler instead.\n",
            "  FutureWarning,\n",
            "/usr/local/lib/python3.7/dist-packages/sklearn/linear_model/_base.py:145: FutureWarning: 'normalize' was deprecated in version 1.0 and will be removed in 1.2.\n",
            "If you wish to scale the data, use Pipeline with a StandardScaler in a preprocessing stage. To reproduce the previous behavior:\n",
            "\n",
            "from sklearn.pipeline import make_pipeline\n",
            "\n",
            "model = make_pipeline(StandardScaler(with_mean=False), LinearRegression())\n",
            "\n",
            "If you wish to pass a sample_weight parameter, you need to pass it as a fit parameter to each step of the pipeline as follows:\n",
            "\n",
            "kwargs = {s[0] + '__sample_weight': sample_weight for s in model.steps}\n",
            "model.fit(X, y, **kwargs)\n",
            "\n",
            "\n",
            "  FutureWarning,\n",
            "/usr/local/lib/python3.7/dist-packages/sklearn/tree/_classes.py:363: FutureWarning: Criterion 'mse' was deprecated in v1.0 and will be removed in version 1.2. Use `criterion='squared_error'` which is equivalent.\n",
            "  FutureWarning,\n",
            "/usr/local/lib/python3.7/dist-packages/sklearn/tree/_classes.py:363: FutureWarning: Criterion 'mse' was deprecated in v1.0 and will be removed in version 1.2. Use `criterion='squared_error'` which is equivalent.\n",
            "  FutureWarning,\n",
            "/usr/local/lib/python3.7/dist-packages/sklearn/tree/_classes.py:363: FutureWarning: Criterion 'mse' was deprecated in v1.0 and will be removed in version 1.2. Use `criterion='squared_error'` which is equivalent.\n",
            "  FutureWarning,\n",
            "/usr/local/lib/python3.7/dist-packages/sklearn/tree/_classes.py:363: FutureWarning: Criterion 'mse' was deprecated in v1.0 and will be removed in version 1.2. Use `criterion='squared_error'` which is equivalent.\n",
            "  FutureWarning,\n",
            "/usr/local/lib/python3.7/dist-packages/sklearn/tree/_classes.py:363: FutureWarning: Criterion 'mse' was deprecated in v1.0 and will be removed in version 1.2. Use `criterion='squared_error'` which is equivalent.\n",
            "  FutureWarning,\n",
            "/usr/local/lib/python3.7/dist-packages/sklearn/tree/_classes.py:363: FutureWarning: Criterion 'mse' was deprecated in v1.0 and will be removed in version 1.2. Use `criterion='squared_error'` which is equivalent.\n",
            "  FutureWarning,\n",
            "/usr/local/lib/python3.7/dist-packages/sklearn/tree/_classes.py:363: FutureWarning: Criterion 'mse' was deprecated in v1.0 and will be removed in version 1.2. Use `criterion='squared_error'` which is equivalent.\n",
            "  FutureWarning,\n",
            "/usr/local/lib/python3.7/dist-packages/sklearn/tree/_classes.py:363: FutureWarning: Criterion 'mse' was deprecated in v1.0 and will be removed in version 1.2. Use `criterion='squared_error'` which is equivalent.\n",
            "  FutureWarning,\n",
            "/usr/local/lib/python3.7/dist-packages/sklearn/tree/_classes.py:363: FutureWarning: Criterion 'mse' was deprecated in v1.0 and will be removed in version 1.2. Use `criterion='squared_error'` which is equivalent.\n",
            "  FutureWarning,\n",
            "/usr/local/lib/python3.7/dist-packages/sklearn/tree/_classes.py:363: FutureWarning: Criterion 'mse' was deprecated in v1.0 and will be removed in version 1.2. Use `criterion='squared_error'` which is equivalent.\n",
            "  FutureWarning,\n"
          ]
        },
        {
          "output_type": "execute_result",
          "data": {
            "text/plain": [
              "               model  best_score  \\\n",
              "0  linear_regression    0.818354   \n",
              "1              lasso    0.687594   \n",
              "2      decision_tree    0.727690   \n",
              "\n",
              "                                         best_params  \n",
              "0                                {'normalize': True}  \n",
              "1                {'alpha': 1, 'selection': 'random'}  \n",
              "2  {'criterion': 'friedman_mse', 'splitter': 'best'}  "
            ],
            "text/html": [
              "\n",
              "  <div id=\"df-1775d060-fbad-4026-bc2d-be623266841b\">\n",
              "    <div class=\"colab-df-container\">\n",
              "      <div>\n",
              "<style scoped>\n",
              "    .dataframe tbody tr th:only-of-type {\n",
              "        vertical-align: middle;\n",
              "    }\n",
              "\n",
              "    .dataframe tbody tr th {\n",
              "        vertical-align: top;\n",
              "    }\n",
              "\n",
              "    .dataframe thead th {\n",
              "        text-align: right;\n",
              "    }\n",
              "</style>\n",
              "<table border=\"1\" class=\"dataframe\">\n",
              "  <thead>\n",
              "    <tr style=\"text-align: right;\">\n",
              "      <th></th>\n",
              "      <th>model</th>\n",
              "      <th>best_score</th>\n",
              "      <th>best_params</th>\n",
              "    </tr>\n",
              "  </thead>\n",
              "  <tbody>\n",
              "    <tr>\n",
              "      <th>0</th>\n",
              "      <td>linear_regression</td>\n",
              "      <td>0.818354</td>\n",
              "      <td>{'normalize': True}</td>\n",
              "    </tr>\n",
              "    <tr>\n",
              "      <th>1</th>\n",
              "      <td>lasso</td>\n",
              "      <td>0.687594</td>\n",
              "      <td>{'alpha': 1, 'selection': 'random'}</td>\n",
              "    </tr>\n",
              "    <tr>\n",
              "      <th>2</th>\n",
              "      <td>decision_tree</td>\n",
              "      <td>0.727690</td>\n",
              "      <td>{'criterion': 'friedman_mse', 'splitter': 'best'}</td>\n",
              "    </tr>\n",
              "  </tbody>\n",
              "</table>\n",
              "</div>\n",
              "      <button class=\"colab-df-convert\" onclick=\"convertToInteractive('df-1775d060-fbad-4026-bc2d-be623266841b')\"\n",
              "              title=\"Convert this dataframe to an interactive table.\"\n",
              "              style=\"display:none;\">\n",
              "        \n",
              "  <svg xmlns=\"http://www.w3.org/2000/svg\" height=\"24px\"viewBox=\"0 0 24 24\"\n",
              "       width=\"24px\">\n",
              "    <path d=\"M0 0h24v24H0V0z\" fill=\"none\"/>\n",
              "    <path d=\"M18.56 5.44l.94 2.06.94-2.06 2.06-.94-2.06-.94-.94-2.06-.94 2.06-2.06.94zm-11 1L8.5 8.5l.94-2.06 2.06-.94-2.06-.94L8.5 2.5l-.94 2.06-2.06.94zm10 10l.94 2.06.94-2.06 2.06-.94-2.06-.94-.94-2.06-.94 2.06-2.06.94z\"/><path d=\"M17.41 7.96l-1.37-1.37c-.4-.4-.92-.59-1.43-.59-.52 0-1.04.2-1.43.59L10.3 9.45l-7.72 7.72c-.78.78-.78 2.05 0 2.83L4 21.41c.39.39.9.59 1.41.59.51 0 1.02-.2 1.41-.59l7.78-7.78 2.81-2.81c.8-.78.8-2.07 0-2.86zM5.41 20L4 18.59l7.72-7.72 1.47 1.35L5.41 20z\"/>\n",
              "  </svg>\n",
              "      </button>\n",
              "      \n",
              "  <style>\n",
              "    .colab-df-container {\n",
              "      display:flex;\n",
              "      flex-wrap:wrap;\n",
              "      gap: 12px;\n",
              "    }\n",
              "\n",
              "    .colab-df-convert {\n",
              "      background-color: #E8F0FE;\n",
              "      border: none;\n",
              "      border-radius: 50%;\n",
              "      cursor: pointer;\n",
              "      display: none;\n",
              "      fill: #1967D2;\n",
              "      height: 32px;\n",
              "      padding: 0 0 0 0;\n",
              "      width: 32px;\n",
              "    }\n",
              "\n",
              "    .colab-df-convert:hover {\n",
              "      background-color: #E2EBFA;\n",
              "      box-shadow: 0px 1px 2px rgba(60, 64, 67, 0.3), 0px 1px 3px 1px rgba(60, 64, 67, 0.15);\n",
              "      fill: #174EA6;\n",
              "    }\n",
              "\n",
              "    [theme=dark] .colab-df-convert {\n",
              "      background-color: #3B4455;\n",
              "      fill: #D2E3FC;\n",
              "    }\n",
              "\n",
              "    [theme=dark] .colab-df-convert:hover {\n",
              "      background-color: #434B5C;\n",
              "      box-shadow: 0px 1px 3px 1px rgba(0, 0, 0, 0.15);\n",
              "      filter: drop-shadow(0px 1px 2px rgba(0, 0, 0, 0.3));\n",
              "      fill: #FFFFFF;\n",
              "    }\n",
              "  </style>\n",
              "\n",
              "      <script>\n",
              "        const buttonEl =\n",
              "          document.querySelector('#df-1775d060-fbad-4026-bc2d-be623266841b button.colab-df-convert');\n",
              "        buttonEl.style.display =\n",
              "          google.colab.kernel.accessAllowed ? 'block' : 'none';\n",
              "\n",
              "        async function convertToInteractive(key) {\n",
              "          const element = document.querySelector('#df-1775d060-fbad-4026-bc2d-be623266841b');\n",
              "          const dataTable =\n",
              "            await google.colab.kernel.invokeFunction('convertToInteractive',\n",
              "                                                     [key], {});\n",
              "          if (!dataTable) return;\n",
              "\n",
              "          const docLinkHtml = 'Like what you see? Visit the ' +\n",
              "            '<a target=\"_blank\" href=https://colab.research.google.com/notebooks/data_table.ipynb>data table notebook</a>'\n",
              "            + ' to learn more about interactive tables.';\n",
              "          element.innerHTML = '';\n",
              "          dataTable['output_type'] = 'display_data';\n",
              "          await google.colab.output.renderOutput(dataTable, element);\n",
              "          const docLink = document.createElement('div');\n",
              "          docLink.innerHTML = docLinkHtml;\n",
              "          element.appendChild(docLink);\n",
              "        }\n",
              "      </script>\n",
              "    </div>\n",
              "  </div>\n",
              "  "
            ]
          },
          "metadata": {},
          "execution_count": 107
        }
      ]
    },
    {
      "cell_type": "code",
      "source": [
        "def predict_price(location,sqft,bath,bhk):    \n",
        "    loc_index = np.where(X.columns==location)[0][0]\n",
        "\n",
        "    x = np.zeros(len(X.columns))\n",
        "    x[0] = sqft\n",
        "    x[1] = bath\n",
        "    x[2] = bhk\n",
        "    if loc_index >= 0:\n",
        "        x[loc_index] = 1\n",
        "\n",
        "    return lr_clf.predict([x])[0]"
      ],
      "metadata": {
        "id": "gntPfpi5T55d"
      },
      "execution_count": null,
      "outputs": []
    },
    {
      "cell_type": "code",
      "source": [
        "predict_price('1st Phase JP Nagar',1000, 2, 2)"
      ],
      "metadata": {
        "colab": {
          "base_uri": "https://localhost:8080/"
        },
        "id": "85rrdlr0UHL1",
        "outputId": "4632b8b5-ddc7-4958-fe3c-363a6b94f565"
      },
      "execution_count": null,
      "outputs": [
        {
          "output_type": "stream",
          "name": "stderr",
          "text": [
            "/usr/local/lib/python3.7/dist-packages/sklearn/base.py:451: UserWarning: X does not have valid feature names, but LinearRegression was fitted with feature names\n",
            "  \"X does not have valid feature names, but\"\n"
          ]
        },
        {
          "output_type": "execute_result",
          "data": {
            "text/plain": [
              "83.49904677207954"
            ]
          },
          "metadata": {},
          "execution_count": 109
        }
      ]
    },
    {
      "cell_type": "code",
      "source": [
        "predict_price('1st Phase JP Nagar',1000, 3, 3)"
      ],
      "metadata": {
        "colab": {
          "base_uri": "https://localhost:8080/"
        },
        "id": "GJB5b4FoUVox",
        "outputId": "670a2555-64e3-42a1-cc72-536cd2c4a846"
      },
      "execution_count": null,
      "outputs": [
        {
          "output_type": "stream",
          "name": "stderr",
          "text": [
            "/usr/local/lib/python3.7/dist-packages/sklearn/base.py:451: UserWarning: X does not have valid feature names, but LinearRegression was fitted with feature names\n",
            "  \"X does not have valid feature names, but\"\n"
          ]
        },
        {
          "output_type": "execute_result",
          "data": {
            "text/plain": [
              "86.80519395234735"
            ]
          },
          "metadata": {},
          "execution_count": 110
        }
      ]
    },
    {
      "cell_type": "code",
      "source": [
        "predict_price('Indira Nagar',1000, 2, 2)"
      ],
      "metadata": {
        "colab": {
          "base_uri": "https://localhost:8080/"
        },
        "id": "K6fzw4iuUbiT",
        "outputId": "c5649fc2-05e5-43d2-efbe-54c4eed05021"
      },
      "execution_count": null,
      "outputs": [
        {
          "output_type": "stream",
          "name": "stderr",
          "text": [
            "/usr/local/lib/python3.7/dist-packages/sklearn/base.py:451: UserWarning: X does not have valid feature names, but LinearRegression was fitted with feature names\n",
            "  \"X does not have valid feature names, but\"\n"
          ]
        },
        {
          "output_type": "execute_result",
          "data": {
            "text/plain": [
              "181.2781548400636"
            ]
          },
          "metadata": {},
          "execution_count": 111
        }
      ]
    },
    {
      "cell_type": "code",
      "source": [
        "predict_price('Whitefield',1000, 2, 2)"
      ],
      "metadata": {
        "colab": {
          "base_uri": "https://localhost:8080/"
        },
        "id": "06x9CkElUezu",
        "outputId": "cf0984d4-98d5-4927-fad1-5021dac311f8"
      },
      "execution_count": null,
      "outputs": [
        {
          "output_type": "stream",
          "name": "stderr",
          "text": [
            "/usr/local/lib/python3.7/dist-packages/sklearn/base.py:451: UserWarning: X does not have valid feature names, but LinearRegression was fitted with feature names\n",
            "  \"X does not have valid feature names, but\"\n"
          ]
        },
        {
          "output_type": "execute_result",
          "data": {
            "text/plain": [
              "53.35838809775622"
            ]
          },
          "metadata": {},
          "execution_count": 113
        }
      ]
    }
  ]
}